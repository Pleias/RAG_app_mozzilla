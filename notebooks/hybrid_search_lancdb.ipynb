{
 "cells": [
  {
   "metadata": {},
   "cell_type": "markdown",
   "source": "### This is an example how to build an index with lancdb and make hybrid search using all-MiniLM-L6-v2 embeddings",
   "id": "c2114df86b3ec4fc"
  },
  {
   "metadata": {},
   "cell_type": "code",
   "outputs": [],
   "execution_count": null,
   "source": [
    "from lancedb.embeddings import get_registry\n",
    "from lancedb.pydantic import LanceModel, Vector\n",
    "model = get_registry().get(\"sentence-transformers\").create(name=\"all-MiniLM-L6-v2\", device=\"cpu\")"
   ],
   "id": "3f6571cf6ac91d99"
  },
  {
   "metadata": {
    "ExecuteTime": {
     "end_time": "2024-10-20T14:45:38.941089Z",
     "start_time": "2024-10-20T14:45:36.814658Z"
    }
   },
   "cell_type": "code",
   "source": [
    "from datasets import load_dataset\n",
    "ds_builder = load_dataset(\"rotten_tomatoes\", split='train')\n",
    "ds_builder = ds_builder.to_pandas()"
   ],
   "id": "b35a26888c3da49b",
   "outputs": [],
   "execution_count": 22
  },
  {
   "metadata": {
    "ExecuteTime": {
     "end_time": "2024-10-20T14:46:18.568069Z",
     "start_time": "2024-10-20T14:46:18.563241Z"
    }
   },
   "cell_type": "code",
   "source": "",
   "id": "c77a384c33dca960",
   "outputs": [
    {
     "data": {
      "text/plain": [
       "                                                   text  label\n",
       "0     the rock is destined to be the 21st century's ...      1\n",
       "1     the gorgeously elaborate continuation of \" the...      1\n",
       "2                        effective but too-tepid biopic      1\n",
       "3     if you sometimes like to go to the movies to h...      1\n",
       "4     emerges as something rare , an issue movie tha...      1\n",
       "...                                                 ...    ...\n",
       "8525  any enjoyment will be hinge from a personal th...      0\n",
       "8526  if legendary shlockmeister ed wood had ever ma...      0\n",
       "8527  hardly a nuanced portrait of a young woman's b...      0\n",
       "8528    interminably bleak , to say nothing of boring .      0\n",
       "8529  things really get weird , though not particula...      0\n",
       "\n",
       "[8530 rows x 2 columns]"
      ],
      "text/html": [
       "<div>\n",
       "<style scoped>\n",
       "    .dataframe tbody tr th:only-of-type {\n",
       "        vertical-align: middle;\n",
       "    }\n",
       "\n",
       "    .dataframe tbody tr th {\n",
       "        vertical-align: top;\n",
       "    }\n",
       "\n",
       "    .dataframe thead th {\n",
       "        text-align: right;\n",
       "    }\n",
       "</style>\n",
       "<table border=\"1\" class=\"dataframe\">\n",
       "  <thead>\n",
       "    <tr style=\"text-align: right;\">\n",
       "      <th></th>\n",
       "      <th>text</th>\n",
       "      <th>label</th>\n",
       "    </tr>\n",
       "  </thead>\n",
       "  <tbody>\n",
       "    <tr>\n",
       "      <th>0</th>\n",
       "      <td>the rock is destined to be the 21st century's ...</td>\n",
       "      <td>1</td>\n",
       "    </tr>\n",
       "    <tr>\n",
       "      <th>1</th>\n",
       "      <td>the gorgeously elaborate continuation of \" the...</td>\n",
       "      <td>1</td>\n",
       "    </tr>\n",
       "    <tr>\n",
       "      <th>2</th>\n",
       "      <td>effective but too-tepid biopic</td>\n",
       "      <td>1</td>\n",
       "    </tr>\n",
       "    <tr>\n",
       "      <th>3</th>\n",
       "      <td>if you sometimes like to go to the movies to h...</td>\n",
       "      <td>1</td>\n",
       "    </tr>\n",
       "    <tr>\n",
       "      <th>4</th>\n",
       "      <td>emerges as something rare , an issue movie tha...</td>\n",
       "      <td>1</td>\n",
       "    </tr>\n",
       "    <tr>\n",
       "      <th>...</th>\n",
       "      <td>...</td>\n",
       "      <td>...</td>\n",
       "    </tr>\n",
       "    <tr>\n",
       "      <th>8525</th>\n",
       "      <td>any enjoyment will be hinge from a personal th...</td>\n",
       "      <td>0</td>\n",
       "    </tr>\n",
       "    <tr>\n",
       "      <th>8526</th>\n",
       "      <td>if legendary shlockmeister ed wood had ever ma...</td>\n",
       "      <td>0</td>\n",
       "    </tr>\n",
       "    <tr>\n",
       "      <th>8527</th>\n",
       "      <td>hardly a nuanced portrait of a young woman's b...</td>\n",
       "      <td>0</td>\n",
       "    </tr>\n",
       "    <tr>\n",
       "      <th>8528</th>\n",
       "      <td>interminably bleak , to say nothing of boring .</td>\n",
       "      <td>0</td>\n",
       "    </tr>\n",
       "    <tr>\n",
       "      <th>8529</th>\n",
       "      <td>things really get weird , though not particula...</td>\n",
       "      <td>0</td>\n",
       "    </tr>\n",
       "  </tbody>\n",
       "</table>\n",
       "<p>8530 rows × 2 columns</p>\n",
       "</div>"
      ]
     },
     "execution_count": 27,
     "metadata": {},
     "output_type": "execute_result"
    }
   ],
   "execution_count": 27
  },
  {
   "metadata": {
    "ExecuteTime": {
     "end_time": "2024-10-20T14:45:39.588305Z",
     "start_time": "2024-10-20T14:45:39.557085Z"
    }
   },
   "cell_type": "code",
   "source": [
    "class VanillaDocuments(LanceModel):\n",
    "    vector: Vector(model.ndims()) = model.VectorField()  # Default field\n",
    "    text: str = (model.SourceField())  # the Columns (field) in DB whose Embedding we'll create"
   ],
   "id": "6d07c0f2abc1db7e",
   "outputs": [],
   "execution_count": 23
  },
  {
   "metadata": {
    "ExecuteTime": {
     "end_time": "2024-10-20T14:45:53.513499Z",
     "start_time": "2024-10-20T14:45:53.356612Z"
    }
   },
   "cell_type": "code",
   "source": "!rm -rf ./db",
   "id": "db53a69581bf4e03",
   "outputs": [
    {
     "name": "stderr",
     "output_type": "stream",
     "text": [
      "huggingface/tokenizers: The current process just got forked, after parallelism has already been used. Disabling parallelism to avoid deadlocks...\n",
      "To disable this warning, you can either:\n",
      "\t- Avoid using `tokenizers` before the fork if possible\n",
      "\t- Explicitly set the environment variable TOKENIZERS_PARALLELISM=(true | false)\n"
     ]
    }
   ],
   "execution_count": 25
  },
  {
   "metadata": {
    "ExecuteTime": {
     "end_time": "2024-10-20T14:46:10.043662Z",
     "start_time": "2024-10-20T14:45:56.047245Z"
    }
   },
   "cell_type": "code",
   "source": [
    "import lancedb\n",
    "db = lancedb.connect(\"./db\")\n",
    "vanilla_table = db.create_table(\"vanilla_documents\", schema=VanillaDocuments)\n",
    "vanilla_table.add(ds_builder)  # ingest docs with auto-vectorization\n",
    "vanilla_table.create_fts_index(\"text\")  "
   ],
   "id": "eaf44ebfab1efccf",
   "outputs": [],
   "execution_count": 26
  },
  {
   "metadata": {
    "ExecuteTime": {
     "end_time": "2024-10-20T13:56:20.163985Z",
     "start_time": "2024-10-20T13:56:20.136661Z"
    }
   },
   "cell_type": "code",
   "source": [
    "QUERY = \"implement corpus management with event handling\"\n",
    "vanilla_table.search(QUERY, query_type=\"hybrid\").limit(3).to_pandas()"
   ],
   "id": "8d2f5f6398734d",
   "outputs": [
    {
     "data": {
      "text/plain": [
       "                                              vector  \\\n",
       "0  [-0.02525873, -0.039976526, 0.02436699, 0.0064...   \n",
       "1  [0.0061905687, 0.07616369, -0.03621763, -0.031...   \n",
       "2  [-0.009595144, -0.044449616, 0.023243582, -0.0...   \n",
       "\n",
       "                                                text  _relevance_score  \n",
       "0  corpus collosum -- while undeniably interestin...          0.016393  \n",
       "1  a literate presentation that wonderfully weave...          0.016393  \n",
       "2  it's traditional moviemaking all the way , but...          0.016129  "
      ],
      "text/html": [
       "<div>\n",
       "<style scoped>\n",
       "    .dataframe tbody tr th:only-of-type {\n",
       "        vertical-align: middle;\n",
       "    }\n",
       "\n",
       "    .dataframe tbody tr th {\n",
       "        vertical-align: top;\n",
       "    }\n",
       "\n",
       "    .dataframe thead th {\n",
       "        text-align: right;\n",
       "    }\n",
       "</style>\n",
       "<table border=\"1\" class=\"dataframe\">\n",
       "  <thead>\n",
       "    <tr style=\"text-align: right;\">\n",
       "      <th></th>\n",
       "      <th>vector</th>\n",
       "      <th>text</th>\n",
       "      <th>_relevance_score</th>\n",
       "    </tr>\n",
       "  </thead>\n",
       "  <tbody>\n",
       "    <tr>\n",
       "      <th>0</th>\n",
       "      <td>[-0.02525873, -0.039976526, 0.02436699, 0.0064...</td>\n",
       "      <td>corpus collosum -- while undeniably interestin...</td>\n",
       "      <td>0.016393</td>\n",
       "    </tr>\n",
       "    <tr>\n",
       "      <th>1</th>\n",
       "      <td>[0.0061905687, 0.07616369, -0.03621763, -0.031...</td>\n",
       "      <td>a literate presentation that wonderfully weave...</td>\n",
       "      <td>0.016393</td>\n",
       "    </tr>\n",
       "    <tr>\n",
       "      <th>2</th>\n",
       "      <td>[-0.009595144, -0.044449616, 0.023243582, -0.0...</td>\n",
       "      <td>it's traditional moviemaking all the way , but...</td>\n",
       "      <td>0.016129</td>\n",
       "    </tr>\n",
       "  </tbody>\n",
       "</table>\n",
       "</div>"
      ]
     },
     "execution_count": 20,
     "metadata": {},
     "output_type": "execute_result"
    }
   ],
   "execution_count": 20
  },
  {
   "metadata": {},
   "cell_type": "code",
   "outputs": [],
   "execution_count": null,
   "source": "",
   "id": "5832ce5955865d82"
  }
 ],
 "metadata": {
  "kernelspec": {
   "display_name": "Python 3",
   "language": "python",
   "name": "python3"
  },
  "language_info": {
   "codemirror_mode": {
    "name": "ipython",
    "version": 2
   },
   "file_extension": ".py",
   "mimetype": "text/x-python",
   "name": "python",
   "nbconvert_exporter": "python",
   "pygments_lexer": "ipython2",
   "version": "2.7.6"
  }
 },
 "nbformat": 4,
 "nbformat_minor": 5
}
