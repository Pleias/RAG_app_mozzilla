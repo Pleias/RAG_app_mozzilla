{
 "cells": [
  {
   "cell_type": "code",
   "id": "initial_id",
   "metadata": {
    "collapsed": true,
    "ExecuteTime": {
     "end_time": "2024-10-29T22:05:11.295382Z",
     "start_time": "2024-10-29T22:05:11.288058Z"
    }
   },
   "source": [
    "import sqlite3\n",
    "import os\n",
    "\n",
    "pdf_db_path = \"app_storage/metadata/pdf_documents.db\"\n",
    "\n",
    "\n",
    "def init_pdf_database():\n",
    "    \"\"\"Creates the SQLite database for PDF metadata if it doesn’t already exist.\"\"\"\n",
    "    if not os.path.exists(pdf_db_path):\n",
    "        connection = sqlite3.connect(pdf_db_path)\n",
    "        cursor = connection.cursor()\n",
    "        cursor.execute('''\n",
    "            CREATE TABLE IF NOT EXISTS pdf_metadata (\n",
    "                id INTEGER PRIMARY KEY,\n",
    "                file_name TEXT,\n",
    "                file_path TEXT,\n",
    "                title TEXT,\n",
    "                author TEXT,\n",
    "                creation_date TEXT,\n",
    "                subject TEXT\n",
    "            )\n",
    "        ''')\n",
    "        connection.commit()\n",
    "        connection.close()\n",
    "\n",
    "\n",
    "def insert_pdf_metadata(file_name, file_path, metadata):\n",
    "    \"\"\"Inserts metadata for a PDF into the database.\n",
    "    Accepts file_name, file_path, and a dictionary of metadata fields.\"\"\"\n",
    "    connection = sqlite3.connect(pdf_db_path)\n",
    "    cursor = connection.cursor()\n",
    "    cursor.execute('''\n",
    "        INSERT INTO pdf_metadata (file_name, file_path, title, author, creation_date, subject)\n",
    "        VALUES (?, ?, ?, ?, ?, ?)\n",
    "    ''', (file_name, file_path, metadata.get('title'), metadata.get('author'),\n",
    "          metadata.get('creation_date'), metadata.get('subject')))\n",
    "    connection.commit()\n",
    "    connection.close()"
   ],
   "outputs": [],
   "execution_count": 1
  },
  {
   "metadata": {
    "ExecuteTime": {
     "end_time": "2024-10-29T22:05:12.289234Z",
     "start_time": "2024-10-29T22:05:12.286688Z"
    }
   },
   "cell_type": "code",
   "source": "pdf_db_path = \"app_storage/metadata/pdf_documents.db\"",
   "id": "a35f761dcdf4b746",
   "outputs": [],
   "execution_count": 2
  },
  {
   "metadata": {
    "ExecuteTime": {
     "end_time": "2024-10-29T22:05:13.433095Z",
     "start_time": "2024-10-29T22:05:13.021781Z"
    }
   },
   "cell_type": "code",
   "source": [
    "import sqlite3\n",
    "import sqlite_vec\n",
    "\n",
    "db = sqlite3.connect('app_storage/metadata/pdf_documents.db')\n",
    "db.enable_load_extension(True)\n",
    "sqlite_vec.load(db)\n",
    "db.enable_load_extension(False)\n",
    "# \n",
    "# vec_version, = db.execute(\"select vec_version()\").fetchone()\n",
    "# print(f\"vec_version={vec_version}\")"
   ],
   "id": "88f7e440b1013fdc",
   "outputs": [
    {
     "ename": "OperationalError",
     "evalue": "unable to open database file",
     "output_type": "error",
     "traceback": [
      "\u001B[0;31m---------------------------------------------------------------------------\u001B[0m",
      "\u001B[0;31mOperationalError\u001B[0m                          Traceback (most recent call last)",
      "Cell \u001B[0;32mIn[3], line 4\u001B[0m\n\u001B[1;32m      1\u001B[0m \u001B[38;5;28;01mimport\u001B[39;00m \u001B[38;5;21;01msqlite3\u001B[39;00m\n\u001B[1;32m      2\u001B[0m \u001B[38;5;28;01mimport\u001B[39;00m \u001B[38;5;21;01msqlite_vec\u001B[39;00m\n\u001B[0;32m----> 4\u001B[0m db \u001B[38;5;241m=\u001B[39m \u001B[43msqlite3\u001B[49m\u001B[38;5;241;43m.\u001B[39;49m\u001B[43mconnect\u001B[49m\u001B[43m(\u001B[49m\u001B[38;5;124;43m'\u001B[39;49m\u001B[38;5;124;43mapp_storage/metadata/pdf_documents.db\u001B[39;49m\u001B[38;5;124;43m'\u001B[39;49m\u001B[43m)\u001B[49m\n\u001B[1;32m      5\u001B[0m db\u001B[38;5;241m.\u001B[39menable_load_extension(\u001B[38;5;28;01mTrue\u001B[39;00m)\n\u001B[1;32m      6\u001B[0m sqlite_vec\u001B[38;5;241m.\u001B[39mload(db)\n",
      "\u001B[0;31mOperationalError\u001B[0m: unable to open database file"
     ]
    }
   ],
   "execution_count": 3
  },
  {
   "metadata": {
    "ExecuteTime": {
     "end_time": "2024-10-29T22:17:48.997537Z",
     "start_time": "2024-10-29T22:17:48.993191Z"
    }
   },
   "cell_type": "code",
   "source": [
    "file_path = '/Users/aapoliakova/PycharmProjects/RAG_app_mozzilla/app_storage/pdfs/test1.pdf'\n",
    "metadata = {'file_path': file_path, 'file_name': \"some test file name\", \"author\": \"some author\", \"subject\": \"some subject\"}\n",
    "extracted_pdf = [\n",
    "(1, \"text of chunk one\"),\n",
    "(2, \"text of chunk two\"),\n",
    "(3, \"text of chunk three\"),\n",
    "(4, \"text of chunk four\")\n",
    "]\n",
    "\n",
    "\n",
    "\n",
    "embeddings = [\n",
    "    (1, [0.1, 0.1, 0.1, 0.1]),\n",
    "    (2, [0.2, 0.2, 0.2, 0.2]),\n",
    "    (3, [0.3, 0.3, 0.3, 0.3]),\n",
    "    (4, [0.4, 0.4, 0.4, 0.4]),\n",
    "]"
   ],
   "id": "5bbfe8179e5c58b5",
   "outputs": [],
   "execution_count": 9
  },
  {
   "metadata": {
    "ExecuteTime": {
     "end_time": "2024-10-29T22:31:23.600600Z",
     "start_time": "2024-10-29T22:31:23.594304Z"
    }
   },
   "cell_type": "code",
   "source": [
    "def create_one_document_entries(metadata, extracted_pdf, embeddings):\n",
    "    entries = []\n",
    "    for (i, chunk), (i, embedding) in zip(extracted_pdf, embeddings):\n",
    "        entries.append((i, chunk, embedding, metadata['file_path'], metadata['file_name'], metadata['author'], metadata['subject']))\n",
    "        return entries\n",
    "    \n",
    "entries = create_one_document_entries(metadata, extracted_pdf, embeddings)\n",
    "entries[0]"
   ],
   "id": "c5daf2ca109c4559",
   "outputs": [
    {
     "data": {
      "text/plain": [
       "(1,\n",
       " 'text of chunk one',\n",
       " [0.1, 0.1, 0.1, 0.1],\n",
       " '/Users/aapoliakova/PycharmProjects/RAG_app_mozzilla/app_storage/pdfs/test1.pdf',\n",
       " 'some test file name',\n",
       " 'some author',\n",
       " 'some subject')"
      ]
     },
     "execution_count": 16,
     "metadata": {},
     "output_type": "execute_result"
    }
   ],
   "execution_count": 16
  },
  {
   "metadata": {
    "ExecuteTime": {
     "end_time": "2024-10-29T22:32:42.892335Z",
     "start_time": "2024-10-29T22:32:42.884566Z"
    }
   },
   "cell_type": "code",
   "source": [
    "import sqlite3\n",
    "import sqlite_vec\n",
    "\n",
    "db = sqlite3.connect(\"tmp_database\")\n",
    "db.enable_load_extension(True)\n",
    "sqlite_vec.load(db)\n",
    "db.enable_load_extension(False)\n",
    "\n",
    "\n",
    "db.execute(\"CREATE VIRTUAL TABLE vec_items USING vec0(embedding float[4])\")"
   ],
   "id": "117c38e3cb94106c",
   "outputs": [
    {
     "data": {
      "text/plain": [
       "<sqlite3.Cursor at 0x12421dd40>"
      ]
     },
     "execution_count": 22,
     "metadata": {},
     "output_type": "execute_result"
    }
   ],
   "execution_count": 22
  },
  {
   "metadata": {
    "ExecuteTime": {
     "end_time": "2024-10-29T23:07:27.169027Z",
     "start_time": "2024-10-29T23:07:27.147768Z"
    }
   },
   "cell_type": "code",
   "source": [
    "import sqlite3\n",
    "import sqlite_vec\n",
    "\n",
    "from typing import List\n",
    "import struct\n",
    "\n",
    "db.execute(\"DROP TABLE IF EXISTS vec_items\")\n",
    "# db.execute(\"DROP TABLE IF EXISTS metadata\")\n",
    "def serialize_f32(vector: List[float]) -> bytes:\n",
    "    \"\"\"serializes a list of floats into a compact \"raw bytes\" format\"\"\"\n",
    "    return struct.pack(\"%sf\" % len(vector), *vector)\n",
    "\n",
    "\n",
    "db = sqlite3.connect(\"tmp_database\")\n",
    "db.enable_load_extension(True)\n",
    "sqlite_vec.load(db)\n",
    "\n",
    "\n",
    "sqlite_version, vec_version = db.execute(\n",
    "    \"select sqlite_version(), vec_version()\"\n",
    ").fetchone()\n",
    "print(f\"sqlite_version={sqlite_version}, vec_version={vec_version}\")\n",
    "\n",
    "items = [\n",
    "    (1, 1, [0.1, 0.1, 0.1, 0.1]),\n",
    "    (2, 2, [0.2, 0.2, 0.2, 0.2]),\n",
    "    (3, 2, [0.3, 0.3, 0.3, 0.3]),\n",
    "    (4, 3, [0.4, 0.4, 0.4, 0.4]),\n",
    "]\n",
    "query = [0.3, 0.3, 0.3, 0.3]\n",
    "\n",
    "db.execute(\"\"\"CREATE VIRTUAL TABLE vec_items USING vec0(\n",
    "    article_id primary key, \n",
    "    document_id primary key,\n",
    "    embedding float[4])\"\"\")\n",
    "# create virtual table vec_articles using vec0(\n",
    "#   article_id integer primary key,\n",
    "#   headline_embedding float[768]\n",
    "# );\n",
    "with db:\n",
    "    for item in items:\n",
    "        db.execute(\n",
    "            \"INSERT INTO vec_items(rowid, id, embedding) VALUES (?, ?, ?)\",\n",
    "            [item[0], item[1], serialize_f32(item[2])],\n",
    "        )\n",
    "\n",
    "rows = db.execute(\n",
    "    \"\"\"\n",
    "      SELECT\n",
    "        rowid,\n",
    "        distance\n",
    "      FROM vec_items\n",
    "      WHERE embedding MATCH ?\n",
    "      ORDER BY distance\n",
    "      LIMIT 3\n",
    "    \"\"\",\n",
    "    [serialize_f32(query)],\n",
    ").fetchall()\n",
    "\n",
    "print(rows)"
   ],
   "id": "6267bbfa7c2256de",
   "outputs": [
    {
     "name": "stdout",
     "output_type": "stream",
     "text": [
      "sqlite_version=3.45.3, vec_version=v0.1.3\n"
     ]
    },
    {
     "ename": "OperationalError",
     "evalue": "vec0 constructor error: Unknown table option: article_id",
     "output_type": "error",
     "traceback": [
      "\u001B[0;31m---------------------------------------------------------------------------\u001B[0m",
      "\u001B[0;31mOperationalError\u001B[0m                          Traceback (most recent call last)",
      "Cell \u001B[0;32mIn[16], line 32\u001B[0m\n\u001B[1;32m     24\u001B[0m items \u001B[38;5;241m=\u001B[39m [\n\u001B[1;32m     25\u001B[0m     (\u001B[38;5;241m1\u001B[39m, \u001B[38;5;241m1\u001B[39m, [\u001B[38;5;241m0.1\u001B[39m, \u001B[38;5;241m0.1\u001B[39m, \u001B[38;5;241m0.1\u001B[39m, \u001B[38;5;241m0.1\u001B[39m]),\n\u001B[1;32m     26\u001B[0m     (\u001B[38;5;241m2\u001B[39m, \u001B[38;5;241m2\u001B[39m, [\u001B[38;5;241m0.2\u001B[39m, \u001B[38;5;241m0.2\u001B[39m, \u001B[38;5;241m0.2\u001B[39m, \u001B[38;5;241m0.2\u001B[39m]),\n\u001B[1;32m     27\u001B[0m     (\u001B[38;5;241m3\u001B[39m, \u001B[38;5;241m2\u001B[39m, [\u001B[38;5;241m0.3\u001B[39m, \u001B[38;5;241m0.3\u001B[39m, \u001B[38;5;241m0.3\u001B[39m, \u001B[38;5;241m0.3\u001B[39m]),\n\u001B[1;32m     28\u001B[0m     (\u001B[38;5;241m4\u001B[39m, \u001B[38;5;241m3\u001B[39m, [\u001B[38;5;241m0.4\u001B[39m, \u001B[38;5;241m0.4\u001B[39m, \u001B[38;5;241m0.4\u001B[39m, \u001B[38;5;241m0.4\u001B[39m]),\n\u001B[1;32m     29\u001B[0m ]\n\u001B[1;32m     30\u001B[0m query \u001B[38;5;241m=\u001B[39m [\u001B[38;5;241m0.3\u001B[39m, \u001B[38;5;241m0.3\u001B[39m, \u001B[38;5;241m0.3\u001B[39m, \u001B[38;5;241m0.3\u001B[39m]\n\u001B[0;32m---> 32\u001B[0m \u001B[43mdb\u001B[49m\u001B[38;5;241;43m.\u001B[39;49m\u001B[43mexecute\u001B[49m\u001B[43m(\u001B[49m\u001B[38;5;124;43m\"\"\"\u001B[39;49m\u001B[38;5;124;43mCREATE VIRTUAL TABLE vec_items USING vec0(\u001B[39;49m\n\u001B[1;32m     33\u001B[0m \u001B[38;5;124;43m    article_id primary key, \u001B[39;49m\n\u001B[1;32m     34\u001B[0m \u001B[38;5;124;43m    document_id primary key,\u001B[39;49m\n\u001B[1;32m     35\u001B[0m \u001B[38;5;124;43m    embedding float[4])\u001B[39;49m\u001B[38;5;124;43m\"\"\"\u001B[39;49m\u001B[43m)\u001B[49m\n\u001B[1;32m     36\u001B[0m \u001B[38;5;66;03m# create virtual table vec_articles using vec0(\u001B[39;00m\n\u001B[1;32m     37\u001B[0m \u001B[38;5;66;03m#   article_id integer primary key,\u001B[39;00m\n\u001B[1;32m     38\u001B[0m \u001B[38;5;66;03m#   headline_embedding float[768]\u001B[39;00m\n\u001B[1;32m     39\u001B[0m \u001B[38;5;66;03m# );\u001B[39;00m\n\u001B[1;32m     40\u001B[0m \u001B[38;5;28;01mwith\u001B[39;00m db:\n",
      "\u001B[0;31mOperationalError\u001B[0m: vec0 constructor error: Unknown table option: article_id"
     ]
    }
   ],
   "execution_count": 16
  },
  {
   "metadata": {
    "ExecuteTime": {
     "end_time": "2024-10-29T21:56:38.479226Z",
     "start_time": "2024-10-29T21:56:38.223207Z"
    }
   },
   "cell_type": "code",
   "source": "db.execute('SELECT * FROM pdf_metadata')",
   "id": "e423fe6093a07a5d",
   "outputs": [
    {
     "ename": "OperationalError",
     "evalue": "no such table: pdf_metadata",
     "output_type": "error",
     "traceback": [
      "\u001B[0;31m---------------------------------------------------------------------------\u001B[0m",
      "\u001B[0;31mOperationalError\u001B[0m                          Traceback (most recent call last)",
      "Cell \u001B[0;32mIn[6], line 1\u001B[0m\n\u001B[0;32m----> 1\u001B[0m \u001B[43mdb\u001B[49m\u001B[38;5;241;43m.\u001B[39;49m\u001B[43mexecute\u001B[49m\u001B[43m(\u001B[49m\u001B[38;5;124;43m'\u001B[39;49m\u001B[38;5;124;43mSELECT * FROM pdf_metadata\u001B[39;49m\u001B[38;5;124;43m'\u001B[39;49m\u001B[43m)\u001B[49m\n",
      "\u001B[0;31mOperationalError\u001B[0m: no such table: pdf_metadata"
     ]
    }
   ],
   "execution_count": 6
  },
  {
   "metadata": {},
   "cell_type": "code",
   "outputs": [
    {
     "name": "stdout",
     "output_type": "stream",
     "text": [
      "sqlite_version=3.45.3, vec_version=v0.1.3\n"
     ]
    },
    {
     "ename": "OperationalError",
     "evalue": "near \"chunk_id\": syntax error",
     "output_type": "error",
     "traceback": [
      "\u001B[0;31m---------------------------------------------------------------------------\u001B[0m",
      "\u001B[0;31mOperationalError\u001B[0m                          Traceback (most recent call last)",
      "Cell \u001B[0;32mIn[25], line 25\u001B[0m\n\u001B[1;32m     22\u001B[0m \u001B[38;5;28mprint\u001B[39m(\u001B[38;5;124mf\u001B[39m\u001B[38;5;124m\"\u001B[39m\u001B[38;5;124msqlite_version=\u001B[39m\u001B[38;5;132;01m{\u001B[39;00msqlite_version\u001B[38;5;132;01m}\u001B[39;00m\u001B[38;5;124m, vec_version=\u001B[39m\u001B[38;5;132;01m{\u001B[39;00mvec_version\u001B[38;5;132;01m}\u001B[39;00m\u001B[38;5;124m\"\u001B[39m)\n\u001B[1;32m     23\u001B[0m \u001B[38;5;66;03m# db.execute(\"CREATE VIRTUAL TABLE vec_items USING vec0(embedding float[4])\")\u001B[39;00m\n\u001B[1;32m     24\u001B[0m \u001B[38;5;66;03m# Create a virtual table with additional columns for metadata\u001B[39;00m\n\u001B[0;32m---> 25\u001B[0m \u001B[43mdb\u001B[49m\u001B[38;5;241;43m.\u001B[39;49m\u001B[43mexecute\u001B[49m\u001B[43m(\u001B[49m\u001B[38;5;124;43m\"\"\"\u001B[39;49m\n\u001B[1;32m     26\u001B[0m \u001B[38;5;124;43m    CREATE VIRTUAL TABLE vec_items USING vec0(embedding float[4])\u001B[39;49m\n\u001B[1;32m     27\u001B[0m \u001B[38;5;124;43m        chunk_id INTEGER PRIMARY KEY,  \u001B[39;49m\n\u001B[1;32m     28\u001B[0m \u001B[38;5;124;43m        chunk_text TEXT,  \u001B[39;49m\n\u001B[1;32m     29\u001B[0m \u001B[38;5;124;43m        file_path TEXT,  \u001B[39;49m\n\u001B[1;32m     30\u001B[0m \u001B[38;5;124;43m        file_name TEXT,  \u001B[39;49m\n\u001B[1;32m     31\u001B[0m \u001B[38;5;124;43m        author TEXT,  \u001B[39;49m\n\u001B[1;32m     32\u001B[0m \u001B[38;5;124;43m        abstract TEXT \u001B[39;49m\n\u001B[1;32m     33\u001B[0m \u001B[38;5;124;43m    )\u001B[39;49m\n\u001B[1;32m     34\u001B[0m \u001B[38;5;124;43m\"\"\"\u001B[39;49m\u001B[43m)\u001B[49m\n\u001B[1;32m     36\u001B[0m \u001B[38;5;66;03m# Sample data entries\u001B[39;00m\n\u001B[1;32m     37\u001B[0m items \u001B[38;5;241m=\u001B[39m [\n\u001B[1;32m     38\u001B[0m     (\u001B[38;5;241m1\u001B[39m, [\u001B[38;5;241m0.1\u001B[39m, \u001B[38;5;241m0.1\u001B[39m, \u001B[38;5;241m0.1\u001B[39m, \u001B[38;5;241m0.1\u001B[39m], \u001B[38;5;124m\"\u001B[39m\u001B[38;5;124mChunk text 1\u001B[39m\u001B[38;5;124m\"\u001B[39m, \u001B[38;5;124m\"\u001B[39m\u001B[38;5;124m/path/to/file1\u001B[39m\u001B[38;5;124m\"\u001B[39m, \u001B[38;5;124m\"\u001B[39m\u001B[38;5;124mfile1.pdf\u001B[39m\u001B[38;5;124m\"\u001B[39m, \u001B[38;5;124m\"\u001B[39m\u001B[38;5;124mAuthor A\u001B[39m\u001B[38;5;124m\"\u001B[39m, \u001B[38;5;124m\"\u001B[39m\u001B[38;5;124mAbstract A\u001B[39m\u001B[38;5;124m\"\u001B[39m),\n\u001B[1;32m     39\u001B[0m     (\u001B[38;5;241m2\u001B[39m, [\u001B[38;5;241m0.2\u001B[39m, \u001B[38;5;241m0.2\u001B[39m, \u001B[38;5;241m0.2\u001B[39m, \u001B[38;5;241m0.2\u001B[39m], \u001B[38;5;124m\"\u001B[39m\u001B[38;5;124mChunk text 2\u001B[39m\u001B[38;5;124m\"\u001B[39m, \u001B[38;5;124m\"\u001B[39m\u001B[38;5;124m/path/to/file1\u001B[39m\u001B[38;5;124m\"\u001B[39m, \u001B[38;5;124m\"\u001B[39m\u001B[38;5;124mfile1.pdf\u001B[39m\u001B[38;5;124m\"\u001B[39m, \u001B[38;5;124m\"\u001B[39m\u001B[38;5;124mAuthor A\u001B[39m\u001B[38;5;124m\"\u001B[39m, \u001B[38;5;124m\"\u001B[39m\u001B[38;5;124mAbstract A\u001B[39m\u001B[38;5;124m\"\u001B[39m),\n\u001B[1;32m     40\u001B[0m     (\u001B[38;5;241m3\u001B[39m, [\u001B[38;5;241m0.3\u001B[39m, \u001B[38;5;241m0.3\u001B[39m, \u001B[38;5;241m0.3\u001B[39m, \u001B[38;5;241m0.3\u001B[39m], \u001B[38;5;124m\"\u001B[39m\u001B[38;5;124mChunk text 3\u001B[39m\u001B[38;5;124m\"\u001B[39m, \u001B[38;5;124m\"\u001B[39m\u001B[38;5;124m/path/to/file2\u001B[39m\u001B[38;5;124m\"\u001B[39m, \u001B[38;5;124m\"\u001B[39m\u001B[38;5;124mfile2.pdf\u001B[39m\u001B[38;5;124m\"\u001B[39m, \u001B[38;5;124m\"\u001B[39m\u001B[38;5;124mAuthor B\u001B[39m\u001B[38;5;124m\"\u001B[39m, \u001B[38;5;124m\"\u001B[39m\u001B[38;5;124mAbstract B\u001B[39m\u001B[38;5;124m\"\u001B[39m),\n\u001B[1;32m     41\u001B[0m     (\u001B[38;5;241m4\u001B[39m, [\u001B[38;5;241m0.4\u001B[39m, \u001B[38;5;241m0.4\u001B[39m, \u001B[38;5;241m0.4\u001B[39m, \u001B[38;5;241m0.4\u001B[39m], \u001B[38;5;124m\"\u001B[39m\u001B[38;5;124mChunk text 4\u001B[39m\u001B[38;5;124m\"\u001B[39m, \u001B[38;5;124m\"\u001B[39m\u001B[38;5;124m/path/to/file3\u001B[39m\u001B[38;5;124m\"\u001B[39m, \u001B[38;5;124m\"\u001B[39m\u001B[38;5;124mfile3.pdf\u001B[39m\u001B[38;5;124m\"\u001B[39m, \u001B[38;5;124m\"\u001B[39m\u001B[38;5;124mAuthor C\u001B[39m\u001B[38;5;124m\"\u001B[39m, \u001B[38;5;124m\"\u001B[39m\u001B[38;5;124mAbstract C\u001B[39m\u001B[38;5;124m\"\u001B[39m),\n\u001B[1;32m     42\u001B[0m ]\n",
      "\u001B[0;31mOperationalError\u001B[0m: near \"chunk_id\": syntax error"
     ]
    }
   ],
   "execution_count": 25,
   "source": [
    "import sqlite3\n",
    "import sqlite_vec\n",
    "from typing import List\n",
    "import struct\n",
    "\n",
    "\n",
    "def serialize_f32(vector: List[float]) -> bytes:\n",
    "    \"\"\"Serializes a list of floats into a compact 'raw bytes' format\"\"\"\n",
    "    return struct.pack(\"%sf\" % len(vector), *vector)\n",
    "\n",
    "\n",
    "# Connect to the SQLite database and load the sqlite_vec extension\n",
    "db = sqlite3.connect(\"extended_database.db\")\n",
    "db.enable_load_extension(True)\n",
    "sqlite_vec.load(db)\n",
    "db.enable_load_extension(False)\n",
    "\n",
    "# Check SQLite and Vec versions\n",
    "sqlite_version, vec_version = db.execute(\n",
    "    \"SELECT sqlite_version(), vec_version()\"\n",
    ").fetchone()\n",
    "print(f\"sqlite_version={sqlite_version}, vec_version={vec_version}\")\n",
    "# db.execute(\"CREATE VIRTUAL TABLE vec_items USING vec0(embedding float[4])\")\n",
    "# Create a virtual table with additional columns for metadata\n",
    "db.execute(\"\"\"\n",
    "    CREATE VIRTUAL TABLE vec_items USING vec0(embedding float[4])\n",
    "        chunk_id INTEGER PRIMARY KEY,  \n",
    "        chunk_text TEXT,  \n",
    "        file_path TEXT,  \n",
    "        file_name TEXT,  \n",
    "        author TEXT,  \n",
    "        abstract TEXT \n",
    "    )\n",
    "\"\"\")\n",
    "\n",
    "# Sample data entries\n",
    "items = [\n",
    "    (1, [0.1, 0.1, 0.1, 0.1], \"Chunk text 1\", \"/path/to/file1\", \"file1.pdf\", \"Author A\", \"Abstract A\"),\n",
    "    (2, [0.2, 0.2, 0.2, 0.2], \"Chunk text 2\", \"/path/to/file1\", \"file1.pdf\", \"Author A\", \"Abstract A\"),\n",
    "    (3, [0.3, 0.3, 0.3, 0.3], \"Chunk text 3\", \"/path/to/file2\", \"file2.pdf\", \"Author B\", \"Abstract B\"),\n",
    "    (4, [0.4, 0.4, 0.4, 0.4], \"Chunk text 4\", \"/path/to/file3\", \"file3.pdf\", \"Author C\", \"Abstract C\"),\n",
    "]\n",
    "query_embedding = [0.3, 0.3, 0.3, 0.3]  # Query vector for similarity search\n",
    "\n",
    "# Insert entries into the database\n",
    "with db:\n",
    "    for item in items:\n",
    "        db.execute(\n",
    "            \"\"\"\n",
    "            INSERT INTO vec_items(\n",
    "                chunk_id, embedding, chunk_text, file_path, file_name, author, abstract\n",
    "            ) VALUES (?, ?, ?, ?, ?, ?, ?)\n",
    "            \"\"\",\n",
    "            [item[0], serialize_f32(item[1]), item[2], item[3], item[4], item[5], item[6]]\n",
    "        )\n",
    "\n",
    "# Perform a similarity search with the query vector\n",
    "rows = db.execute(\n",
    "    \"\"\"\n",
    "    SELECT\n",
    "        chunk_id,\n",
    "        chunk_text,\n",
    "        file_path,\n",
    "        file_name,\n",
    "        author,\n",
    "        abstract,\n",
    "        distance\n",
    "    FROM vec_items\n",
    "    WHERE embedding MATCH ?\n",
    "    ORDER BY distance\n",
    "    LIMIT 3\n",
    "    \"\"\",\n",
    "    [serialize_f32(query_embedding)]\n",
    ").fetchall()\n",
    "\n",
    "# Print query results\n",
    "for row in rows:\n",
    "    print(f\"chunk_id: {row[0]}, chunk_text: {row[1]}, file_path: {row[2]}, \"\n",
    "          f\"file_name: {row[3]}, author: {row[4]}, abstract: {row[5]}, distance: {row[6]}\")\n"
   ],
   "id": "23ffea9729151ecf"
  },
  {
   "metadata": {
    "ExecuteTime": {
     "end_time": "2024-10-29T22:52:55.189755Z",
     "start_time": "2024-10-29T22:52:55.167542Z"
    }
   },
   "cell_type": "code",
   "source": [
    "import sqlite3\n",
    "import sqlite_vec\n",
    "from typing import List\n",
    "import struct\n",
    "\n",
    "\n",
    "def serialize_f32(vector: List[float]) -> bytes:\n",
    "    \"\"\"Serializes a list of floats into a compact 'raw bytes' format\"\"\"\n",
    "    return struct.pack(\"%sf\" % len(vector), *vector)\n",
    "\n",
    "\n",
    "# Connect to the SQLite database and load the sqlite_vec extension\n",
    "db = sqlite3.connect(\"extended_database.db\")\n",
    "db.enable_load_extension(True)\n",
    "sqlite_vec.load(db)\n",
    "db.enable_load_extension(False)\n",
    "\n",
    "# Check SQLite and Vec versions\n",
    "sqlite_version, vec_version = db.execute(\n",
    "    \"SELECT sqlite_version(), vec_version()\"\n",
    ").fetchone()\n",
    "print(f\"sqlite_version={sqlite_version}, vec_version={vec_version}\")\n",
    "\n",
    "# Create a vector-only virtual table for embeddings\n",
    "db.execute(\"CREATE VIRTUAL TABLE vec_items USING vec0(embedding float[4])\")\n",
    "\n",
    "# Create a separate table for metadata, linked by chunk_id\n",
    "db.execute(\"\"\"\n",
    "    CREATE TABLE metadata (\n",
    "        chunk_id INTEGER PRIMARY KEY,  -- Unique identifier for the chunk\n",
    "        chunk_text TEXT,  -- Text of the chunk\n",
    "        file_path TEXT,  -- Path to the file\n",
    "        file_name TEXT,  -- Name of the file\n",
    "        author TEXT,  -- Author of the document\n",
    "        abstract TEXT  -- Abstract of the document\n",
    "    )\n",
    "\"\"\")\n",
    "\n",
    "# Sample data entries\n",
    "items = [\n",
    "    (1, [0.1, 0.1, 0.1, 0.1], \"Chunk text 1\", \"/path/to/file1\", \"file1.pdf\", \"Author A\", \"Abstract A\"),\n",
    "    (2, [0.2, 0.2, 0.2, 0.2], \"Chunk text 2\", \"/path/to/file2\", \"file2.pdf\", \"Author B\", \"Abstract B\"),\n",
    "    (3, [0.3, 0.3, 0.3, 0.3], \"Chunk text 3\", \"/path/to/file3\", \"file3.pdf\", \"Author C\", \"Abstract C\"),\n",
    "    (4, [0.4, 0.4, 0.4, 0.4], \"Chunk text 4\", \"/path/to/file4\", \"file4.pdf\", \"Author D\", \"Abstract D\"),\n",
    "]\n",
    "query_embedding = [0.3, 0.3, 0.3, 0.3]  # Query vector for similarity search\n",
    "\n",
    "# Insert embeddings into vec_items and metadata into metadata table\n",
    "with db:\n",
    "    for item in items:\n",
    "        # Insert the embedding into vec_items\n",
    "        db.execute(\n",
    "            \"INSERT INTO vec_items(rowid, embedding) VALUES (?, ?)\",\n",
    "            [item[0], serialize_f32(item[1])]\n",
    "        )\n",
    "        # Insert metadata into the metadata table\n",
    "        db.execute(\n",
    "            \"\"\"\n",
    "            INSERT INTO metadata(\n",
    "                chunk_id, chunk_text, file_path, file_name, author, abstract\n",
    "            ) VALUES (?, ?, ?, ?, ?, ?)\n",
    "            \"\"\",\n",
    "            [item[0], item[2], item[3], item[4], item[5], item[6]]\n",
    "        )\n",
    "\n",
    "# Perform a similarity search with the query vector and join with metadata\n",
    "rows = db.execute(\n",
    "    \"\"\"\n",
    "    SELECT\n",
    "        m.chunk_id,\n",
    "        m.chunk_text,\n",
    "        m.file_path,\n",
    "        m.file_name,\n",
    "        m.author,\n",
    "        m.abstract,\n",
    "        v.distance\n",
    "    FROM vec_items v\n",
    "    JOIN metadata m ON v.rowid = m.chunk_id\n",
    "    WHERE v.embedding MATCH ?\n",
    "    ORDER BY v.distance\n",
    "    LIMIT 3\n",
    "    \"\"\",\n",
    "    [serialize_f32(query_embedding)]\n",
    ").fetchall()\n",
    "\n",
    "# Print query results\n",
    "for row in rows:\n",
    "    print(f\"chunk_id: {row[0]}, chunk_text: {row[1]}, file_path: {row[2]}, \"\n",
    "          f\"file_name: {row[3]}, author: {row[4]}, abstract: {row[5]}, distance: {row[6]}\")\n"
   ],
   "id": "2bb1f72b614071f4",
   "outputs": [
    {
     "name": "stdout",
     "output_type": "stream",
     "text": [
      "sqlite_version=3.45.3, vec_version=v0.1.3\n"
     ]
    },
    {
     "ename": "OperationalError",
     "evalue": "A LIMIT or 'k = ?' constraint is required on vec0 knn queries.",
     "output_type": "error",
     "traceback": [
      "\u001B[0;31m---------------------------------------------------------------------------\u001B[0m",
      "\u001B[0;31mOperationalError\u001B[0m                          Traceback (most recent call last)",
      "Cell \u001B[0;32mIn[6], line 67\u001B[0m\n\u001B[1;32m     57\u001B[0m         db\u001B[38;5;241m.\u001B[39mexecute(\n\u001B[1;32m     58\u001B[0m \u001B[38;5;250m            \u001B[39m\u001B[38;5;124;03m\"\"\"\u001B[39;00m\n\u001B[1;32m     59\u001B[0m \u001B[38;5;124;03m            INSERT INTO metadata(\u001B[39;00m\n\u001B[0;32m   (...)\u001B[0m\n\u001B[1;32m     63\u001B[0m             [item[\u001B[38;5;241m0\u001B[39m], item[\u001B[38;5;241m2\u001B[39m], item[\u001B[38;5;241m3\u001B[39m], item[\u001B[38;5;241m4\u001B[39m], item[\u001B[38;5;241m5\u001B[39m], item[\u001B[38;5;241m6\u001B[39m]]\n\u001B[1;32m     64\u001B[0m         )\n\u001B[1;32m     66\u001B[0m \u001B[38;5;66;03m# Perform a similarity search with the query vector and join with metadata\u001B[39;00m\n\u001B[0;32m---> 67\u001B[0m rows \u001B[38;5;241m=\u001B[39m \u001B[43mdb\u001B[49m\u001B[38;5;241;43m.\u001B[39;49m\u001B[43mexecute\u001B[49m\u001B[43m(\u001B[49m\n\u001B[1;32m     68\u001B[0m \u001B[38;5;250;43m    \u001B[39;49m\u001B[38;5;124;43;03m\"\"\"\u001B[39;49;00m\n\u001B[1;32m     69\u001B[0m \u001B[38;5;124;43;03m    SELECT\u001B[39;49;00m\n\u001B[1;32m     70\u001B[0m \u001B[38;5;124;43;03m        m.chunk_id,\u001B[39;49;00m\n\u001B[1;32m     71\u001B[0m \u001B[38;5;124;43;03m        m.chunk_text,\u001B[39;49;00m\n\u001B[1;32m     72\u001B[0m \u001B[38;5;124;43;03m        m.file_path,\u001B[39;49;00m\n\u001B[1;32m     73\u001B[0m \u001B[38;5;124;43;03m        m.file_name,\u001B[39;49;00m\n\u001B[1;32m     74\u001B[0m \u001B[38;5;124;43;03m        m.author,\u001B[39;49;00m\n\u001B[1;32m     75\u001B[0m \u001B[38;5;124;43;03m        m.abstract,\u001B[39;49;00m\n\u001B[1;32m     76\u001B[0m \u001B[38;5;124;43;03m        v.distance\u001B[39;49;00m\n\u001B[1;32m     77\u001B[0m \u001B[38;5;124;43;03m    FROM vec_items v\u001B[39;49;00m\n\u001B[1;32m     78\u001B[0m \u001B[38;5;124;43;03m    JOIN metadata m ON v.rowid = m.chunk_id\u001B[39;49;00m\n\u001B[1;32m     79\u001B[0m \u001B[38;5;124;43;03m    WHERE v.embedding MATCH ?\u001B[39;49;00m\n\u001B[1;32m     80\u001B[0m \u001B[38;5;124;43;03m    ORDER BY v.distance\u001B[39;49;00m\n\u001B[1;32m     81\u001B[0m \u001B[38;5;124;43;03m    LIMIT 3\u001B[39;49;00m\n\u001B[1;32m     82\u001B[0m \u001B[38;5;124;43;03m    \"\"\"\u001B[39;49;00m\u001B[43m,\u001B[49m\n\u001B[1;32m     83\u001B[0m \u001B[43m    \u001B[49m\u001B[43m[\u001B[49m\u001B[43mserialize_f32\u001B[49m\u001B[43m(\u001B[49m\u001B[43mquery_embedding\u001B[49m\u001B[43m)\u001B[49m\u001B[43m]\u001B[49m\n\u001B[1;32m     84\u001B[0m \u001B[43m)\u001B[49m\u001B[38;5;241m.\u001B[39mfetchall()\n\u001B[1;32m     86\u001B[0m \u001B[38;5;66;03m# Print query results\u001B[39;00m\n\u001B[1;32m     87\u001B[0m \u001B[38;5;28;01mfor\u001B[39;00m row \u001B[38;5;129;01min\u001B[39;00m rows:\n",
      "\u001B[0;31mOperationalError\u001B[0m: A LIMIT or 'k = ?' constraint is required on vec0 knn queries."
     ]
    }
   ],
   "execution_count": 6
  },
  {
   "metadata": {
    "ExecuteTime": {
     "end_time": "2024-10-29T22:52:51.570849Z",
     "start_time": "2024-10-29T22:52:51.564985Z"
    }
   },
   "cell_type": "code",
   "source": [
    "db.execute(\"DROP TABLE IF EXISTS vec_items\")\n",
    "db.execute(\"DROP TABLE IF EXISTS metadata\")"
   ],
   "id": "1b93dc4c1bce51f9",
   "outputs": [
    {
     "data": {
      "text/plain": [
       "<sqlite3.Cursor at 0x1095d79c0>"
      ]
     },
     "execution_count": 5,
     "metadata": {},
     "output_type": "execute_result"
    }
   ],
   "execution_count": 5
  },
  {
   "metadata": {},
   "cell_type": "code",
   "outputs": [],
   "execution_count": null,
   "source": "",
   "id": "efcd60fd5be1e39a"
  }
 ],
 "metadata": {
  "kernelspec": {
   "display_name": "Python 3",
   "language": "python",
   "name": "python3"
  },
  "language_info": {
   "codemirror_mode": {
    "name": "ipython",
    "version": 2
   },
   "file_extension": ".py",
   "mimetype": "text/x-python",
   "name": "python",
   "nbconvert_exporter": "python",
   "pygments_lexer": "ipython2",
   "version": "2.7.6"
  }
 },
 "nbformat": 4,
 "nbformat_minor": 5
}
