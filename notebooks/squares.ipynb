{
 "cells": [
  {
   "cell_type": "code",
   "id": "initial_id",
   "metadata": {
    "collapsed": true,
    "ExecuteTime": {
     "end_time": "2024-11-29T14:55:25.091581Z",
     "start_time": "2024-11-29T14:55:25.083868Z"
    }
   },
   "source": [
    "html = \"\"\"<!DOCTYPE html>\n",
    "<html lang=\"en\">\n",
    "  <head>\n",
    "    <meta charset=\"UTF-8\">\n",
    "    <meta name=\"viewport\" content=\"width=device-width, initial-scale=1.0\">\n",
    "    <title>Transformers Architecture</title>\n",
    "    <style>\n",
    "      body {\n",
    "        font-family: SF Pro;\n",
    "        font-size: 16px;\n",
    "        font-weight: 400;\n",
    "        line-height: 22px;\n",
    "        letter-spacing: -0.4300000071525574px;\n",
    "        text-align: left;\n",
    "        text-underline-position: from-font;\n",
    "        text-decoration-skip-ink: none;\n",
    "\n",
    "      }\n",
    "      .marker {\n",
    "        width: 16px;\n",
    "        height: 18px;\n",
    "        padding: 0px 2px;\n",
    "        justify-content: center;\n",
    "        align-items: center;\n",
    "        border-radius: 3px;\n",
    "      }\n",
    "      .blue {\n",
    "        color: #042FF4;\n",
    "        font-family: SF Pro;\n",
    "        font-size: 12px;\n",
    "        font-style: normal;\n",
    "        font-weight: 590;\n",
    "        line-height: normal;\n",
    "        background: #BFEFFF;\n",
    "      }\n",
    "      .yellow {\n",
    "        color: #B66400;\n",
    "        font-family: SF Pro;\n",
    "        font-size: 12px;\n",
    "        font-weight: 590;\n",
    "        line-height: 14.32px;\n",
    "        text-align: left;\n",
    "        text-underline-position: from-font;\n",
    "        text-decoration-skip-ink: none;\n",
    "        background: #FFE289;\n",
    "      }\n",
    "    </style>\n",
    "  </head>\n",
    "  <body>\n",
    "    <p> The primary feature of the Transformers architecture is the self-attention mechanism <span class=\"marker blue\">1</span>. This allows the model to weigh the importance of different words in a sentence dynamically and compute relationships between them, which helps in capturing long-range dependencies and contextual information efficiently <span class=\"marker blue\">2</span>. Transformers also use an encoder-decoder architecture and avoid sequential operations, enabling them to be parallelised more effectively than traditional models like recurrent neural networks (RNNs) <span class=\"marker blue\">1</span>\n",
    "      <span class=\"marker yellow\">3</span>.\n",
    "    </p>\n",
    "  </body>\n",
    "</html>\n",
    "\"\"\"\n",
    "\n",
    "# Display the HTML in the Jupyter Notebook\n",
    "display(HTML(html))"
   ],
   "outputs": [
    {
     "data": {
      "text/plain": [
       "<IPython.core.display.HTML object>"
      ],
      "text/html": [
       "<!DOCTYPE html>\n",
       "<html lang=\"en\">\n",
       "  <head>\n",
       "    <meta charset=\"UTF-8\">\n",
       "    <meta name=\"viewport\" content=\"width=device-width, initial-scale=1.0\">\n",
       "    <title>Transformers Architecture</title>\n",
       "    <style>\n",
       "      body {\n",
       "        font-family: SF Pro;\n",
       "        font-size: 16px;\n",
       "        font-weight: 400;\n",
       "        line-height: 22px;\n",
       "        letter-spacing: -0.4300000071525574px;\n",
       "        text-align: left;\n",
       "        text-underline-position: from-font;\n",
       "        text-decoration-skip-ink: none;\n",
       "\n",
       "      }\n",
       "\n",
       "      .marker {\n",
       "        width: 16px;\n",
       "        height: 18px;\n",
       "        padding: 0px 2px;\n",
       "        justify-content: center;\n",
       "        align-items: center;\n",
       "        border-radius: 3px;\n",
       "      }\n",
       "\n",
       "      .blue {\n",
       "        color: #042FF4;\n",
       "        font-family: SF Pro;\n",
       "        font-size: 12px;\n",
       "        font-style: normal;\n",
       "        font-weight: 590;\n",
       "        line-height: normal;\n",
       "        background: #BFEFFF;\n",
       "      }\n",
       "\n",
       "      .yellow {\n",
       "        color: #B66400;\n",
       "        font-family: SF Pro;\n",
       "        font-size: 12px;\n",
       "        font-weight: 590;\n",
       "        line-height: 14.32px;\n",
       "        text-align: left;\n",
       "        text-underline-position: from-font;\n",
       "        text-decoration-skip-ink: none;\n",
       "        background: #FFE289;\n",
       "      \n",
       "\n",
       "\n",
       "      }\n",
       "    </style>\n",
       "  </head>\n",
       "  <body>\n",
       "    <p> The primary feature of the Transformers architecture is the self-attention mechanism <span class=\"marker blue\">1</span>. This allows the model to weigh the importance of different words in a sentence dynamically and compute relationships between them, which helps in capturing long-range dependencies and contextual information efficiently <span class=\"marker blue\">2</span>. Transformers also use an encoder-decoder architecture and avoid sequential operations, enabling them to be parallelised more effectively than traditional models like recurrent neural networks (RNNs) <span class=\"marker blue\">1</span>\n",
       "      <span class=\"marker yellow\">3</span>.\n",
       "    </p>\n",
       "  </body>\n",
       "</html>\n"
      ]
     },
     "metadata": {},
     "output_type": "display_data"
    }
   ],
   "execution_count": 33
  },
  {
   "metadata": {
    "ExecuteTime": {
     "end_time": "2024-11-29T01:02:07.467990Z",
     "start_time": "2024-11-29T01:02:07.465437Z"
    }
   },
   "cell_type": "code",
   "source": [
    "def get_marker(number: str, color: str) -> str:\n",
    "    return f'<span class=\"marker {color}\">{number}</span>'\n"
   ],
   "id": "ed7eafc17a1261e4",
   "outputs": [],
   "execution_count": 21
  },
  {
   "metadata": {
    "ExecuteTime": {
     "end_time": "2024-11-29T01:02:11.878988Z",
     "start_time": "2024-11-29T01:02:11.876628Z"
    }
   },
   "cell_type": "code",
   "source": [
    "def create_html_string(text: str, marker: str) -> str:\n",
    "    return f'{text} {marker}'\n"
   ],
   "id": "b972b4b60419314f",
   "outputs": [],
   "execution_count": 22
  },
  {
   "metadata": {
    "ExecuteTime": {
     "end_time": "2024-11-29T01:02:16.769077Z",
     "start_time": "2024-11-29T01:02:16.766186Z"
    }
   },
   "cell_type": "code",
   "source": [
    "number = '1'\n",
    "color = 'blue'\n",
    "text = \"This is a text\"\n",
    "\n",
    "marker = get_marker(number, color)\n",
    "html_string = create_html_string(text, marker)\n",
    "\n",
    "print(html_string)\n"
   ],
   "id": "30856300a76ec45f",
   "outputs": [
    {
     "name": "stdout",
     "output_type": "stream",
     "text": [
      "This is a text <span class=\"marker blue\">1</span>\n"
     ]
    }
   ],
   "execution_count": 23
  },
  {
   "metadata": {},
   "cell_type": "code",
   "outputs": [],
   "execution_count": null,
   "source": "",
   "id": "f64013003de19509"
  }
 ],
 "metadata": {
  "kernelspec": {
   "display_name": "Python 3",
   "language": "python",
   "name": "python3"
  },
  "language_info": {
   "codemirror_mode": {
    "name": "ipython",
    "version": 2
   },
   "file_extension": ".py",
   "mimetype": "text/x-python",
   "name": "python",
   "nbconvert_exporter": "python",
   "pygments_lexer": "ipython2",
   "version": "2.7.6"
  }
 },
 "nbformat": 4,
 "nbformat_minor": 5
}
