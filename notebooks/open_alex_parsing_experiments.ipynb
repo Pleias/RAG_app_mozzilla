{
 "cells": [
  {
   "metadata": {},
   "cell_type": "markdown",
   "source": [
    "The goal of this notebook is to find approach to parse data from open alex by query \n",
    "\n",
    "First approach is to filter query by full text criteria "
   ],
   "id": "f7a5c2f0ad326267"
  },
  {
   "metadata": {},
   "cell_type": "code",
   "outputs": [],
   "execution_count": 15,
   "source": [
    "import os\n",
    "import requests\n",
    "import logging\n",
    "from typing import List\n",
    "\n",
    "\n",
    "class OpenAlexReader:\n",
    "    \"\"\"OpenAlex Reader.\n",
    "    Gets a search query, returns a list of Documents of the top corresponding scientific papers on OpenAlex.\n",
    "    \"\"\"\n",
    "\n",
    "    def __init__(self) -> None:\n",
    "        \"\"\"Initialize with parameters.\"\"\"\n",
    "        super().__init__()\n",
    "\n",
    "    def _fetch_openalex_results(self, search_query: str, max_results: int):\n",
    "        \"\"\"Fetch top scientific papers from OpenAlex based on search query.\"\"\"\n",
    "        base_url = \"https://api.openalex.org/works\"\n",
    "        params = {\n",
    "            \"search\": search_query,\n",
    "            \"filter\": \"has_fulltext:true\",  # Add filter for full-text availability\n",
    "            \"per_page\": max_results,\n",
    "            \"mailto\": \"your-email@example.com\"  # Replace with your email\n",
    "        }\n",
    "        response = requests.get(base_url, params=params)\n",
    "\n",
    "        if response.status_code != 200:\n",
    "            raise Exception(f\"Failed to fetch data from OpenAlex. Status code: {response.status_code}\")\n",
    "\n",
    "        return response.json().get(\"results\", [])\n",
    "\n",
    "    def get_papers(self, user_query: str, max_results=3) -> List[dict]:\n",
    "        \"\"\"\n",
    "        Returns a list of dicts with document metadata extracted from OpenAlex.\n",
    "        Title, authors, date, archive id and abstract. \n",
    "        \"\"\"\n",
    "        papers = self._fetch_openalex_results(user_query, max_results=max_results)\n",
    "        results = []\n",
    "        broken_results = []\n",
    "        for i, paper in enumerate(papers):\n",
    "            try:\n",
    "                paper_metadata = {\n",
    "                    ''\n",
    "                    'title': paper.get('title', 'No title'),\n",
    "                    'authors': \"\\n \".join([author.get('author', {}).get('display_name', 'Unknown') for author in\n",
    "                                           paper.get('authorships', [])]),\n",
    "                    'date': paper['publication_date'],\n",
    "                    'archive_id': paper.get('doi', \"/\").split(\"/\")[-1],\n",
    "                    'doi': paper.get('doi', \"N/A\"),\n",
    "                    'abstract': self.extract_abstract(paper.get('abstract_inverted_index', \"\")),\n",
    "                }\n",
    "                results.append(paper_metadata)\n",
    "            except:\n",
    "                print(i, paper.get('doi'))\n",
    "                broken_results.append(paper)\n",
    "        return papers\n",
    "\n",
    "    def download_paper(self, papers_metadata: List[dict], download_dir=\"downloads\"):\n",
    "        \"\"\"Download the PDF of a paper using its metadata.\n",
    "\n",
    "        Args:\n",
    "            paper_metadata (dict): Metadata of the paper containing the URL.\n",
    "            download_dir (str): Directory to save downloaded papers.\n",
    "        \"\"\"\n",
    "        # Ensure download directory exists\n",
    "        os.makedirs(download_dir, exist_ok=True)\n",
    "        if not isinstance(papers_metadata, list):\n",
    "            papers_metadata = [papers_metadata]\n",
    "\n",
    "        for paper_metadata in papers_metadata:\n",
    "\n",
    "            # Try to extract a URL for the PDF\n",
    "            # Typically, look for the 'doi' or other links in the paper_metadata\n",
    "\n",
    "            if paper_metadata.get('primary_location'):\n",
    "                if paper_metadata.get('primary_location').get(\"pdf_url\"):\n",
    "                    pdf_url = paper_metadata.get('primary_location').get('pdf_url')\n",
    "            if not pdf_url:\n",
    "                pdf_url = paper_metadata.get('doi')  # Use DOI if available\n",
    "\n",
    "            if not pdf_url:\n",
    "                # If DOI is not available, you might look for other links in the metadata\n",
    "                pdf_url = paper_metadata.get('url_for_pdf')  # Replace with correct key if available\n",
    "\n",
    "            if pdf_url:\n",
    "                # You might need to replace this with the actual PDF URL\n",
    "                logging.debug(f\"> Downloading PDF from {pdf_url}\")\n",
    "\n",
    "                try:\n",
    "                    pdf_response = requests.get(pdf_url)\n",
    "                    pdf_response.raise_for_status()  # Raise error for bad responses\n",
    "\n",
    "                    # Create a filename based on the title or DOI\n",
    "                    title = paper_metadata.get('display_name', 'unknown_paper').replace('/', '_')\n",
    "                    filename = f\"{title}.pdf\"\n",
    "                    file_path = os.path.join(download_dir, filename)\n",
    "\n",
    "                    with open(file_path, 'wb') as f:\n",
    "                        f.write(pdf_response.content)\n",
    "\n",
    "                    logging.debug(f\"> Successfully downloaded {filename}\")\n",
    "                except requests.RequestException as e:\n",
    "                    logging.error(f\"Error downloading PDF: {e}\")\n",
    "            else:\n",
    "                logging.warning(\"No downloadable PDF URL found for this paper.\")\n",
    "\n",
    "    def extract_abstract(self, abstract_inverted_index):\n",
    "        \"\"\"Convert an abstract_inverted_index into a readable text format.\n",
    "    \n",
    "        Args:\n",
    "            abstract_inverted_index (dict): The abstract inverted index from OpenAlex.\n",
    "    \n",
    "        Returns:\n",
    "            str: The reconstructed abstract as a plain text string.\n",
    "        \"\"\"\n",
    "        if not abstract_inverted_index:\n",
    "            return \"No abstract available\"\n",
    "        # Initialize a list to hold the words based on their positions\n",
    "        abstract_length = max(max(pos) for pos in abstract_inverted_index.values()) + 1\n",
    "        abstract_words = [\"\"] * abstract_length\n",
    "\n",
    "        # Place each word into the correct position\n",
    "        for word, positions in abstract_inverted_index.items():\n",
    "            for pos in positions:\n",
    "                abstract_words[pos] = word\n",
    "\n",
    "        # Join the words to form the complete abstract text\n",
    "        return ' '.join(word for word in abstract_words if word)\n",
    "\n",
    "\n",
    "#USAGE EXAMPLE \n",
    "\"\"\"\n",
    "r = OpenAlexReader()\n",
    "metadata = r.get_papers(\"Transformers\", max_results=1)\n",
    "r.download_paper(metadata)\n",
    "\"\"\"\n",
    "r = OpenAlexReader()\n",
    "metadata = r._fetch_openalex_results(search_query=\"Transformers\", max_results=100)\n",
    "r.download_paper(metadata)"
   ],
   "id": "initial_id"
  },
  {
   "metadata": {
    "ExecuteTime": {
     "end_time": "2024-10-22T21:40:20.285403Z",
     "start_time": "2024-10-22T21:40:12.754144Z"
    }
   },
   "cell_type": "code",
   "source": [
    "from llama_index.core import SimpleDirectoryReader\n",
    "reader = SimpleDirectoryReader('downloads', required_exts=[\".pdf\"])\n",
    "documents = reader.load_data()\n",
    "filenames = set([documents[i].metadata['file_name'] for i in range(len(documents))])\n",
    "len(filenames), len(metadata)"
   ],
   "id": "ca5842717559dbc5",
   "outputs": [],
   "execution_count": 31
  },
  {
   "metadata": {
    "ExecuteTime": {
     "end_time": "2024-10-22T21:41:29.564016Z",
     "start_time": "2024-10-22T21:41:29.561187Z"
    }
   },
   "cell_type": "code",
   "source": [
    "filenames = set([documents[i].metadata['file_name'] for i in range(len(documents))])\n",
    "len(filenames), len(metadata)"
   ],
   "id": "508b929310f5978c",
   "outputs": [
    {
     "data": {
      "text/plain": [
       "(30, 100)"
      ]
     },
     "execution_count": 38,
     "metadata": {},
     "output_type": "execute_result"
    }
   ],
   "execution_count": 38
  },
  {
   "metadata": {},
   "cell_type": "markdown",
   "source": "## With this approach we have 30 over 100",
   "id": "3b4e8544aa50f614"
  },
  {
   "metadata": {
    "ExecuteTime": {
     "end_time": "2024-10-22T21:54:34.051051Z",
     "start_time": "2024-10-22T21:53:49.343139Z"
    }
   },
   "cell_type": "code",
   "source": [
    "import os\n",
    "import requests\n",
    "import logging\n",
    "from typing import List\n",
    "\n",
    "\n",
    "class OpenAlexReader:\n",
    "    \"\"\"OpenAlex Reader.\n",
    "    Gets a search query, returns a list of Documents of the top corresponding scientific papers on OpenAlex.\n",
    "    \"\"\"\n",
    "\n",
    "    def __init__(self) -> None:\n",
    "        \"\"\"Initialize with parameters.\"\"\"\n",
    "        super().__init__()\n",
    "\n",
    "    def _fetch_openalex_results(self, search_query: str, max_results: int):\n",
    "        \"\"\"Fetch top scientific papers from OpenAlex based on search query.\"\"\"\n",
    "        base_url = \"https://api.openalex.org/works\"\n",
    "        params = {\n",
    "            \"search\": search_query,  # Add filter for full-text availability\n",
    "            \"per_page\": max_results,\n",
    "            \"mailto\": \"your-email@example.com\"  # Replace with your email\n",
    "        }\n",
    "        response = requests.get(base_url, params=params)\n",
    "\n",
    "        if response.status_code != 200:\n",
    "            raise Exception(f\"Failed to fetch data from OpenAlex. Status code: {response.status_code}\")\n",
    "\n",
    "        return response.json().get(\"results\", [])\n",
    "\n",
    "    def get_papers(self, user_query: str, max_results=3) -> List[dict]:\n",
    "        \"\"\"\n",
    "        Returns a list of dicts with document metadata extracted from OpenAlex.\n",
    "        Title, authors, date, archive id and abstract. \n",
    "        \"\"\"\n",
    "        papers = self._fetch_openalex_results(user_query, max_results=max_results)\n",
    "        results = []\n",
    "        broken_results = []\n",
    "        for i, paper in enumerate(papers):\n",
    "            try:\n",
    "                paper_metadata = {\n",
    "                    ''\n",
    "                    'title': paper.get('title', 'No title'),\n",
    "                    'authors': \"\\n \".join([author.get('author', {}).get('display_name', 'Unknown') for author in\n",
    "                                           paper.get('authorships', [])]),\n",
    "                    'date': paper['publication_date'],\n",
    "                    'archive_id': paper.get('doi', \"/\").split(\"/\")[-1],\n",
    "                    'doi': paper.get('doi', \"N/A\"),\n",
    "                    'abstract': self.extract_abstract(paper.get('abstract_inverted_index', \"\")),\n",
    "                }\n",
    "                results.append(paper_metadata)\n",
    "            except:\n",
    "                print(i, paper.get('doi'))\n",
    "                broken_results.append(paper)\n",
    "        return papers\n",
    "\n",
    "    def download_paper(self, papers_metadata: List[dict], download_dir=\"downloads\"):\n",
    "        \"\"\"Download the PDF of a paper using its metadata.\n",
    "\n",
    "        Args:\n",
    "            paper_metadata (dict): Metadata of the paper containing the URL.\n",
    "            download_dir (str): Directory to save downloaded papers.\n",
    "        \"\"\"\n",
    "        # Ensure download directory exists\n",
    "        os.makedirs(download_dir, exist_ok=True)\n",
    "        if not isinstance(papers_metadata, list):\n",
    "            papers_metadata = [papers_metadata]\n",
    "\n",
    "        for paper_metadata in papers_metadata:\n",
    "            pdf_url = None\n",
    "            # Try to extract a URL for the PDF\n",
    "            # Typically, look for the 'doi' or other links in the paper_metadata\n",
    "\n",
    "            if paper_metadata.get('primary_location'):\n",
    "                if paper_metadata.get('primary_location').get(\"pdf_url\"):\n",
    "                    pdf_url = paper_metadata.get('primary_location').get('pdf_url')\n",
    "            if not pdf_url:\n",
    "                pdf_url = paper_metadata.get('doi')  # Use DOI if available\n",
    "\n",
    "            if not pdf_url:\n",
    "                # If DOI is not available, you might look for other links in the metadata\n",
    "                pdf_url = paper_metadata.get('url_for_pdf')  # Replace with correct key if available\n",
    "\n",
    "            if pdf_url:\n",
    "                # You might need to replace this with the actual PDF URL\n",
    "                logging.debug(f\"> Downloading PDF from {pdf_url}\")\n",
    "\n",
    "                try:\n",
    "                    pdf_response = requests.get(pdf_url)\n",
    "                    pdf_response.raise_for_status()  # Raise error for bad responses\n",
    "\n",
    "                    # Create a filename based on the title or DOI\n",
    "                    title = paper_metadata.get('display_name', 'unknown_paper').replace('/', '_')\n",
    "                    filename = f\"{title}.pdf\"\n",
    "                    file_path = os.path.join(download_dir, filename)\n",
    "\n",
    "                    with open(file_path, 'wb') as f:\n",
    "                        f.write(pdf_response.content)\n",
    "\n",
    "                    logging.debug(f\"> Successfully downloaded {filename}\")\n",
    "                except requests.RequestException as e:\n",
    "                    logging.error(f\"Error downloading PDF: {e}\")\n",
    "            else:\n",
    "                logging.warning(\"No downloadable PDF URL found for this paper.\")\n",
    "\n",
    "    def extract_abstract(self, abstract_inverted_index):\n",
    "        \"\"\"Convert an abstract_inverted_index into a readable text format.\n",
    "    \n",
    "        Args:\n",
    "            abstract_inverted_index (dict): The abstract inverted index from OpenAlex.\n",
    "    \n",
    "        Returns:\n",
    "            str: The reconstructed abstract as a plain text string.\n",
    "        \"\"\"\n",
    "        if not abstract_inverted_index:\n",
    "            return \"No abstract available\"\n",
    "        # Initialize a list to hold the words based on their positions\n",
    "        abstract_length = max(max(pos) for pos in abstract_inverted_index.values()) + 1\n",
    "        abstract_words = [\"\"] * abstract_length\n",
    "\n",
    "        # Place each word into the correct position\n",
    "        for word, positions in abstract_inverted_index.items():\n",
    "            for pos in positions:\n",
    "                abstract_words[pos] = word\n",
    "\n",
    "        # Join the words to form the complete abstract text\n",
    "        return ' '.join(word for word in abstract_words if word)\n",
    "\n",
    "\n",
    "#USAGE EXAMPLE \n",
    "\"\"\"\n",
    "r = OpenAlexReader()\n",
    "metadata = r.get_papers(\"Transformers\", max_results=1)\n",
    "r.download_paper(metadata)\n",
    "\"\"\"\n",
    "!rm -rf downloads\n",
    "r = OpenAlexReader()\n",
    "metadata = r._fetch_openalex_results(search_query=\"Transformers\", max_results=100)\n",
    "r.download_paper(metadata)"
   ],
   "id": "58bde8813556a202",
   "outputs": [
    {
     "name": "stderr",
     "output_type": "stream",
     "text": [
      "ERROR:root:Error downloading PDF: 418 Client Error: Unknown Code for url: https://ieeexplore.ieee.org/document/9710580/\n",
      "WARNING:root:No downloadable PDF URL found for this paper.\n",
      "ERROR:root:Error downloading PDF: 406 Client Error: Not Acceptable for url: https://www.aclweb.org/anthology/2020.emnlp-demos.6.pdf\n",
      "ERROR:root:Error downloading PDF: 406 Client Error: Not Acceptable for url: https://www.aclweb.org/anthology/P19-1285.pdf\n",
      "ERROR:root:Error downloading PDF: 418 Client Error: Unknown Code for url: https://ieeexplore.ieee.org/document/726791/\n",
      "WARNING:root:No downloadable PDF URL found for this paper.\n",
      "ERROR:root:Error downloading PDF: 403 Client Error: Forbidden for url: https://digital-library.theiet.org/content/journals/10.1049/piee.1966.0236\n",
      "ERROR:root:Error downloading PDF: 418 Client Error: Unknown Code for url: https://ieeexplore.ieee.org/document/9709990/\n",
      "ERROR:root:Error downloading PDF: 418 Client Error: Unknown Code for url: https://ieeexplore.ieee.org/document/9578646/\n",
      "ERROR:root:Error downloading PDF: 418 Client Error: Unknown Code for url: https://ieeexplore.ieee.org/document/9711179/\n",
      "ERROR:root:Error downloading PDF: 418 Client Error: Unknown Code for url: https://ieeexplore.ieee.org/document/9607618/\n",
      "ERROR:root:Error downloading PDF: 418 Client Error: Unknown Code for url: https://ieeexplore.ieee.org/document/9716741/\n",
      "ERROR:root:Error downloading PDF: 403 Client Error: Forbidden for url: https://ojs.aaai.org/index.php/AAAI/article/download/17325/17132\n",
      "ERROR:root:Error downloading PDF: 406 Client Error: Not Acceptable for url: https://www.aclweb.org/anthology/2020.emnlp-demos.6.pdf\n",
      "ERROR:root:Error downloading PDF: 418 Client Error: Unknown Code for url: https://ieeexplore.ieee.org/document/9710031/\n",
      "ERROR:root:Error downloading PDF: 418 Client Error: Unknown Code for url: https://ieeexplore.ieee.org/document/9710415/\n",
      "ERROR:root:Error downloading PDF: 418 Client Error: Unknown Code for url: https://ieeexplore.ieee.org/document/9710703/\n",
      "ERROR:root:Error downloading PDF: 418 Client Error: Unknown Code for url: https://ieeexplore.ieee.org/document/9577359/\n",
      "WARNING:root:No downloadable PDF URL found for this paper.\n",
      "ERROR:root:Error downloading PDF: 418 Client Error: Unknown Code for url: https://ieeexplore.ieee.org/document/868049/\n",
      "ERROR:root:Error downloading PDF: 406 Client Error: Not Acceptable for url: https://www.aclweb.org/anthology/D19-1514.pdf\n",
      "ERROR:root:Error downloading PDF: 418 Client Error: Unknown Code for url: https://ieeexplore.ieee.org/document/9710959/\n",
      "WARNING:root:No downloadable PDF URL found for this paper.\n",
      "ERROR:root:Error downloading PDF: 418 Client Error: Unknown Code for url: https://ieeexplore.ieee.org/document/9711226/\n",
      "ERROR:root:Error downloading PDF: 418 Client Error: Unknown Code for url: https://ieeexplore.ieee.org/document/9710747/\n",
      "ERROR:root:Error downloading PDF: 418 Client Error: Unknown Code for url: https://ieeexplore.ieee.org/document/1161455/\n",
      "ERROR:root:Error downloading PDF: 418 Client Error: Unknown Code for url: https://ieeexplore.ieee.org/document/9157222/\n",
      "ERROR:root:Error downloading PDF: 418 Client Error: Unknown Code for url: https://ieeexplore.ieee.org/document/8954447/\n",
      "ERROR:root:Error downloading PDF: 418 Client Error: Unknown Code for url: https://ieeexplore.ieee.org/document/9878941/\n",
      "ERROR:root:Error downloading PDF: 418 Client Error: Unknown Code for url: https://ieeexplore.ieee.org/document/6578108/\n",
      "ERROR:root:Error downloading PDF: 418 Client Error: Unknown Code for url: https://ieeexplore.ieee.org/document/9706678/\n",
      "ERROR:root:Error downloading PDF: 418 Client Error: Unknown Code for url: https://ieeexplore.ieee.org/document/9578609/\n",
      "ERROR:root:Error downloading PDF: 418 Client Error: Unknown Code for url: https://ieeexplore.ieee.org/document/9878962/\n",
      "ERROR:root:Error downloading PDF: 418 Client Error: Unknown Code for url: https://ieeexplore.ieee.org/document/8462506/\n",
      "ERROR:root:Error downloading PDF: 418 Client Error: Unknown Code for url: https://ieeexplore.ieee.org/document/720393/\n",
      "ERROR:root:Error downloading PDF: 418 Client Error: Unknown Code for url: https://ieeexplore.ieee.org/document/8953881/\n",
      "ERROR:root:Error downloading PDF: 418 Client Error: Unknown Code for url: https://ieeexplore.ieee.org/document/9578911/\n",
      "ERROR:root:Error downloading PDF: 418 Client Error: Unknown Code for url: https://ieeexplore.ieee.org/document/9710800/\n",
      "ERROR:root:Error downloading PDF: 418 Client Error: Unknown Code for url: https://ieeexplore.ieee.org/document/9577771/\n",
      "ERROR:root:Error downloading PDF: 418 Client Error: Unknown Code for url: https://ieeexplore.ieee.org/document/1256382/\n",
      "WARNING:root:No downloadable PDF URL found for this paper.\n",
      "ERROR:root:Error downloading PDF: 418 Client Error: Unknown Code for url: https://ieeexplore.ieee.org/document/9711309/\n",
      "ERROR:root:Error downloading PDF: 418 Client Error: Unknown Code for url: https://ieeexplore.ieee.org/document/981322/\n",
      "ERROR:root:Error downloading PDF: 406 Client Error: Not Acceptable for url: https://www.aclweb.org/anthology/P19-1656.pdf\n",
      "ERROR:root:Error downloading PDF: 418 Client Error: Unknown Code for url: https://ieeexplore.ieee.org/document/9879380/\n",
      "ERROR:root:Error downloading PDF: 406 Client Error: Not Acceptable for url: https://www.aclweb.org/anthology/P19-1470.pdf\n",
      "ERROR:root:Error downloading PDF: 418 Client Error: Unknown Code for url: https://ieeexplore.ieee.org/document/1237337/\n",
      "ERROR:root:Error downloading PDF: 418 Client Error: Unknown Code for url: https://ieeexplore.ieee.org/document/9157061/\n",
      "ERROR:root:Error downloading PDF: 418 Client Error: Unknown Code for url: https://ieeexplore.ieee.org/document/750181/\n",
      "ERROR:root:Error downloading PDF: 418 Client Error: Unknown Code for url: https://ieeexplore.ieee.org/document/9878483/\n",
      "ERROR:root:Error downloading PDF: 418 Client Error: Unknown Code for url: https://ieeexplore.ieee.org/document/9878729/\n",
      "ERROR:root:Error downloading PDF: 418 Client Error: Unknown Code for url: https://ieeexplore.ieee.org/document/675572/\n",
      "ERROR:root:Error downloading PDF: 406 Client Error: Not Acceptable for url: https://www.aclweb.org/anthology/2020.acl-main.385.pdf\n",
      "ERROR:root:Error downloading PDF: 418 Client Error: Unknown Code for url: https://ieeexplore.ieee.org/document/9878609/\n",
      "ERROR:root:Error downloading PDF: 403 Client Error: Forbidden for url: https://ojs.aaai.org/index.php/AAAI/article/download/4642/4520\n",
      "WARNING:root:No downloadable PDF URL found for this paper.\n",
      "ERROR:root:Error downloading PDF: 418 Client Error: Unknown Code for url: https://ieeexplore.ieee.org/document/9711302/\n",
      "ERROR:root:Error downloading PDF: 403 Client Error: Forbidden for url: https://pubs.acs.org/doi/10.1021/acscentsci.9b00576\n",
      "ERROR:root:Error downloading PDF: 418 Client Error: Unknown Code for url: https://ieeexplore.ieee.org/document/9710634/\n",
      "ERROR:root:Error downloading PDF: 418 Client Error: Unknown Code for url: https://ieeexplore.ieee.org/document/9578008/\n",
      "WARNING:root:No downloadable PDF URL found for this paper.\n",
      "ERROR:root:Error downloading PDF: 406 Client Error: Not Acceptable for url: https://www.aclweb.org/anthology/P19-1176\n",
      "ERROR:root:Error downloading PDF: 418 Client Error: Unknown Code for url: https://ieeexplore.ieee.org/document/9607487/\n",
      "ERROR:root:Error downloading PDF: 418 Client Error: Unknown Code for url: https://ieeexplore.ieee.org/document/1193125/\n",
      "ERROR:root:Error downloading PDF: 418 Client Error: Unknown Code for url: https://ieeexplore.ieee.org/document/9627165/\n"
     ]
    }
   ],
   "execution_count": 57
  },
  {
   "metadata": {
    "ExecuteTime": {
     "end_time": "2024-10-22T21:55:13.266824Z",
     "start_time": "2024-10-22T21:55:09.758065Z"
    }
   },
   "cell_type": "code",
   "source": [
    "from llama_index.core import SimpleDirectoryReader\n",
    "reader = SimpleDirectoryReader('downloads', required_exts=[\".pdf\"])\n",
    "documents = reader.load_data()\n",
    "filenames = set([documents[i].metadata['file_name'] for i in range(len(documents))])\n",
    "len(os.listdir('downloads')), len(filenames), len(metadata)"
   ],
   "id": "570ceed85a7b935a",
   "outputs": [
    {
     "name": "stderr",
     "output_type": "stream",
     "text": [
      "WARNING:pypdf._reader:invalid pdf header: b'\\n\\n\\n\\n\\n'\n",
      "WARNING:pypdf._reader:EOF marker not found\n",
      "WARNING:pypdf._reader:invalid pdf header: b'\\n\\n\\n\\n\\n'\n",
      "WARNING:pypdf._reader:EOF marker not found\n",
      "WARNING:pypdf._reader:invalid pdf header: b'\\n\\n\\n\\n\\n'\n",
      "WARNING:pypdf._reader:EOF marker not found\n"
     ]
    },
    {
     "name": "stdout",
     "output_type": "stream",
     "text": [
      "Failed to load file /Users/aapoliakova/PycharmProjects/test_hybdrid_search_engines/downloads/A survey of transformers.pdf with error: RetryError[<Future at 0x17936b050 state=finished raised PdfStreamError>]. Skipping...\n"
     ]
    },
    {
     "name": "stderr",
     "output_type": "stream",
     "text": [
      "WARNING:pypdf._reader:invalid pdf header: b'<?xml'\n",
      "WARNING:pypdf._reader:EOF marker not found\n",
      "WARNING:pypdf._reader:invalid pdf header: b'<?xml'\n",
      "WARNING:pypdf._reader:EOF marker not found\n",
      "WARNING:pypdf._reader:invalid pdf header: b'<?xml'\n",
      "WARNING:pypdf._reader:EOF marker not found\n"
     ]
    },
    {
     "name": "stdout",
     "output_type": "stream",
     "text": [
      "Failed to load file /Users/aapoliakova/PycharmProjects/test_hybdrid_search_engines/downloads/An Image is Worth 16x16 Words: Transformers for Image Recognition at Scale.pdf with error: RetryError[<Future at 0x113566a10 state=finished raised PdfStreamError>]. Skipping...\n"
     ]
    },
    {
     "name": "stderr",
     "output_type": "stream",
     "text": [
      "WARNING:pypdf._reader:invalid pdf header: b'<?xml'\n",
      "WARNING:pypdf._reader:EOF marker not found\n",
      "WARNING:pypdf._reader:invalid pdf header: b'<?xml'\n",
      "WARNING:pypdf._reader:EOF marker not found\n",
      "WARNING:pypdf._reader:invalid pdf header: b'<?xml'\n",
      "WARNING:pypdf._reader:EOF marker not found\n"
     ]
    },
    {
     "name": "stdout",
     "output_type": "stream",
     "text": [
      "Failed to load file /Users/aapoliakova/PycharmProjects/test_hybdrid_search_engines/downloads/Attention Is All You Need.pdf with error: RetryError[<Future at 0x11335fa50 state=finished raised PdfStreamError>]. Skipping...\n"
     ]
    },
    {
     "name": "stderr",
     "output_type": "stream",
     "text": [
      "WARNING:pypdf._reader:invalid pdf header: b'<?xml'\n",
      "WARNING:pypdf._reader:EOF marker not found\n",
      "WARNING:pypdf._reader:invalid pdf header: b'<?xml'\n",
      "WARNING:pypdf._reader:EOF marker not found\n",
      "WARNING:pypdf._reader:invalid pdf header: b'<?xml'\n",
      "WARNING:pypdf._reader:EOF marker not found\n"
     ]
    },
    {
     "name": "stdout",
     "output_type": "stream",
     "text": [
      "Failed to load file /Users/aapoliakova/PycharmProjects/test_hybdrid_search_engines/downloads/BERT: Pre-training of Deep Bidirectional Transformers for Language Understanding.pdf with error: RetryError[<Future at 0x179279f50 state=finished raised PdfStreamError>]. Skipping...\n"
     ]
    },
    {
     "name": "stderr",
     "output_type": "stream",
     "text": [
      "WARNING:pypdf._reader:invalid pdf header: b'<?xml'\n",
      "WARNING:pypdf._reader:EOF marker not found\n",
      "WARNING:pypdf._reader:invalid pdf header: b'<?xml'\n",
      "WARNING:pypdf._reader:EOF marker not found\n",
      "WARNING:pypdf._reader:invalid pdf header: b'<?xml'\n",
      "WARNING:pypdf._reader:EOF marker not found\n"
     ]
    },
    {
     "name": "stdout",
     "output_type": "stream",
     "text": [
      "Failed to load file /Users/aapoliakova/PycharmProjects/test_hybdrid_search_engines/downloads/BEiT: BERT Pre-Training of Image Transformers.pdf with error: RetryError[<Future at 0x1793525d0 state=finished raised PdfStreamError>]. Skipping...\n"
     ]
    },
    {
     "name": "stderr",
     "output_type": "stream",
     "text": [
      "WARNING:pypdf._reader:invalid pdf header: b'<?xml'\n",
      "WARNING:pypdf._reader:EOF marker not found\n",
      "WARNING:pypdf._reader:invalid pdf header: b'<?xml'\n",
      "WARNING:pypdf._reader:EOF marker not found\n",
      "WARNING:pypdf._reader:invalid pdf header: b'<?xml'\n",
      "WARNING:pypdf._reader:EOF marker not found\n"
     ]
    },
    {
     "name": "stdout",
     "output_type": "stream",
     "text": [
      "Failed to load file /Users/aapoliakova/PycharmProjects/test_hybdrid_search_engines/downloads/Big Bird: Transformers for Longer Sequences.pdf with error: RetryError[<Future at 0x17fd17e90 state=finished raised PdfStreamError>]. Skipping...\n"
     ]
    },
    {
     "name": "stderr",
     "output_type": "stream",
     "text": [
      "WARNING:pypdf._reader:invalid pdf header: b'<?xml'\n",
      "WARNING:pypdf._reader:EOF marker not found\n",
      "WARNING:pypdf._reader:invalid pdf header: b'<?xml'\n",
      "WARNING:pypdf._reader:EOF marker not found\n",
      "WARNING:pypdf._reader:invalid pdf header: b'<?xml'\n",
      "WARNING:pypdf._reader:EOF marker not found\n"
     ]
    },
    {
     "name": "stdout",
     "output_type": "stream",
     "text": [
      "Failed to load file /Users/aapoliakova/PycharmProjects/test_hybdrid_search_engines/downloads/CTRL: A Conditional Transformer Language Model for Controllable Generation.pdf with error: RetryError[<Future at 0x178ffee50 state=finished raised PdfStreamError>]. Skipping...\n"
     ]
    },
    {
     "name": "stderr",
     "output_type": "stream",
     "text": [
      "WARNING:pypdf._reader:invalid pdf header: b'<!DOC'\n",
      "WARNING:pypdf._reader:EOF marker not found\n",
      "WARNING:pypdf._reader:invalid pdf header: b'<!DOC'\n",
      "WARNING:pypdf._reader:EOF marker not found\n",
      "WARNING:pypdf._reader:invalid pdf header: b'<!DOC'\n",
      "WARNING:pypdf._reader:EOF marker not found\n"
     ]
    },
    {
     "name": "stdout",
     "output_type": "stream",
     "text": [
      "Failed to load file /Users/aapoliakova/PycharmProjects/test_hybdrid_search_engines/downloads/Conformer: Convolution-augmented Transformer for Speech Recognition.pdf with error: RetryError[<Future at 0x179217410 state=finished raised PdfStreamError>]. Skipping...\n"
     ]
    },
    {
     "name": "stderr",
     "output_type": "stream",
     "text": [
      "WARNING:pypdf._reader:invalid pdf header: b'<?xml'\n",
      "WARNING:pypdf._reader:EOF marker not found\n",
      "WARNING:pypdf._reader:invalid pdf header: b'<?xml'\n",
      "WARNING:pypdf._reader:EOF marker not found\n",
      "WARNING:pypdf._reader:invalid pdf header: b'<?xml'\n",
      "WARNING:pypdf._reader:EOF marker not found\n"
     ]
    },
    {
     "name": "stdout",
     "output_type": "stream",
     "text": [
      "Failed to load file /Users/aapoliakova/PycharmProjects/test_hybdrid_search_engines/downloads/Deformable DETR: Deformable Transformers for End-to-End Object Detection.pdf with error: RetryError[<Future at 0x1134af950 state=finished raised PdfStreamError>]. Skipping...\n"
     ]
    },
    {
     "name": "stderr",
     "output_type": "stream",
     "text": [
      "WARNING:pypdf._reader:invalid pdf header: b'<!DOC'\n",
      "WARNING:pypdf._reader:EOF marker not found\n",
      "WARNING:pypdf._reader:invalid pdf header: b'<!DOC'\n",
      "WARNING:pypdf._reader:EOF marker not found\n",
      "WARNING:pypdf._reader:invalid pdf header: b'<!DOC'\n",
      "WARNING:pypdf._reader:EOF marker not found\n"
     ]
    },
    {
     "name": "stdout",
     "output_type": "stream",
     "text": [
      "Failed to load file /Users/aapoliakova/PycharmProjects/test_hybdrid_search_engines/downloads/End-to-End Object Detection with Transformers.pdf with error: RetryError[<Future at 0x300bda190 state=finished raised PdfStreamError>]. Skipping...\n"
     ]
    },
    {
     "name": "stderr",
     "output_type": "stream",
     "text": [
      "WARNING:pypdf._reader:invalid pdf header: b'\\n\\n\\n\\n\\n'\n",
      "WARNING:pypdf._reader:EOF marker not found\n",
      "WARNING:pypdf._reader:invalid pdf header: b'\\n\\n\\n\\n\\n'\n",
      "WARNING:pypdf._reader:EOF marker not found\n",
      "WARNING:pypdf._reader:invalid pdf header: b'\\n\\n\\n\\n\\n'\n",
      "WARNING:pypdf._reader:EOF marker not found\n"
     ]
    },
    {
     "name": "stdout",
     "output_type": "stream",
     "text": [
      "Failed to load file /Users/aapoliakova/PycharmProjects/test_hybdrid_search_engines/downloads/Experimental thermodynamic evaluation for a single stage heat transformer prototype build with commercial PHEs.pdf with error: RetryError[<Future at 0x300bd9390 state=finished raised PdfStreamError>]. Skipping...\n"
     ]
    },
    {
     "name": "stderr",
     "output_type": "stream",
     "text": [
      "WARNING:pypdf._reader:invalid pdf header: b'<?xml'\n",
      "WARNING:pypdf._reader:EOF marker not found\n",
      "WARNING:pypdf._reader:invalid pdf header: b'<?xml'\n",
      "WARNING:pypdf._reader:EOF marker not found\n",
      "WARNING:pypdf._reader:invalid pdf header: b'<?xml'\n",
      "WARNING:pypdf._reader:EOF marker not found\n"
     ]
    },
    {
     "name": "stdout",
     "output_type": "stream",
     "text": [
      "Failed to load file /Users/aapoliakova/PycharmProjects/test_hybdrid_search_engines/downloads/Exploring the Limits of Transfer Learning with a Unified Text-to-Text Transformer.pdf with error: RetryError[<Future at 0x300bdac10 state=finished raised PdfStreamError>]. Skipping...\n"
     ]
    },
    {
     "name": "stderr",
     "output_type": "stream",
     "text": [
      "WARNING:pypdf._reader:invalid pdf header: b'<?xml'\n",
      "WARNING:pypdf._reader:EOF marker not found\n",
      "WARNING:pypdf._reader:invalid pdf header: b'<?xml'\n",
      "WARNING:pypdf._reader:EOF marker not found\n",
      "WARNING:pypdf._reader:invalid pdf header: b'<?xml'\n",
      "WARNING:pypdf._reader:EOF marker not found\n"
     ]
    },
    {
     "name": "stdout",
     "output_type": "stream",
     "text": [
      "Failed to load file /Users/aapoliakova/PycharmProjects/test_hybdrid_search_engines/downloads/Generating Long Sequences with Sparse Transformers.pdf with error: RetryError[<Future at 0x107513350 state=finished raised PdfStreamError>]. Skipping...\n"
     ]
    },
    {
     "name": "stderr",
     "output_type": "stream",
     "text": [
      "WARNING:pypdf._reader:invalid pdf header: b'<?xml'\n",
      "WARNING:pypdf._reader:EOF marker not found\n",
      "WARNING:pypdf._reader:invalid pdf header: b'<?xml'\n",
      "WARNING:pypdf._reader:EOF marker not found\n",
      "WARNING:pypdf._reader:invalid pdf header: b'<?xml'\n",
      "WARNING:pypdf._reader:EOF marker not found\n"
     ]
    },
    {
     "name": "stdout",
     "output_type": "stream",
     "text": [
      "Failed to load file /Users/aapoliakova/PycharmProjects/test_hybdrid_search_engines/downloads/HuggingFace's Transformers: State-of-the-art Natural Language Processing.pdf with error: RetryError[<Future at 0x17901af50 state=finished raised PdfStreamError>]. Skipping...\n"
     ]
    },
    {
     "name": "stderr",
     "output_type": "stream",
     "text": [
      "WARNING:pypdf._reader:invalid pdf header: b'<!DOC'\n",
      "WARNING:pypdf._reader:EOF marker not found\n",
      "WARNING:pypdf._reader:invalid pdf header: b'<!DOC'\n",
      "WARNING:pypdf._reader:EOF marker not found\n",
      "WARNING:pypdf._reader:invalid pdf header: b'<!DOC'\n",
      "WARNING:pypdf._reader:EOF marker not found\n"
     ]
    },
    {
     "name": "stdout",
     "output_type": "stream",
     "text": [
      "Failed to load file /Users/aapoliakova/PycharmProjects/test_hybdrid_search_engines/downloads/Inductors and Transformers for Power Electronics.pdf with error: RetryError[<Future at 0x1793c9690 state=finished raised PdfStreamError>]. Skipping...\n"
     ]
    },
    {
     "name": "stderr",
     "output_type": "stream",
     "text": [
      "WARNING:pypdf._reader:invalid pdf header: b'<?xml'\n",
      "WARNING:pypdf._reader:EOF marker not found\n",
      "WARNING:pypdf._reader:invalid pdf header: b'<?xml'\n",
      "WARNING:pypdf._reader:EOF marker not found\n",
      "WARNING:pypdf._reader:invalid pdf header: b'<?xml'\n",
      "WARNING:pypdf._reader:EOF marker not found\n"
     ]
    },
    {
     "name": "stdout",
     "output_type": "stream",
     "text": [
      "Failed to load file /Users/aapoliakova/PycharmProjects/test_hybdrid_search_engines/downloads/Longformer: The Long-Document Transformer.pdf with error: RetryError[<Future at 0x179af3710 state=finished raised PdfStreamError>]. Skipping...\n"
     ]
    },
    {
     "name": "stderr",
     "output_type": "stream",
     "text": [
      "WARNING:pypdf._reader:invalid pdf header: b'<!DOC'\n",
      "WARNING:pypdf._reader:EOF marker not found\n",
      "WARNING:pypdf._reader:invalid pdf header: b'<!DOC'\n",
      "WARNING:pypdf._reader:EOF marker not found\n",
      "WARNING:pypdf._reader:invalid pdf header: b'<!DOC'\n",
      "WARNING:pypdf._reader:EOF marker not found\n"
     ]
    },
    {
     "name": "stdout",
     "output_type": "stream",
     "text": [
      "Failed to load file /Users/aapoliakova/PycharmProjects/test_hybdrid_search_engines/downloads/Loss of Life Transformer Prediction Based on Stacking Ensemble Improved by Genetic Algorithm By IJISRT.pdf with error: RetryError[<Future at 0x1793f93d0 state=finished raised PdfStreamError>]. Skipping...\n"
     ]
    },
    {
     "name": "stderr",
     "output_type": "stream",
     "text": [
      "WARNING:pypdf._reader:invalid pdf header: b'<!DOC'\n",
      "WARNING:pypdf._reader:EOF marker not found\n",
      "WARNING:pypdf._reader:invalid pdf header: b'<!DOC'\n",
      "WARNING:pypdf._reader:EOF marker not found\n",
      "WARNING:pypdf._reader:invalid pdf header: b'<!DOC'\n",
      "WARNING:pypdf._reader:EOF marker not found\n"
     ]
    },
    {
     "name": "stdout",
     "output_type": "stream",
     "text": [
      "Failed to load file /Users/aapoliakova/PycharmProjects/test_hybdrid_search_engines/downloads/Medical Transformer: Gated Axial-Attention for Medical Image Segmentation.pdf with error: RetryError[<Future at 0x300c9cbd0 state=finished raised PdfStreamError>]. Skipping...\n"
     ]
    },
    {
     "name": "stderr",
     "output_type": "stream",
     "text": [
      "WARNING:pypdf._reader:invalid pdf header: b'<?xml'\n",
      "WARNING:pypdf._reader:EOF marker not found\n",
      "WARNING:pypdf._reader:invalid pdf header: b'<?xml'\n",
      "WARNING:pypdf._reader:EOF marker not found\n",
      "WARNING:pypdf._reader:invalid pdf header: b'<?xml'\n",
      "WARNING:pypdf._reader:EOF marker not found\n"
     ]
    },
    {
     "name": "stdout",
     "output_type": "stream",
     "text": [
      "Failed to load file /Users/aapoliakova/PycharmProjects/test_hybdrid_search_engines/downloads/Reformer: The Efficient Transformer.pdf with error: RetryError[<Future at 0x10754ba90 state=finished raised PdfStreamError>]. Skipping...\n"
     ]
    },
    {
     "name": "stderr",
     "output_type": "stream",
     "text": [
      "WARNING:pypdf._reader:invalid pdf header: b'<?xml'\n",
      "WARNING:pypdf._reader:EOF marker not found\n",
      "WARNING:pypdf._reader:invalid pdf header: b'<?xml'\n",
      "WARNING:pypdf._reader:EOF marker not found\n",
      "WARNING:pypdf._reader:invalid pdf header: b'<?xml'\n",
      "WARNING:pypdf._reader:EOF marker not found\n"
     ]
    },
    {
     "name": "stdout",
     "output_type": "stream",
     "text": [
      "Failed to load file /Users/aapoliakova/PycharmProjects/test_hybdrid_search_engines/downloads/SegFormer: Simple and Efficient Design for Semantic Segmentation with Transformers.pdf with error: RetryError[<Future at 0x300c63750 state=finished raised PdfStreamError>]. Skipping...\n"
     ]
    },
    {
     "name": "stderr",
     "output_type": "stream",
     "text": [
      "WARNING:pypdf._reader:invalid pdf header: b'<?xml'\n",
      "WARNING:pypdf._reader:EOF marker not found\n",
      "WARNING:pypdf._reader:invalid pdf header: b'<?xml'\n",
      "WARNING:pypdf._reader:EOF marker not found\n",
      "WARNING:pypdf._reader:invalid pdf header: b'<?xml'\n",
      "WARNING:pypdf._reader:EOF marker not found\n"
     ]
    },
    {
     "name": "stdout",
     "output_type": "stream",
     "text": [
      "Failed to load file /Users/aapoliakova/PycharmProjects/test_hybdrid_search_engines/downloads/Spatial Transformer Networks.pdf with error: RetryError[<Future at 0x17916ee90 state=finished raised PdfStreamError>]. Skipping...\n"
     ]
    },
    {
     "name": "stderr",
     "output_type": "stream",
     "text": [
      "WARNING:pypdf._reader:invalid pdf header: b'<!DOC'\n",
      "WARNING:pypdf._reader:EOF marker not found\n",
      "WARNING:pypdf._reader:invalid pdf header: b'<!DOC'\n",
      "WARNING:pypdf._reader:EOF marker not found\n",
      "WARNING:pypdf._reader:invalid pdf header: b'<!DOC'\n",
      "WARNING:pypdf._reader:EOF marker not found\n"
     ]
    },
    {
     "name": "stdout",
     "output_type": "stream",
     "text": [
      "Failed to load file /Users/aapoliakova/PycharmProjects/test_hybdrid_search_engines/downloads/Swin-Unet: Unet-Like Pure Transformer for Medical Image Segmentation.pdf with error: RetryError[<Future at 0x178f51b10 state=finished raised PdfStreamError>]. Skipping...\n"
     ]
    },
    {
     "name": "stderr",
     "output_type": "stream",
     "text": [
      "WARNING:pypdf._reader:invalid pdf header: b'<?xml'\n",
      "WARNING:pypdf._reader:EOF marker not found\n",
      "WARNING:pypdf._reader:invalid pdf header: b'<?xml'\n",
      "WARNING:pypdf._reader:EOF marker not found\n",
      "WARNING:pypdf._reader:invalid pdf header: b'<?xml'\n",
      "WARNING:pypdf._reader:EOF marker not found\n"
     ]
    },
    {
     "name": "stdout",
     "output_type": "stream",
     "text": [
      "Failed to load file /Users/aapoliakova/PycharmProjects/test_hybdrid_search_engines/downloads/TransUNet: Transformers Make Strong Encoders for Medical Image Segmentation.pdf with error: RetryError[<Future at 0x300c61a50 state=finished raised PdfStreamError>]. Skipping...\n"
     ]
    },
    {
     "name": "stderr",
     "output_type": "stream",
     "text": [
      "WARNING:pypdf._reader:invalid pdf header: b'<!DOC'\n",
      "WARNING:pypdf._reader:EOF marker not found\n",
      "WARNING:pypdf._reader:invalid pdf header: b'<!DOC'\n",
      "WARNING:pypdf._reader:EOF marker not found\n",
      "WARNING:pypdf._reader:invalid pdf header: b'<!DOC'\n",
      "WARNING:pypdf._reader:EOF marker not found\n"
     ]
    },
    {
     "name": "stdout",
     "output_type": "stream",
     "text": [
      "Failed to load file /Users/aapoliakova/PycharmProjects/test_hybdrid_search_engines/downloads/Transformer and Inductor Design Handbook.pdf with error: RetryError[<Future at 0x300c9e1d0 state=finished raised PdfStreamError>]. Skipping...\n"
     ]
    },
    {
     "name": "stderr",
     "output_type": "stream",
     "text": [
      "WARNING:pypdf._reader:invalid pdf header: b'<?xml'\n",
      "WARNING:pypdf._reader:EOF marker not found\n",
      "WARNING:pypdf._reader:invalid pdf header: b'<?xml'\n",
      "WARNING:pypdf._reader:EOF marker not found\n",
      "WARNING:pypdf._reader:invalid pdf header: b'<?xml'\n",
      "WARNING:pypdf._reader:EOF marker not found\n"
     ]
    },
    {
     "name": "stdout",
     "output_type": "stream",
     "text": [
      "Failed to load file /Users/aapoliakova/PycharmProjects/test_hybdrid_search_engines/downloads/Transformer in Transformer.pdf with error: RetryError[<Future at 0x300c60210 state=finished raised PdfStreamError>]. Skipping...\n"
     ]
    },
    {
     "name": "stderr",
     "output_type": "stream",
     "text": [
      "WARNING:pypdf._reader:invalid pdf header: b'<?xml'\n",
      "WARNING:pypdf._reader:EOF marker not found\n",
      "WARNING:pypdf._reader:invalid pdf header: b'<?xml'\n",
      "WARNING:pypdf._reader:EOF marker not found\n",
      "WARNING:pypdf._reader:invalid pdf header: b'<?xml'\n",
      "WARNING:pypdf._reader:EOF marker not found\n"
     ]
    },
    {
     "name": "stdout",
     "output_type": "stream",
     "text": [
      "Failed to load file /Users/aapoliakova/PycharmProjects/test_hybdrid_search_engines/downloads/Transformers are RNNs: Fast Autoregressive Transformers with Linear Attention.pdf with error: RetryError[<Future at 0x300c63490 state=finished raised PdfStreamError>]. Skipping...\n"
     ]
    },
    {
     "name": "stderr",
     "output_type": "stream",
     "text": [
      "WARNING:pypdf._reader:invalid pdf header: b'<!DOC'\n",
      "WARNING:pypdf._reader:EOF marker not found\n",
      "WARNING:pypdf._reader:invalid pdf header: b'<!DOC'\n",
      "WARNING:pypdf._reader:EOF marker not found\n",
      "WARNING:pypdf._reader:invalid pdf header: b'<!DOC'\n",
      "WARNING:pypdf._reader:EOF marker not found\n"
     ]
    },
    {
     "name": "stdout",
     "output_type": "stream",
     "text": [
      "Failed to load file /Users/aapoliakova/PycharmProjects/test_hybdrid_search_engines/downloads/Transformers in Vision: A Survey.pdf with error: RetryError[<Future at 0x1793c9a50 state=finished raised PdfStreamError>]. Skipping...\n"
     ]
    },
    {
     "name": "stderr",
     "output_type": "stream",
     "text": [
      "WARNING:pypdf._reader:invalid pdf header: b'<?xml'\n",
      "WARNING:pypdf._reader:EOF marker not found\n",
      "WARNING:pypdf._reader:invalid pdf header: b'<?xml'\n",
      "WARNING:pypdf._reader:EOF marker not found\n",
      "WARNING:pypdf._reader:invalid pdf header: b'<?xml'\n",
      "WARNING:pypdf._reader:EOF marker not found\n"
     ]
    },
    {
     "name": "stdout",
     "output_type": "stream",
     "text": [
      "Failed to load file /Users/aapoliakova/PycharmProjects/test_hybdrid_search_engines/downloads/Universal Transformers.pdf with error: RetryError[<Future at 0x178f51050 state=finished raised PdfStreamError>]. Skipping...\n"
     ]
    },
    {
     "data": {
      "text/plain": [
       "(35, 7, 100)"
      ]
     },
     "execution_count": 58,
     "metadata": {},
     "output_type": "execute_result"
    }
   ],
   "execution_count": 58
  },
  {
   "metadata": {},
   "cell_type": "markdown",
   "source": "# 35 files in dir, but only 7 of them can be parsed ",
   "id": "22fe2d2d3b8c049e"
  },
  {
   "metadata": {
    "ExecuteTime": {
     "end_time": "2024-10-22T21:58:44.623324Z",
     "start_time": "2024-10-22T21:56:22.484413Z"
    }
   },
   "cell_type": "code",
   "source": [
    "# Next experiment - try to focus on archive \n",
    "\n",
    "import os\n",
    "import requests\n",
    "import logging\n",
    "from typing import List\n",
    "\n",
    "\n",
    "class OpenAlexReader:\n",
    "    \"\"\"OpenAlex Reader.\n",
    "    Gets a search query, returns a list of Documents of the top corresponding scientific papers on OpenAlex.\n",
    "    \"\"\"\n",
    "\n",
    "    def __init__(self) -> None:\n",
    "        \"\"\"Initialize with parameters.\"\"\"\n",
    "        super().__init__()\n",
    "\n",
    "    def _fetch_openalex_results(self, search_query: str, max_results: int):\n",
    "        \"\"\"Fetch top scientific papers from OpenAlex based on search query.\"\"\"\n",
    "        base_url = \"https://api.openalex.org/works\"\n",
    "        params = {\n",
    "            \"search\": search_query,  # Add filter for full-text availability\n",
    "            \"per_page\": max_results,\n",
    "            \"mailto\": \"your-email@example.com\"  # Replace with your email\n",
    "        }\n",
    "        response = requests.get(base_url, params=params)\n",
    "\n",
    "        if response.status_code != 200:\n",
    "            raise Exception(f\"Failed to fetch data from OpenAlex. Status code: {response.status_code}\")\n",
    "\n",
    "        return response.json().get(\"results\", [])\n",
    "\n",
    "    def get_papers(self, user_query: str, max_results=3) -> List[dict]:\n",
    "        \"\"\"\n",
    "        Returns a list of dicts with document metadata extracted from OpenAlex.\n",
    "        Title, authors, date, archive id and abstract. \n",
    "        \"\"\"\n",
    "        papers = self._fetch_openalex_results(user_query, max_results=max_results)\n",
    "        results = []\n",
    "        broken_results = []\n",
    "        for i, paper in enumerate(papers):\n",
    "            try:\n",
    "                paper_metadata = {\n",
    "                    ''\n",
    "                    'title': paper.get('title', 'No title'),\n",
    "                    'authors': \"\\n \".join([author.get('author', {}).get('display_name', 'Unknown') for author in\n",
    "                                           paper.get('authorships', [])]),\n",
    "                    'date': paper['publication_date'],\n",
    "                    'archive_id': paper.get('doi', \"/\").split(\"/\")[-1],\n",
    "                    'doi': paper.get('doi', \"N/A\"),\n",
    "                    'abstract': self.extract_abstract(paper.get('abstract_inverted_index', \"\")),\n",
    "                }\n",
    "                results.append(paper_metadata)\n",
    "            except:\n",
    "                print(i, paper.get('doi'))\n",
    "                broken_results.append(paper)\n",
    "        return papers\n",
    "\n",
    "    def download_paper(self, papers_metadata: List[dict], download_dir=\"downloads\"):\n",
    "        \"\"\"Download the PDF of a paper using its metadata.\n",
    "\n",
    "        Args:\n",
    "            paper_metadata (dict): Metadata of the paper containing the URL.\n",
    "            download_dir (str): Directory to save downloaded papers.\n",
    "        \"\"\"\n",
    "        # Ensure download directory exists\n",
    "        os.makedirs(download_dir, exist_ok=True)\n",
    "        if not isinstance(papers_metadata, list):\n",
    "            papers_metadata = [papers_metadata]\n",
    "\n",
    "        for paper_metadata in papers_metadata:\n",
    "            pdf_url = None\n",
    "\n",
    "            if 'open_access' in paper_metadata:\n",
    "                if 'oa_url' in paper_metadata['open_access']:\n",
    "                    if paper_metadata['open_access'].get('oa_url') is not None:\n",
    "                        stats.append(True)\n",
    "                        pdf_url = paper_metadata['open_access']['oa_url'].replace('abs', 'pdf')\n",
    "  \n",
    "            # Try to extract a URL for the PDF\n",
    "            # Typically, look for the 'doi' or other links in the paper_metadata\n",
    "\n",
    "            if not pdf_url and paper_metadata.get('primary_location'):\n",
    "                if paper_metadata.get('primary_location').get(\"pdf_url\"):\n",
    "                    pdf_url = paper_metadata.get('primary_location').get('pdf_url')\n",
    "            if not pdf_url:\n",
    "                pdf_url = paper_metadata.get('doi')  # Use DOI if available\n",
    "\n",
    "            if not pdf_url:\n",
    "                # If DOI is not available, you might look for other links in the metadata\n",
    "                pdf_url = paper_metadata.get('url_for_pdf')  # Replace with correct key if available\n",
    "\n",
    "            if pdf_url:\n",
    "                # You might need to replace this with the actual PDF URL\n",
    "                logging.debug(f\"> Downloading PDF from {pdf_url}\")\n",
    "\n",
    "                try:\n",
    "                    pdf_response = requests.get(pdf_url)\n",
    "                    pdf_response.raise_for_status()  # Raise error for bad responses\n",
    "\n",
    "                    # Create a filename based on the title or DOI\n",
    "                    title = paper_metadata.get('display_name', 'unknown_paper').replace('/', '_')\n",
    "                    filename = f\"{title}.pdf\"\n",
    "                    file_path = os.path.join(download_dir, filename)\n",
    "\n",
    "                    with open(file_path, 'wb') as f:\n",
    "                        f.write(pdf_response.content)\n",
    "\n",
    "                    logging.debug(f\"> Successfully downloaded {filename}\")\n",
    "                except requests.RequestException as e:\n",
    "                    logging.error(f\"Error downloading PDF: {e}\")\n",
    "            else:\n",
    "                logging.warning(\"No downloadable PDF URL found for this paper.\")\n",
    "\n",
    "    def extract_abstract(self, abstract_inverted_index):\n",
    "        \"\"\"Convert an abstract_inverted_index into a readable text format.\n",
    "    \n",
    "        Args:\n",
    "            abstract_inverted_index (dict): The abstract inverted index from OpenAlex.\n",
    "    \n",
    "        Returns:\n",
    "            str: The reconstructed abstract as a plain text string.\n",
    "        \"\"\"\n",
    "        if not abstract_inverted_index:\n",
    "            return \"No abstract available\"\n",
    "        # Initialize a list to hold the words based on their positions\n",
    "        abstract_length = max(max(pos) for pos in abstract_inverted_index.values()) + 1\n",
    "        abstract_words = [\"\"] * abstract_length\n",
    "\n",
    "        # Place each word into the correct position\n",
    "        for word, positions in abstract_inverted_index.items():\n",
    "            for pos in positions:\n",
    "                abstract_words[pos] = word\n",
    "\n",
    "        # Join the words to form the complete abstract text\n",
    "        return ' '.join(word for word in abstract_words if word)\n",
    "\n",
    "\n",
    "#USAGE EXAMPLE \n",
    "\"\"\"\n",
    "r = OpenAlexReader()\n",
    "metadata = r.get_papers(\"Transformers\", max_results=1)\n",
    "r.download_paper(metadata)\n",
    "\"\"\"\n",
    "!rm -rf downloads\n",
    "r = OpenAlexReader()\n",
    "metadata = r._fetch_openalex_results(search_query=\"Transformers\", max_results=100)\n",
    "r.download_paper(metadata)"
   ],
   "id": "5409afe273f7ca0e",
   "outputs": [
    {
     "name": "stderr",
     "output_type": "stream",
     "text": [
      "WARNING:root:No downloadable PDF URL found for this paper.\n",
      "ERROR:root:Error downloading PDF: 406 Client Error: Not Acceptable for url: https://www.aclweb.org/anthology/2020.emnlp-demos.6.pdf\n",
      "ERROR:root:Error downloading PDF: 406 Client Error: Not Acceptable for url: https://www.aclweb.org/anthology/P19-1285.pdf\n",
      "WARNING:root:No downloadable PDF URL found for this paper.\n",
      "ERROR:root:Error downloading PDF: 403 Client Error: Forbidden for url: https://digital-library.theiet.org/content/journals/10.1049/piee.1966.0236\n",
      "ERROR:root:Error downloading PDF: 403 Client Error: Forbidden for url: https://ojs.aaai.org/index.php/AAAI/article/download/17325/17132\n",
      "ERROR:root:Error downloading PDF: 406 Client Error: Not Acceptable for url: https://www.aclweb.org/anthology/2020.emnlp-demos.6.pdf\n",
      "ERROR:root:Error downloading PDF: 418 Client Error: Unknown Code for url: https://ieeexplore.ieee.org/document/9710703/\n",
      "WARNING:root:No downloadable PDF URL found for this paper.\n",
      "ERROR:root:Error downloading PDF: 418 Client Error: Unknown Code for url: https://ieeexplore.ieee.org/document/868049/\n",
      "ERROR:root:Error downloading PDF: 406 Client Error: Not Acceptable for url: https://www.aclweb.org/anthology/D19-1514.pdf\n",
      "WARNING:root:No downloadable PDF URL found for this paper.\n",
      "ERROR:root:Error downloading PDF: 418 Client Error: Unknown Code for url: https://ieeexplore.ieee.org/document/1161455/\n",
      "ERROR:root:Error downloading PDF: 418 Client Error: Unknown Code for url: https://ieeexplore.ieee.org/document/9878941/\n",
      "ERROR:root:Error downloading PDF: 418 Client Error: Unknown Code for url: https://ieeexplore.ieee.org/document/6578108/\n",
      "ERROR:root:Error downloading PDF: 418 Client Error: Unknown Code for url: https://ieeexplore.ieee.org/document/9578609/\n",
      "ERROR:root:Error downloading PDF: 418 Client Error: Unknown Code for url: https://ieeexplore.ieee.org/document/8462506/\n",
      "ERROR:root:Error downloading PDF: 418 Client Error: Unknown Code for url: https://ieeexplore.ieee.org/document/720393/\n",
      "ERROR:root:Error downloading PDF: 418 Client Error: Unknown Code for url: https://ieeexplore.ieee.org/document/8953881/\n",
      "ERROR:root:Error downloading PDF: 418 Client Error: Unknown Code for url: https://ieeexplore.ieee.org/document/1256382/\n",
      "ERROR:root:Error downloading PDF: 418 Client Error: Unknown Code for url: https://ieeexplore.ieee.org/document/981322/\n",
      "ERROR:root:Error downloading PDF: 406 Client Error: Not Acceptable for url: https://www.aclweb.org/anthology/P19-1656.pdf\n",
      "ERROR:root:Error downloading PDF: 406 Client Error: Not Acceptable for url: https://www.aclweb.org/anthology/P19-1470.pdf\n",
      "ERROR:root:Error downloading PDF: 418 Client Error: Unknown Code for url: https://ieeexplore.ieee.org/document/1237337/\n",
      "ERROR:root:Error downloading PDF: 418 Client Error: Unknown Code for url: https://ieeexplore.ieee.org/document/750181/\n",
      "ERROR:root:Error downloading PDF: 418 Client Error: Unknown Code for url: https://ieeexplore.ieee.org/document/675572/\n",
      "ERROR:root:Error downloading PDF: 406 Client Error: Not Acceptable for url: https://www.aclweb.org/anthology/2020.acl-main.385.pdf\n",
      "ERROR:root:Error downloading PDF: 403 Client Error: Forbidden for url: https://ojs.aaai.org/index.php/AAAI/article/download/4642/4520\n",
      "WARNING:root:No downloadable PDF URL found for this paper.\n",
      "ERROR:root:Error downloading PDF: 403 Client Error: Forbidden for url: https://pubs.acs.org/doi/10.1021/acscentsci.9b00576\n",
      "WARNING:root:No downloadable PDF URL found for this paper.\n",
      "ERROR:root:Error downloading PDF: 418 Client Error: Unknown Code for url: https://ieeexplore.ieee.org/document/1193125/\n"
     ]
    }
   ],
   "execution_count": 60
  },
  {
   "metadata": {
    "ExecuteTime": {
     "end_time": "2024-10-22T21:59:47.960363Z",
     "start_time": "2024-10-22T21:59:25.454546Z"
    }
   },
   "cell_type": "code",
   "source": [
    "reader = SimpleDirectoryReader('downloads', required_exts=[\".pdf\"])\n",
    "documents = reader.load_data()\n",
    "filenames = set([documents[i].metadata['file_name'] for i in range(len(documents))])\n",
    "len(os.listdir('downloads')), len(filenames), len(metadata)"
   ],
   "id": "759f0cd87ea0b135",
   "outputs": [
    {
     "name": "stderr",
     "output_type": "stream",
     "text": [
      "WARNING:pypdf._reader:invalid pdf header: b'\\n\\n\\n\\n\\n'\n",
      "WARNING:pypdf._reader:EOF marker not found\n",
      "WARNING:pypdf._reader:invalid pdf header: b'\\n\\n\\n\\n\\n'\n",
      "WARNING:pypdf._reader:EOF marker not found\n",
      "WARNING:pypdf._reader:invalid pdf header: b'\\n\\n\\n\\n\\n'\n",
      "WARNING:pypdf._reader:EOF marker not found\n"
     ]
    },
    {
     "name": "stdout",
     "output_type": "stream",
     "text": [
      "Failed to load file /Users/aapoliakova/PycharmProjects/test_hybdrid_search_engines/downloads/A survey of transformers.pdf with error: RetryError[<Future at 0x300081c10 state=finished raised PdfStreamError>]. Skipping...\n"
     ]
    },
    {
     "name": "stderr",
     "output_type": "stream",
     "text": [
      "WARNING:pypdf._reader:invalid pdf header: b'\\n\\n\\n\\n\\n'\n",
      "WARNING:pypdf._reader:EOF marker not found\n",
      "WARNING:pypdf._reader:invalid pdf header: b'\\n\\n\\n\\n\\n'\n",
      "WARNING:pypdf._reader:EOF marker not found\n",
      "WARNING:pypdf._reader:invalid pdf header: b'\\n\\n\\n\\n\\n'\n",
      "WARNING:pypdf._reader:EOF marker not found\n"
     ]
    },
    {
     "name": "stdout",
     "output_type": "stream",
     "text": [
      "Failed to load file /Users/aapoliakova/PycharmProjects/test_hybdrid_search_engines/downloads/Experimental thermodynamic evaluation for a single stage heat transformer prototype build with commercial PHEs.pdf with error: RetryError[<Future at 0x3008c7c10 state=finished raised PdfStreamError>]. Skipping...\n"
     ]
    },
    {
     "name": "stderr",
     "output_type": "stream",
     "text": [
      "WARNING:pypdf._reader:invalid pdf header: b'<!DOC'\n",
      "WARNING:pypdf._reader:EOF marker not found\n",
      "WARNING:pypdf._reader:invalid pdf header: b'<!DOC'\n",
      "WARNING:pypdf._reader:EOF marker not found\n",
      "WARNING:pypdf._reader:invalid pdf header: b'<!DOC'\n",
      "WARNING:pypdf._reader:EOF marker not found\n"
     ]
    },
    {
     "name": "stdout",
     "output_type": "stream",
     "text": [
      "Failed to load file /Users/aapoliakova/PycharmProjects/test_hybdrid_search_engines/downloads/Inductors and Transformers for Power Electronics.pdf with error: RetryError[<Future at 0x177b6e7d0 state=finished raised PdfStreamError>]. Skipping...\n"
     ]
    },
    {
     "name": "stderr",
     "output_type": "stream",
     "text": [
      "WARNING:pypdf._reader:invalid pdf header: b'<!DOC'\n",
      "WARNING:pypdf._reader:EOF marker not found\n",
      "WARNING:pypdf._reader:invalid pdf header: b'<!DOC'\n",
      "WARNING:pypdf._reader:EOF marker not found\n",
      "WARNING:pypdf._reader:invalid pdf header: b'<!DOC'\n",
      "WARNING:pypdf._reader:EOF marker not found\n"
     ]
    },
    {
     "name": "stdout",
     "output_type": "stream",
     "text": [
      "Failed to load file /Users/aapoliakova/PycharmProjects/test_hybdrid_search_engines/downloads/Loss of Life Transformer Prediction Based on Stacking Ensemble Improved by Genetic Algorithm By IJISRT.pdf with error: RetryError[<Future at 0x300072310 state=finished raised PdfStreamError>]. Skipping...\n"
     ]
    },
    {
     "name": "stderr",
     "output_type": "stream",
     "text": [
      "WARNING:pypdf._reader:invalid pdf header: b'<!DOC'\n",
      "WARNING:pypdf._reader:EOF marker not found\n",
      "WARNING:pypdf._reader:invalid pdf header: b'<!DOC'\n",
      "WARNING:pypdf._reader:EOF marker not found\n",
      "WARNING:pypdf._reader:invalid pdf header: b'<!DOC'\n",
      "WARNING:pypdf._reader:EOF marker not found\n"
     ]
    },
    {
     "name": "stdout",
     "output_type": "stream",
     "text": [
      "Failed to load file /Users/aapoliakova/PycharmProjects/test_hybdrid_search_engines/downloads/Transformer and Inductor Design Handbook.pdf with error: RetryError[<Future at 0x179180790 state=finished raised PdfStreamError>]. Skipping...\n"
     ]
    },
    {
     "data": {
      "text/plain": [
       "(68, 63, 100)"
      ]
     },
     "execution_count": 61,
     "metadata": {},
     "output_type": "execute_result"
    }
   ],
   "execution_count": 61
  },
  {
   "metadata": {},
   "cell_type": "markdown",
   "source": "## with this approach 68 files downloaded, 63 is parsable to pdf ",
   "id": "4dbcaa0addfe5c2c"
  },
  {
   "metadata": {},
   "cell_type": "markdown",
   "source": "# Please don't pay attention at the next section, is just some code for testing ",
   "id": "83f46eda6cf56647"
  },
  {
   "metadata": {
    "ExecuteTime": {
     "end_time": "2024-10-22T21:46:32.239010Z",
     "start_time": "2024-10-22T21:46:32.235887Z"
    }
   },
   "cell_type": "code",
   "source": [
    "stats = []\n",
    "urls = []\n",
    "broken = []\n",
    "\n",
    "for i, paper in enumerate(metadata):\n",
    "    if 'open_access' in paper:\n",
    "        if 'oa_url' in paper['open_access']:\n",
    "            if paper['open_access'].get('oa_url') is not None:\n",
    "                stats.append(True)\n",
    "                urls.append(paper['open_access']['oa_url'].replace('abs', 'pdf'))\n",
    "            else:\n",
    "                broken.append(paper)\n",
    "    else:\n",
    "        stats.append(False)\n",
    "        broken.append(paper)"
   ],
   "id": "594f83ed8826bb8a",
   "outputs": [],
   "execution_count": 46
  },
  {
   "metadata": {
    "ExecuteTime": {
     "end_time": "2024-10-22T21:46:37.832330Z",
     "start_time": "2024-10-22T21:46:37.829618Z"
    }
   },
   "cell_type": "code",
   "source": [
    "is_open_repo = []\n",
    "for i in range(len(broken)):\n",
    "    ans = broken[i]['open_access']['any_repository_has_fulltext']\n",
    "    is_open_repo.append(ans)"
   ],
   "id": "69528579e98f1aec",
   "outputs": [],
   "execution_count": 47
  },
  {
   "metadata": {
    "ExecuteTime": {
     "end_time": "2024-10-22T21:46:38.371485Z",
     "start_time": "2024-10-22T21:46:38.368975Z"
    }
   },
   "cell_type": "code",
   "source": [
    "from collections import Counter\n",
    "\n",
    "Counter(stats)"
   ],
   "id": "fbeafc847a1f214b",
   "outputs": [
    {
     "data": {
      "text/plain": [
       "Counter({True: 75})"
      ]
     },
     "execution_count": 48,
     "metadata": {},
     "output_type": "execute_result"
    }
   ],
   "execution_count": 48
  },
  {
   "metadata": {
    "ExecuteTime": {
     "end_time": "2024-10-20T15:20:15.780165Z",
     "start_time": "2024-10-20T15:20:15.776371Z"
    }
   },
   "cell_type": "code",
   "source": "len(metadata)",
   "id": "aae3bc20faaea6d1",
   "outputs": [
    {
     "data": {
      "text/plain": [
       "100"
      ]
     },
     "execution_count": 93,
     "metadata": {},
     "output_type": "execute_result"
    }
   ],
   "execution_count": 93
  },
  {
   "metadata": {
    "ExecuteTime": {
     "end_time": "2024-10-20T14:53:07.307391Z",
     "start_time": "2024-10-20T14:53:07.300111Z"
    }
   },
   "cell_type": "code",
   "source": "metadata[0]",
   "id": "128188dd0f17ba20",
   "outputs": [
    {
     "data": {
      "text/plain": [
       "{'id': 'https://openalex.org/W2896457183',\n",
       " 'doi': 'https://doi.org/10.48550/arxiv.1810.04805',\n",
       " 'title': 'BERT: Pre-training of Deep Bidirectional Transformers for Language Understanding',\n",
       " 'display_name': 'BERT: Pre-training of Deep Bidirectional Transformers for Language Understanding',\n",
       " 'relevance_score': 8320.475,\n",
       " 'publication_year': 2018,\n",
       " 'publication_date': '2018-01-01',\n",
       " 'ids': {'openalex': 'https://openalex.org/W2896457183',\n",
       "  'doi': 'https://doi.org/10.48550/arxiv.1810.04805',\n",
       "  'mag': '2896457183'},\n",
       " 'language': 'en',\n",
       " 'primary_location': {'is_oa': True,\n",
       "  'landing_page_url': 'https://arxiv.org/abs/1810.04805',\n",
       "  'pdf_url': None,\n",
       "  'source': {'id': 'https://openalex.org/S4306400194',\n",
       "   'display_name': 'arXiv (Cornell University)',\n",
       "   'issn_l': None,\n",
       "   'issn': None,\n",
       "   'is_oa': True,\n",
       "   'is_in_doaj': False,\n",
       "   'is_core': False,\n",
       "   'host_organization': 'https://openalex.org/I205783295',\n",
       "   'host_organization_name': 'Cornell University',\n",
       "   'host_organization_lineage': ['https://openalex.org/I205783295'],\n",
       "   'host_organization_lineage_names': ['Cornell University'],\n",
       "   'type': 'repository'},\n",
       "  'license': 'other-oa',\n",
       "  'license_id': 'https://openalex.org/licenses/other-oa',\n",
       "  'version': 'submittedVersion',\n",
       "  'is_accepted': False,\n",
       "  'is_published': False},\n",
       " 'type': 'preprint',\n",
       " 'type_crossref': 'posted-content',\n",
       " 'indexed_in': ['datacite'],\n",
       " 'open_access': {'is_oa': True,\n",
       "  'oa_status': 'green',\n",
       "  'oa_url': 'https://arxiv.org/abs/1810.04805',\n",
       "  'any_repository_has_fulltext': True},\n",
       " 'authorships': [{'author_position': 'first',\n",
       "   'author': {'id': 'https://openalex.org/A5057457287',\n",
       "    'display_name': 'Jacob Devlin',\n",
       "    'orcid': None},\n",
       "   'institutions': [{'id': 'https://openalex.org/I1291425158',\n",
       "     'display_name': 'Google (United States)',\n",
       "     'ror': 'https://ror.org/00njsd438',\n",
       "     'country_code': 'US',\n",
       "     'type': 'company',\n",
       "     'lineage': ['https://openalex.org/I1291425158',\n",
       "      'https://openalex.org/I4210128969']}],\n",
       "   'countries': ['US'],\n",
       "   'is_corresponding': False,\n",
       "   'raw_author_name': 'Jacob Devlin',\n",
       "   'raw_affiliation_strings': ['Google,,,,,'],\n",
       "   'affiliations': [{'raw_affiliation_string': 'Google,,,,,',\n",
       "     'institution_ids': ['https://openalex.org/I1291425158']}]},\n",
       "  {'author_position': 'middle',\n",
       "   'author': {'id': 'https://openalex.org/A5076904467',\n",
       "    'display_name': 'Ming‐Wei Chang',\n",
       "    'orcid': 'https://orcid.org/0000-0002-0137-8895'},\n",
       "   'institutions': [{'id': 'https://openalex.org/I1291425158',\n",
       "     'display_name': 'Google (United States)',\n",
       "     'ror': 'https://ror.org/00njsd438',\n",
       "     'country_code': 'US',\n",
       "     'type': 'company',\n",
       "     'lineage': ['https://openalex.org/I1291425158',\n",
       "      'https://openalex.org/I4210128969']}],\n",
       "   'countries': ['US'],\n",
       "   'is_corresponding': False,\n",
       "   'raw_author_name': 'Ming-Wei Chang',\n",
       "   'raw_affiliation_strings': ['Google,,,,,'],\n",
       "   'affiliations': [{'raw_affiliation_string': 'Google,,,,,',\n",
       "     'institution_ids': ['https://openalex.org/I1291425158']}]},\n",
       "  {'author_position': 'middle',\n",
       "   'author': {'id': 'https://openalex.org/A5081862885',\n",
       "    'display_name': 'Kenton Lee',\n",
       "    'orcid': 'https://orcid.org/0000-0002-9534-5970'},\n",
       "   'institutions': [{'id': 'https://openalex.org/I1291425158',\n",
       "     'display_name': 'Google (United States)',\n",
       "     'ror': 'https://ror.org/00njsd438',\n",
       "     'country_code': 'US',\n",
       "     'type': 'company',\n",
       "     'lineage': ['https://openalex.org/I1291425158',\n",
       "      'https://openalex.org/I4210128969']}],\n",
       "   'countries': ['US'],\n",
       "   'is_corresponding': False,\n",
       "   'raw_author_name': 'Kenton Lee',\n",
       "   'raw_affiliation_strings': ['Google,,,,,'],\n",
       "   'affiliations': [{'raw_affiliation_string': 'Google,,,,,',\n",
       "     'institution_ids': ['https://openalex.org/I1291425158']}]},\n",
       "  {'author_position': 'last',\n",
       "   'author': {'id': 'https://openalex.org/A5053947885',\n",
       "    'display_name': 'Kristina Toutanova',\n",
       "    'orcid': None},\n",
       "   'institutions': [{'id': 'https://openalex.org/I1291425158',\n",
       "     'display_name': 'Google (United States)',\n",
       "     'ror': 'https://ror.org/00njsd438',\n",
       "     'country_code': 'US',\n",
       "     'type': 'company',\n",
       "     'lineage': ['https://openalex.org/I1291425158',\n",
       "      'https://openalex.org/I4210128969']}],\n",
       "   'countries': ['US'],\n",
       "   'is_corresponding': False,\n",
       "   'raw_author_name': 'Kristina Toutanova',\n",
       "   'raw_affiliation_strings': ['Google,,,,,'],\n",
       "   'affiliations': [{'raw_affiliation_string': 'Google,,,,,',\n",
       "     'institution_ids': ['https://openalex.org/I1291425158']}]}],\n",
       " 'institution_assertions': [],\n",
       " 'countries_distinct_count': 1,\n",
       " 'institutions_distinct_count': 1,\n",
       " 'corresponding_author_ids': [],\n",
       " 'corresponding_institution_ids': [],\n",
       " 'apc_list': None,\n",
       " 'apc_paid': None,\n",
       " 'fwci': None,\n",
       " 'has_fulltext': False,\n",
       " 'cited_by_count': 34296,\n",
       " 'citation_normalized_percentile': {'value': 0.999903,\n",
       "  'is_in_top_1_percent': True,\n",
       "  'is_in_top_10_percent': True},\n",
       " 'cited_by_percentile_year': {'min': 99, 'max': 100},\n",
       " 'biblio': {'volume': None,\n",
       "  'issue': None,\n",
       "  'first_page': None,\n",
       "  'last_page': None},\n",
       " 'is_retracted': False,\n",
       " 'is_paratext': False,\n",
       " 'primary_topic': {'id': 'https://openalex.org/T10028',\n",
       "  'display_name': 'Natural Language Processing',\n",
       "  'score': 0.9999,\n",
       "  'subfield': {'id': 'https://openalex.org/subfields/1702',\n",
       "   'display_name': 'Artificial Intelligence'},\n",
       "  'field': {'id': 'https://openalex.org/fields/17',\n",
       "   'display_name': 'Computer Science'},\n",
       "  'domain': {'id': 'https://openalex.org/domains/3',\n",
       "   'display_name': 'Physical Sciences'}},\n",
       " 'topics': [{'id': 'https://openalex.org/T10028',\n",
       "   'display_name': 'Natural Language Processing',\n",
       "   'score': 0.9999,\n",
       "   'subfield': {'id': 'https://openalex.org/subfields/1702',\n",
       "    'display_name': 'Artificial Intelligence'},\n",
       "   'field': {'id': 'https://openalex.org/fields/17',\n",
       "    'display_name': 'Computer Science'},\n",
       "   'domain': {'id': 'https://openalex.org/domains/3',\n",
       "    'display_name': 'Physical Sciences'}},\n",
       "  {'id': 'https://openalex.org/T10181',\n",
       "   'display_name': 'Statistical Machine Translation and Natural Language Processing',\n",
       "   'score': 0.9996,\n",
       "   'subfield': {'id': 'https://openalex.org/subfields/1702',\n",
       "    'display_name': 'Artificial Intelligence'},\n",
       "   'field': {'id': 'https://openalex.org/fields/17',\n",
       "    'display_name': 'Computer Science'},\n",
       "   'domain': {'id': 'https://openalex.org/domains/3',\n",
       "    'display_name': 'Physical Sciences'}},\n",
       "  {'id': 'https://openalex.org/T10201',\n",
       "   'display_name': 'Speech Recognition Technology',\n",
       "   'score': 0.9977,\n",
       "   'subfield': {'id': 'https://openalex.org/subfields/1702',\n",
       "    'display_name': 'Artificial Intelligence'},\n",
       "   'field': {'id': 'https://openalex.org/fields/17',\n",
       "    'display_name': 'Computer Science'},\n",
       "   'domain': {'id': 'https://openalex.org/domains/3',\n",
       "    'display_name': 'Physical Sciences'}}],\n",
       " 'keywords': [{'id': 'https://openalex.org/keywords/language-modeling',\n",
       "   'display_name': 'Language Modeling',\n",
       "   'score': 0.536123},\n",
       "  {'id': 'https://openalex.org/keywords/word-representation',\n",
       "   'display_name': 'Word Representation',\n",
       "   'score': 0.534569},\n",
       "  {'id': 'https://openalex.org/keywords/machine-translation',\n",
       "   'display_name': 'Machine Translation',\n",
       "   'score': 0.518098},\n",
       "  {'id': 'https://openalex.org/keywords/neural-machine-translation',\n",
       "   'display_name': 'Neural Machine Translation',\n",
       "   'score': 0.513615},\n",
       "  {'id': 'https://openalex.org/keywords/syntax-based-translation-models',\n",
       "   'display_name': 'Syntax-based Translation Models',\n",
       "   'score': 0.507534}],\n",
       " 'concepts': [{'id': 'https://openalex.org/C66322947',\n",
       "   'wikidata': 'https://www.wikidata.org/wiki/Q11658',\n",
       "   'display_name': 'Transformer',\n",
       "   'level': 3,\n",
       "   'score': 0.6331507},\n",
       "  {'id': 'https://openalex.org/C41008148',\n",
       "   'wikidata': 'https://www.wikidata.org/wiki/Q21198',\n",
       "   'display_name': 'Computer science',\n",
       "   'level': 0,\n",
       "   'score': 0.49752977},\n",
       "  {'id': 'https://openalex.org/C2777211547',\n",
       "   'wikidata': 'https://www.wikidata.org/wiki/Q17141490',\n",
       "   'display_name': 'Training (meteorology)',\n",
       "   'level': 2,\n",
       "   'score': 0.4974585},\n",
       "  {'id': 'https://openalex.org/C154945302',\n",
       "   'wikidata': 'https://www.wikidata.org/wiki/Q11660',\n",
       "   'display_name': 'Artificial intelligence',\n",
       "   'level': 1,\n",
       "   'score': 0.34589326},\n",
       "  {'id': 'https://openalex.org/C119599485',\n",
       "   'wikidata': 'https://www.wikidata.org/wiki/Q43035',\n",
       "   'display_name': 'Electrical engineering',\n",
       "   'level': 1,\n",
       "   'score': 0.24281916},\n",
       "  {'id': 'https://openalex.org/C127413603',\n",
       "   'wikidata': 'https://www.wikidata.org/wiki/Q11023',\n",
       "   'display_name': 'Engineering',\n",
       "   'level': 0,\n",
       "   'score': 0.21358117},\n",
       "  {'id': 'https://openalex.org/C205649164',\n",
       "   'wikidata': 'https://www.wikidata.org/wiki/Q1071',\n",
       "   'display_name': 'Geography',\n",
       "   'level': 0,\n",
       "   'score': 0.14049533},\n",
       "  {'id': 'https://openalex.org/C165801399',\n",
       "   'wikidata': 'https://www.wikidata.org/wiki/Q25428',\n",
       "   'display_name': 'Voltage',\n",
       "   'level': 2,\n",
       "   'score': 0.054659605},\n",
       "  {'id': 'https://openalex.org/C153294291',\n",
       "   'wikidata': 'https://www.wikidata.org/wiki/Q25261',\n",
       "   'display_name': 'Meteorology',\n",
       "   'level': 1,\n",
       "   'score': 0.0}],\n",
       " 'mesh': [],\n",
       " 'locations_count': 2,\n",
       " 'locations': [{'is_oa': True,\n",
       "   'landing_page_url': 'https://arxiv.org/abs/1810.04805',\n",
       "   'pdf_url': None,\n",
       "   'source': {'id': 'https://openalex.org/S4306400194',\n",
       "    'display_name': 'arXiv (Cornell University)',\n",
       "    'issn_l': None,\n",
       "    'issn': None,\n",
       "    'is_oa': True,\n",
       "    'is_in_doaj': False,\n",
       "    'is_core': False,\n",
       "    'host_organization': 'https://openalex.org/I205783295',\n",
       "    'host_organization_name': 'Cornell University',\n",
       "    'host_organization_lineage': ['https://openalex.org/I205783295'],\n",
       "    'host_organization_lineage_names': ['Cornell University'],\n",
       "    'type': 'repository'},\n",
       "   'license': 'other-oa',\n",
       "   'license_id': 'https://openalex.org/licenses/other-oa',\n",
       "   'version': 'submittedVersion',\n",
       "   'is_accepted': False,\n",
       "   'is_published': False},\n",
       "  {'is_oa': False,\n",
       "   'landing_page_url': 'https://api.datacite.org/dois/10.48550/arxiv.1810.04805',\n",
       "   'pdf_url': None,\n",
       "   'source': {'id': 'https://openalex.org/S4393179698',\n",
       "    'display_name': 'DataCite API',\n",
       "    'issn_l': None,\n",
       "    'issn': None,\n",
       "    'is_oa': True,\n",
       "    'is_in_doaj': False,\n",
       "    'is_core': False,\n",
       "    'host_organization': 'https://openalex.org/I4210145204',\n",
       "    'host_organization_name': 'DataCite',\n",
       "    'host_organization_lineage': ['https://openalex.org/I4210145204'],\n",
       "    'host_organization_lineage_names': ['DataCite'],\n",
       "    'type': 'metadata'},\n",
       "   'license': None,\n",
       "   'license_id': None,\n",
       "   'version': None}],\n",
       " 'best_oa_location': {'is_oa': True,\n",
       "  'landing_page_url': 'https://arxiv.org/abs/1810.04805',\n",
       "  'pdf_url': None,\n",
       "  'source': {'id': 'https://openalex.org/S4306400194',\n",
       "   'display_name': 'arXiv (Cornell University)',\n",
       "   'issn_l': None,\n",
       "   'issn': None,\n",
       "   'is_oa': True,\n",
       "   'is_in_doaj': False,\n",
       "   'is_core': False,\n",
       "   'host_organization': 'https://openalex.org/I205783295',\n",
       "   'host_organization_name': 'Cornell University',\n",
       "   'host_organization_lineage': ['https://openalex.org/I205783295'],\n",
       "   'host_organization_lineage_names': ['Cornell University'],\n",
       "   'type': 'repository'},\n",
       "  'license': 'other-oa',\n",
       "  'license_id': 'https://openalex.org/licenses/other-oa',\n",
       "  'version': 'submittedVersion',\n",
       "  'is_accepted': False,\n",
       "  'is_published': False},\n",
       " 'sustainable_development_goals': [{'id': 'https://metadata.un.org/sdg/4',\n",
       "   'score': 0.84,\n",
       "   'display_name': 'Quality education'}],\n",
       " 'grants': [],\n",
       " 'datasets': [],\n",
       " 'versions': [],\n",
       " 'referenced_works_count': 55,\n",
       " 'referenced_works': ['https://openalex.org/W131533222',\n",
       "  'https://openalex.org/W1486649854',\n",
       "  'https://openalex.org/W1599016936',\n",
       "  'https://openalex.org/W1840435438',\n",
       "  'https://openalex.org/W2025768430',\n",
       "  'https://openalex.org/W2108598243',\n",
       "  'https://openalex.org/W2117130368',\n",
       "  'https://openalex.org/W2121227244',\n",
       "  'https://openalex.org/W2130158090',\n",
       "  'https://openalex.org/W2130903752',\n",
       "  'https://openalex.org/W2131462252',\n",
       "  'https://openalex.org/W2131744502',\n",
       "  'https://openalex.org/W2144578941',\n",
       "  'https://openalex.org/W2149933564',\n",
       "  'https://openalex.org/W2153579005',\n",
       "  'https://openalex.org/W2158108973',\n",
       "  'https://openalex.org/W2158139315',\n",
       "  'https://openalex.org/W2170973209',\n",
       "  'https://openalex.org/W2250539671',\n",
       "  'https://openalex.org/W2251939518',\n",
       "  'https://openalex.org/W2270070752',\n",
       "  'https://openalex.org/W2396767181',\n",
       "  'https://openalex.org/W2413794162',\n",
       "  'https://openalex.org/W2462831000',\n",
       "  'https://openalex.org/W2507974895',\n",
       "  'https://openalex.org/W2525778437',\n",
       "  'https://openalex.org/W2551396370',\n",
       "  'https://openalex.org/W2610858497',\n",
       "  'https://openalex.org/W2784823820',\n",
       "  'https://openalex.org/W2806120502',\n",
       "  'https://openalex.org/W2880875857',\n",
       "  'https://openalex.org/W2886490473',\n",
       "  'https://openalex.org/W2888329843',\n",
       "  'https://openalex.org/W2891602716',\n",
       "  'https://openalex.org/W2897076808',\n",
       "  'https://openalex.org/W2949433733',\n",
       "  'https://openalex.org/W2951714314',\n",
       "  'https://openalex.org/W2962718483',\n",
       "  'https://openalex.org/W2962739339',\n",
       "  'https://openalex.org/W2962808855',\n",
       "  'https://openalex.org/W2963026768',\n",
       "  'https://openalex.org/W2963159690',\n",
       "  'https://openalex.org/W2963310665',\n",
       "  'https://openalex.org/W2963339397',\n",
       "  'https://openalex.org/W2963403868',\n",
       "  'https://openalex.org/W2963563735',\n",
       "  'https://openalex.org/W2963564796',\n",
       "  'https://openalex.org/W2963644595',\n",
       "  'https://openalex.org/W2963748441',\n",
       "  'https://openalex.org/W2963756346',\n",
       "  'https://openalex.org/W2963804993',\n",
       "  'https://openalex.org/W2963846996',\n",
       "  'https://openalex.org/W2963918774',\n",
       "  'https://openalex.org/W3098057198',\n",
       "  'https://openalex.org/W3104033643'],\n",
       " 'related_works': ['https://openalex.org/W4391375266',\n",
       "  'https://openalex.org/W2810751659',\n",
       "  'https://openalex.org/W2748952813',\n",
       "  'https://openalex.org/W258997015',\n",
       "  'https://openalex.org/W2390279801',\n",
       "  'https://openalex.org/W2376932109',\n",
       "  'https://openalex.org/W2358668433',\n",
       "  'https://openalex.org/W230091440',\n",
       "  'https://openalex.org/W2233261550',\n",
       "  'https://openalex.org/W2001405890'],\n",
       " 'abstract_inverted_index': {'We': [0],\n",
       "  'introduce': [1],\n",
       "  'a': [2, 46, 66],\n",
       "  'new': [3, 92],\n",
       "  'language': [4, 19, 76, 98],\n",
       "  'representation': [5, 20],\n",
       "  'model': [6, 51],\n",
       "  'called': [7],\n",
       "  'BERT,': [8],\n",
       "  'which': [9],\n",
       "  'stands': [10],\n",
       "  'for': [11, 65],\n",
       "  'Bidirectional': [12],\n",
       "  'Encoder': [13],\n",
       "  'Representations': [14],\n",
       "  'from': [15, 30],\n",
       "  'Transformers.': [16],\n",
       "  'Unlike': [17],\n",
       "  'recent': [18],\n",
       "  'models,': [21],\n",
       "  'BERT': [22, 50, 83],\n",
       "  'is': [23, 84],\n",
       "  'designed': [24],\n",
       "  'to': [25, 61, 106, 114, 125, 136],\n",
       "  'pre-train': [26],\n",
       "  'deep': [27],\n",
       "  'bidirectional': [28],\n",
       "  'representations': [29],\n",
       "  'unlabeled': [31],\n",
       "  'text': [32],\n",
       "  'by': [33],\n",
       "  'jointly': [34],\n",
       "  'conditioning': [35],\n",
       "  'on': [36, 95],\n",
       "  'both': [37],\n",
       "  'left': [38],\n",
       "  'and': [39, 75, 87, 131],\n",
       "  'right': [40],\n",
       "  'context': [41],\n",
       "  'in': [42],\n",
       "  'all': [43],\n",
       "  'layers.': [44],\n",
       "  'As': [45],\n",
       "  'result,': [47],\n",
       "  'the': [48, 103],\n",
       "  'pre-trained': [49],\n",
       "  'can': [52],\n",
       "  'be': [53],\n",
       "  'fine-tuned': [54],\n",
       "  'with': [55],\n",
       "  'just': [56],\n",
       "  'one': [57],\n",
       "  'additional': [58],\n",
       "  'output': [59],\n",
       "  'layer': [60],\n",
       "  'create': [62],\n",
       "  'state-of-the-art': [63, 93],\n",
       "  'models': [64],\n",
       "  'wide': [67],\n",
       "  'range': [68],\n",
       "  'of': [69],\n",
       "  'tasks,': [70, 100],\n",
       "  'such': [71],\n",
       "  'as': [72],\n",
       "  'question': [73, 121],\n",
       "  'answering': [74, 122],\n",
       "  'inference,': [77],\n",
       "  'without': [78],\n",
       "  'substantial': [79],\n",
       "  'task-specific': [80],\n",
       "  'architecture': [81],\n",
       "  'modifications.': [82],\n",
       "  'conceptually': [85],\n",
       "  'simple': [86],\n",
       "  'empirically': [88],\n",
       "  'powerful.': [89],\n",
       "  'It': [90],\n",
       "  'obtains': [91],\n",
       "  'results': [94],\n",
       "  'eleven': [96],\n",
       "  'natural': [97],\n",
       "  'processing': [99],\n",
       "  'including': [101],\n",
       "  'pushing': [102],\n",
       "  'GLUE': [104],\n",
       "  'score': [105],\n",
       "  '80.5%': [107],\n",
       "  '(7.7%': [108],\n",
       "  'point': [109, 128, 139],\n",
       "  'absolute': [110, 117, 129, 140],\n",
       "  'improvement),': [111, 118],\n",
       "  'MultiNLI': [112],\n",
       "  'accuracy': [113],\n",
       "  '86.7%': [115],\n",
       "  '(4.6%': [116],\n",
       "  'SQuAD': [119, 132],\n",
       "  'v1.1': [120],\n",
       "  'Test': [123, 134],\n",
       "  'F1': [124, 135],\n",
       "  '93.2': [126],\n",
       "  '(1.5': [127],\n",
       "  'improvement)': [130],\n",
       "  'v2.0': [133],\n",
       "  '83.1': [137],\n",
       "  '(5.1': [138],\n",
       "  'improvement).': [141]},\n",
       " 'cited_by_api_url': 'https://api.openalex.org/works?filter=cites:W2896457183',\n",
       " 'counts_by_year': [{'year': 2024, 'cited_by_count': 3872},\n",
       "  {'year': 2023, 'cited_by_count': 8833},\n",
       "  {'year': 2022, 'cited_by_count': 7000},\n",
       "  {'year': 2021, 'cited_by_count': 7418},\n",
       "  {'year': 2020, 'cited_by_count': 4683},\n",
       "  {'year': 2019, 'cited_by_count': 1873},\n",
       "  {'year': 2018, 'cited_by_count': 33},\n",
       "  {'year': 2017, 'cited_by_count': 7},\n",
       "  {'year': 2016, 'cited_by_count': 1},\n",
       "  {'year': 2012, 'cited_by_count': 1}],\n",
       " 'updated_date': '2024-10-19T17:00:17.597611',\n",
       " 'created_date': '2018-10-26'}"
      ]
     },
     "execution_count": 51,
     "metadata": {},
     "output_type": "execute_result"
    }
   ],
   "execution_count": 51
  },
  {
   "metadata": {
    "ExecuteTime": {
     "end_time": "2024-10-20T15:03:57.806982Z",
     "start_time": "2024-10-20T15:03:57.796070Z"
    }
   },
   "cell_type": "code",
   "source": [
    "import os\n",
    "import random\n",
    "import ssl\n",
    "import requests\n",
    "from urllib.parse import urlparse\n",
    "\n",
    "# Constants\n",
    "BASE_DOWNLOAD_PATH = \"\"  # Change to your path\n",
    "USER_AGENTS = [\n",
    "    \"Mozilla/5.0 (Windows NT 10.0; Win64; x64) AppleWebKit/537.36 (KHTML, like Gecko) Chrome/91.0.4472.124 Safari/537.36\",\n",
    "    \"Mozilla/5.0 (Macintosh; Intel Mac OS X 10_15_7) AppleWebKit/537.36 (KHTML, like Gecko) Chrome/91.0.4472.124 Safari/537.36\",\n",
    "    \"Mozilla/5.0 (X11; Linux x86_64) AppleWebKit/537.36 (KHTML, like Gecko) Chrome/91.0.4472.124 Safari/537.36\",\n",
    "    \"Mozilla/5.0 (Windows NT 10.0; Win64; x64) AppleWebKit/537.36 (KHTML, like Gecko) Firefox/89.0\",\n",
    "    \"Mozilla/5.0 (Macintosh; Intel Mac OS X 10.15; rv:89.0) Gecko/20100101 Firefox/89.0\",\n",
    "]\n",
    "\n",
    "HEADER = lambda url: {\n",
    "    \"User-Agent\": random.choice(USER_AGENTS),\n",
    "    \"Referer\": url,\n",
    "}\n",
    "\n",
    "\n",
    "def download_pdf(url, uuid):\n",
    "    \"\"\"\n",
    "    Downloads a PDF from a given URL and saves it to the local directory with a unique name.\n",
    "    \n",
    "    Args:\n",
    "        url (str): The URL of the PDF file.\n",
    "        uuid (str): A unique identifier for the file (used for naming).\n",
    "        \n",
    "    Returns:\n",
    "        str: The path where the file is saved, or 'error' if it failed.\n",
    "    \"\"\"\n",
    "    try:\n",
    "        response = requests.get(url, headers=HEADER(url), stream=True)\n",
    "        if response.status_code == 200:\n",
    "            uuid = urlparse(uuid).path.replace(r\"/\", \"\")\n",
    "            filename = os.path.join(BASE_DOWNLOAD_PATH, f\"{uuid}.pdf\")\n",
    "            file_number = 1\n",
    "            while os.path.exists(filename):\n",
    "                filename = os.path.join(BASE_DOWNLOAD_PATH, f\"{uuid}_{file_number}.pdf\")\n",
    "                file_number += 1\n",
    "            with open(filename, \"wb\") as f:\n",
    "                f.write(response.content)\n",
    "            print(f\"Saved {filename}\")\n",
    "            return filename\n",
    "        else:\n",
    "            print(f\"Failed to download {url}. Status code: {response.status_code}\")\n",
    "            return \"error\"\n",
    "    except Exception as e:\n",
    "        print(f\"An error occurred while downloading {url}: {e}\")\n",
    "        return \"error\"\n",
    "\n",
    "\n",
    "def download_from_queries(queries):\n",
    "    \"\"\"\n",
    "    Downloads PDFs from a list of queries (URLs) and saves them locally.\n",
    "    \n",
    "    Args:\n",
    "        queries (list of tuples): A list of (url, uuid) pairs to download PDFs.\n",
    "        \n",
    "    Returns:\n",
    "        list: A list of file paths where the PDFs were saved.\n",
    "    \"\"\"\n",
    "    output = []\n",
    "    for uuid, url in queries:\n",
    "        print(f\"Downloading: {url}\")\n",
    "        filename = download_pdf(url, uuid)\n",
    "        if filename != \"error\":\n",
    "            output.append(filename)\n",
    "\n",
    "    return output\n",
    "\n",
    "\n",
    "# Example usage\n",
    "if __name__ == \"__main__\":\n",
    "    # Example list of queries with (url, uuid)\n",
    "    # queries = [\n",
    "    #     (\"https://example.com/sample1.pdf\", \"sample1\"),\n",
    "    #     (\"https://example.com/sample2.pdf\", \"sample2\"),\n",
    "    #    \n",
    "    # ]\n",
    "    queries = Counter(dois).items()\n",
    "\n",
    "    results = download_from_queries(queries)\n",
    "    print(\"Downloaded files:\", results)\n"
   ],
   "id": "974d5cca3742a0ec",
   "outputs": [
    {
     "name": "stdout",
     "output_type": "stream",
     "text": [
      "Downloading: 1\n",
      "An error occurred while downloading 1: Invalid URL '1': No scheme supplied. Perhaps you meant https://1?\n",
      "Downloading: 1\n",
      "An error occurred while downloading 1: Invalid URL '1': No scheme supplied. Perhaps you meant https://1?\n",
      "Downloading: 1\n",
      "An error occurred while downloading 1: Invalid URL '1': No scheme supplied. Perhaps you meant https://1?\n",
      "Downloading: 7\n",
      "An error occurred while downloading 7: Invalid URL '7': No scheme supplied. Perhaps you meant https://7?\n",
      "Downloading: 1\n",
      "An error occurred while downloading 1: Invalid URL '1': No scheme supplied. Perhaps you meant https://1?\n",
      "Downloading: 1\n",
      "An error occurred while downloading 1: Invalid URL '1': No scheme supplied. Perhaps you meant https://1?\n",
      "Downloading: 1\n",
      "An error occurred while downloading 1: Invalid URL '1': No scheme supplied. Perhaps you meant https://1?\n",
      "Downloading: 1\n",
      "An error occurred while downloading 1: Invalid URL '1': No scheme supplied. Perhaps you meant https://1?\n",
      "Downloading: 1\n",
      "An error occurred while downloading 1: Invalid URL '1': No scheme supplied. Perhaps you meant https://1?\n",
      "Downloading: 1\n",
      "An error occurred while downloading 1: Invalid URL '1': No scheme supplied. Perhaps you meant https://1?\n",
      "Downloading: 1\n",
      "An error occurred while downloading 1: Invalid URL '1': No scheme supplied. Perhaps you meant https://1?\n",
      "Downloading: 1\n",
      "An error occurred while downloading 1: Invalid URL '1': No scheme supplied. Perhaps you meant https://1?\n",
      "Downloading: 1\n",
      "An error occurred while downloading 1: Invalid URL '1': No scheme supplied. Perhaps you meant https://1?\n",
      "Downloading: 1\n",
      "An error occurred while downloading 1: Invalid URL '1': No scheme supplied. Perhaps you meant https://1?\n",
      "Downloading: 1\n",
      "An error occurred while downloading 1: Invalid URL '1': No scheme supplied. Perhaps you meant https://1?\n",
      "Downloading: 1\n",
      "An error occurred while downloading 1: Invalid URL '1': No scheme supplied. Perhaps you meant https://1?\n",
      "Downloading: 1\n",
      "An error occurred while downloading 1: Invalid URL '1': No scheme supplied. Perhaps you meant https://1?\n",
      "Downloading: 1\n",
      "An error occurred while downloading 1: Invalid URL '1': No scheme supplied. Perhaps you meant https://1?\n",
      "Downloading: 1\n",
      "An error occurred while downloading 1: Invalid URL '1': No scheme supplied. Perhaps you meant https://1?\n",
      "Downloading: 1\n",
      "An error occurred while downloading 1: Invalid URL '1': No scheme supplied. Perhaps you meant https://1?\n",
      "Downloading: 1\n",
      "An error occurred while downloading 1: Invalid URL '1': No scheme supplied. Perhaps you meant https://1?\n",
      "Downloading: 1\n",
      "An error occurred while downloading 1: Invalid URL '1': No scheme supplied. Perhaps you meant https://1?\n",
      "Downloading: 1\n",
      "An error occurred while downloading 1: Invalid URL '1': No scheme supplied. Perhaps you meant https://1?\n",
      "Downloading: 1\n",
      "An error occurred while downloading 1: Invalid URL '1': No scheme supplied. Perhaps you meant https://1?\n",
      "Downloading: 1\n",
      "An error occurred while downloading 1: Invalid URL '1': No scheme supplied. Perhaps you meant https://1?\n",
      "Downloading: 1\n",
      "An error occurred while downloading 1: Invalid URL '1': No scheme supplied. Perhaps you meant https://1?\n",
      "Downloading: 1\n",
      "An error occurred while downloading 1: Invalid URL '1': No scheme supplied. Perhaps you meant https://1?\n",
      "Downloading: 1\n",
      "An error occurred while downloading 1: Invalid URL '1': No scheme supplied. Perhaps you meant https://1?\n",
      "Downloading: 1\n",
      "An error occurred while downloading 1: Invalid URL '1': No scheme supplied. Perhaps you meant https://1?\n",
      "Downloading: 1\n",
      "An error occurred while downloading 1: Invalid URL '1': No scheme supplied. Perhaps you meant https://1?\n",
      "Downloading: 1\n",
      "An error occurred while downloading 1: Invalid URL '1': No scheme supplied. Perhaps you meant https://1?\n",
      "Downloading: 1\n",
      "An error occurred while downloading 1: Invalid URL '1': No scheme supplied. Perhaps you meant https://1?\n",
      "Downloading: 1\n",
      "An error occurred while downloading 1: Invalid URL '1': No scheme supplied. Perhaps you meant https://1?\n",
      "Downloading: 1\n",
      "An error occurred while downloading 1: Invalid URL '1': No scheme supplied. Perhaps you meant https://1?\n",
      "Downloading: 1\n",
      "An error occurred while downloading 1: Invalid URL '1': No scheme supplied. Perhaps you meant https://1?\n",
      "Downloading: 1\n",
      "An error occurred while downloading 1: Invalid URL '1': No scheme supplied. Perhaps you meant https://1?\n",
      "Downloading: 1\n",
      "An error occurred while downloading 1: Invalid URL '1': No scheme supplied. Perhaps you meant https://1?\n",
      "Downloading: 1\n",
      "An error occurred while downloading 1: Invalid URL '1': No scheme supplied. Perhaps you meant https://1?\n",
      "Downloading: 1\n",
      "An error occurred while downloading 1: Invalid URL '1': No scheme supplied. Perhaps you meant https://1?\n",
      "Downloading: 1\n",
      "An error occurred while downloading 1: Invalid URL '1': No scheme supplied. Perhaps you meant https://1?\n",
      "Downloading: 1\n",
      "An error occurred while downloading 1: Invalid URL '1': No scheme supplied. Perhaps you meant https://1?\n",
      "Downloading: 1\n",
      "An error occurred while downloading 1: Invalid URL '1': No scheme supplied. Perhaps you meant https://1?\n",
      "Downloading: 1\n",
      "An error occurred while downloading 1: Invalid URL '1': No scheme supplied. Perhaps you meant https://1?\n",
      "Downloading: 1\n",
      "An error occurred while downloading 1: Invalid URL '1': No scheme supplied. Perhaps you meant https://1?\n",
      "Downloading: 1\n",
      "An error occurred while downloading 1: Invalid URL '1': No scheme supplied. Perhaps you meant https://1?\n",
      "Downloading: 1\n",
      "An error occurred while downloading 1: Invalid URL '1': No scheme supplied. Perhaps you meant https://1?\n",
      "Downloading: 1\n",
      "An error occurred while downloading 1: Invalid URL '1': No scheme supplied. Perhaps you meant https://1?\n",
      "Downloading: 1\n",
      "An error occurred while downloading 1: Invalid URL '1': No scheme supplied. Perhaps you meant https://1?\n",
      "Downloading: 1\n",
      "An error occurred while downloading 1: Invalid URL '1': No scheme supplied. Perhaps you meant https://1?\n",
      "Downloading: 1\n",
      "An error occurred while downloading 1: Invalid URL '1': No scheme supplied. Perhaps you meant https://1?\n",
      "Downloading: 1\n",
      "An error occurred while downloading 1: Invalid URL '1': No scheme supplied. Perhaps you meant https://1?\n",
      "Downloading: 1\n",
      "An error occurred while downloading 1: Invalid URL '1': No scheme supplied. Perhaps you meant https://1?\n",
      "Downloading: 1\n",
      "An error occurred while downloading 1: Invalid URL '1': No scheme supplied. Perhaps you meant https://1?\n",
      "Downloading: 1\n",
      "An error occurred while downloading 1: Invalid URL '1': No scheme supplied. Perhaps you meant https://1?\n",
      "Downloading: 1\n",
      "An error occurred while downloading 1: Invalid URL '1': No scheme supplied. Perhaps you meant https://1?\n",
      "Downloading: 1\n",
      "An error occurred while downloading 1: Invalid URL '1': No scheme supplied. Perhaps you meant https://1?\n",
      "Downloading: 1\n",
      "An error occurred while downloading 1: Invalid URL '1': No scheme supplied. Perhaps you meant https://1?\n",
      "Downloading: 1\n",
      "An error occurred while downloading 1: Invalid URL '1': No scheme supplied. Perhaps you meant https://1?\n",
      "Downloading: 1\n",
      "An error occurred while downloading 1: Invalid URL '1': No scheme supplied. Perhaps you meant https://1?\n",
      "Downloading: 1\n",
      "An error occurred while downloading 1: Invalid URL '1': No scheme supplied. Perhaps you meant https://1?\n",
      "Downloading: 1\n",
      "An error occurred while downloading 1: Invalid URL '1': No scheme supplied. Perhaps you meant https://1?\n",
      "Downloading: 1\n",
      "An error occurred while downloading 1: Invalid URL '1': No scheme supplied. Perhaps you meant https://1?\n",
      "Downloading: 1\n",
      "An error occurred while downloading 1: Invalid URL '1': No scheme supplied. Perhaps you meant https://1?\n",
      "Downloading: 1\n",
      "An error occurred while downloading 1: Invalid URL '1': No scheme supplied. Perhaps you meant https://1?\n",
      "Downloading: 1\n",
      "An error occurred while downloading 1: Invalid URL '1': No scheme supplied. Perhaps you meant https://1?\n",
      "Downloading: 1\n",
      "An error occurred while downloading 1: Invalid URL '1': No scheme supplied. Perhaps you meant https://1?\n",
      "Downloading: 1\n",
      "An error occurred while downloading 1: Invalid URL '1': No scheme supplied. Perhaps you meant https://1?\n",
      "Downloading: 1\n",
      "An error occurred while downloading 1: Invalid URL '1': No scheme supplied. Perhaps you meant https://1?\n",
      "Downloading: 1\n",
      "An error occurred while downloading 1: Invalid URL '1': No scheme supplied. Perhaps you meant https://1?\n",
      "Downloading: 1\n",
      "An error occurred while downloading 1: Invalid URL '1': No scheme supplied. Perhaps you meant https://1?\n",
      "Downloading: 1\n",
      "An error occurred while downloading 1: Invalid URL '1': No scheme supplied. Perhaps you meant https://1?\n",
      "Downloading: 1\n",
      "An error occurred while downloading 1: Invalid URL '1': No scheme supplied. Perhaps you meant https://1?\n",
      "Downloading: 1\n",
      "An error occurred while downloading 1: Invalid URL '1': No scheme supplied. Perhaps you meant https://1?\n",
      "Downloading: 1\n",
      "An error occurred while downloading 1: Invalid URL '1': No scheme supplied. Perhaps you meant https://1?\n",
      "Downloading: 1\n",
      "An error occurred while downloading 1: Invalid URL '1': No scheme supplied. Perhaps you meant https://1?\n",
      "Downloading: 1\n",
      "An error occurred while downloading 1: Invalid URL '1': No scheme supplied. Perhaps you meant https://1?\n",
      "Downloading: 1\n",
      "An error occurred while downloading 1: Invalid URL '1': No scheme supplied. Perhaps you meant https://1?\n",
      "Downloading: 1\n",
      "An error occurred while downloading 1: Invalid URL '1': No scheme supplied. Perhaps you meant https://1?\n",
      "Downloading: 1\n",
      "An error occurred while downloading 1: Invalid URL '1': No scheme supplied. Perhaps you meant https://1?\n",
      "Downloading: 1\n",
      "An error occurred while downloading 1: Invalid URL '1': No scheme supplied. Perhaps you meant https://1?\n",
      "Downloading: 1\n",
      "An error occurred while downloading 1: Invalid URL '1': No scheme supplied. Perhaps you meant https://1?\n",
      "Downloading: 1\n",
      "An error occurred while downloading 1: Invalid URL '1': No scheme supplied. Perhaps you meant https://1?\n",
      "Downloading: 1\n",
      "An error occurred while downloading 1: Invalid URL '1': No scheme supplied. Perhaps you meant https://1?\n",
      "Downloading: 1\n",
      "An error occurred while downloading 1: Invalid URL '1': No scheme supplied. Perhaps you meant https://1?\n",
      "Downloading: 1\n",
      "An error occurred while downloading 1: Invalid URL '1': No scheme supplied. Perhaps you meant https://1?\n",
      "Downloading: 1\n",
      "An error occurred while downloading 1: Invalid URL '1': No scheme supplied. Perhaps you meant https://1?\n",
      "Downloading: 1\n",
      "An error occurred while downloading 1: Invalid URL '1': No scheme supplied. Perhaps you meant https://1?\n",
      "Downloading: 1\n",
      "An error occurred while downloading 1: Invalid URL '1': No scheme supplied. Perhaps you meant https://1?\n",
      "Downloading: 1\n",
      "An error occurred while downloading 1: Invalid URL '1': No scheme supplied. Perhaps you meant https://1?\n",
      "Downloading: 1\n",
      "An error occurred while downloading 1: Invalid URL '1': No scheme supplied. Perhaps you meant https://1?\n",
      "Downloading: 1\n",
      "An error occurred while downloading 1: Invalid URL '1': No scheme supplied. Perhaps you meant https://1?\n",
      "Downloading: 1\n",
      "An error occurred while downloading 1: Invalid URL '1': No scheme supplied. Perhaps you meant https://1?\n",
      "Downloading: 1\n",
      "An error occurred while downloading 1: Invalid URL '1': No scheme supplied. Perhaps you meant https://1?\n",
      "Downloading: 1\n",
      "An error occurred while downloading 1: Invalid URL '1': No scheme supplied. Perhaps you meant https://1?\n",
      "Downloaded files: []\n"
     ]
    }
   ],
   "execution_count": 61
  },
  {
   "metadata": {
    "ExecuteTime": {
     "end_time": "2024-10-20T15:21:39.948590Z",
     "start_time": "2024-10-20T15:21:39.569516Z"
    }
   },
   "cell_type": "code",
   "source": "download_pdf(urls[0], \"sample1\")",
   "id": "ae398e71430adf71",
   "outputs": [
    {
     "name": "stdout",
     "output_type": "stream",
     "text": [
      "Saved sample1_4.pdf\n"
     ]
    },
    {
     "data": {
      "text/plain": [
       "'sample1_4.pdf'"
      ]
     },
     "execution_count": 95,
     "metadata": {},
     "output_type": "execute_result"
    }
   ],
   "execution_count": 95
  },
  {
   "metadata": {
    "ExecuteTime": {
     "end_time": "2024-10-20T11:28:38.418876Z",
     "start_time": "2024-10-20T11:28:37.448495Z"
    }
   },
   "cell_type": "code",
   "source": [
    "r = OpenAlexReader()\n",
    "metadata = r.get_papers(\"Transformers\", max_results=100)\n",
    "# r.download_paper(metadata)"
   ],
   "id": "b6346eb50f0c3a2e",
   "outputs": [
    {
     "name": "stdout",
     "output_type": "stream",
     "text": [
      "3 None\n",
      "13 None\n",
      "33 None\n",
      "37 None\n",
      "57 None\n",
      "81 None\n",
      "89 None\n"
     ]
    }
   ],
   "execution_count": 11
  },
  {
   "metadata": {
    "ExecuteTime": {
     "end_time": "2024-10-20T11:31:46.483199Z",
     "start_time": "2024-10-20T11:31:46.205477Z"
    }
   },
   "cell_type": "code",
   "source": "requests.get(metadata[0]['id'])",
   "id": "23788549a4a819d1",
   "outputs": [
    {
     "data": {
      "text/plain": [
       "<Response [200]>"
      ]
     },
     "execution_count": 15,
     "metadata": {},
     "output_type": "execute_result"
    }
   ],
   "execution_count": 15
  },
  {
   "metadata": {
    "ExecuteTime": {
     "end_time": "2024-10-20T11:35:50.406855Z",
     "start_time": "2024-10-20T11:35:50.400996Z"
    }
   },
   "cell_type": "code",
   "source": "len(os.listdir('downloads'))",
   "id": "f8badcf6730ed7e5",
   "outputs": [
    {
     "data": {
      "text/plain": [
       "35"
      ]
     },
     "execution_count": 25,
     "metadata": {},
     "output_type": "execute_result"
    }
   ],
   "execution_count": 25
  },
  {
   "metadata": {
    "ExecuteTime": {
     "end_time": "2024-10-20T11:33:07.933007Z",
     "start_time": "2024-10-20T11:33:07.930332Z"
    }
   },
   "cell_type": "code",
   "source": "len(metadata)",
   "id": "592c92044b264a84",
   "outputs": [
    {
     "data": {
      "text/plain": [
       "7"
      ]
     },
     "execution_count": 19,
     "metadata": {},
     "output_type": "execute_result"
    }
   ],
   "execution_count": 19
  },
  {
   "metadata": {
    "ExecuteTime": {
     "end_time": "2024-10-20T11:33:42.707653Z",
     "start_time": "2024-10-20T11:33:42.078148Z"
    }
   },
   "cell_type": "code",
   "source": "out = r._fetch_openalex_results(\"Transformers\", max_results=100)",
   "id": "11f623d8eada50a0",
   "outputs": [],
   "execution_count": 21
  },
  {
   "metadata": {
    "ExecuteTime": {
     "end_time": "2024-10-20T11:35:15.434450Z",
     "start_time": "2024-10-20T11:34:26.646465Z"
    }
   },
   "cell_type": "code",
   "source": "os.listdir()",
   "id": "c7107972de6fa53b",
   "outputs": [
    {
     "name": "stderr",
     "output_type": "stream",
     "text": [
      "ERROR:root:Error downloading PDF: 418 Client Error: Unknown Code for url: https://ieeexplore.ieee.org/document/9710580/\n",
      "WARNING:root:No downloadable PDF URL found for this paper.\n",
      "ERROR:root:Error downloading PDF: 406 Client Error: Not Acceptable for url: https://www.aclweb.org/anthology/2020.emnlp-demos.6\n",
      "ERROR:root:Error downloading PDF: 406 Client Error: Not Acceptable for url: https://www.aclweb.org/anthology/P19-1285\n",
      "ERROR:root:Error downloading PDF: 418 Client Error: Unknown Code for url: https://ieeexplore.ieee.org/document/726791/\n",
      "WARNING:root:No downloadable PDF URL found for this paper.\n",
      "ERROR:root:Error downloading PDF: 403 Client Error: Forbidden for url: https://digital-library.theiet.org/content/journals/10.1049/piee.1966.0236\n",
      "ERROR:root:Error downloading PDF: 418 Client Error: Unknown Code for url: https://ieeexplore.ieee.org/document/9709990/\n",
      "ERROR:root:Error downloading PDF: 418 Client Error: Unknown Code for url: https://ieeexplore.ieee.org/document/9578646/\n",
      "ERROR:root:Error downloading PDF: 418 Client Error: Unknown Code for url: https://ieeexplore.ieee.org/document/9607618/\n",
      "ERROR:root:Error downloading PDF: 418 Client Error: Unknown Code for url: https://ieeexplore.ieee.org/document/9711179/\n",
      "ERROR:root:Error downloading PDF: 418 Client Error: Unknown Code for url: https://ieeexplore.ieee.org/document/9716741/\n",
      "ERROR:root:Error downloading PDF: 403 Client Error: Forbidden for url: https://ojs.aaai.org/index.php/AAAI/article/view/17325\n",
      "ERROR:root:Error downloading PDF: 418 Client Error: Unknown Code for url: https://ieeexplore.ieee.org/document/9710031/\n",
      "ERROR:root:Error downloading PDF: 418 Client Error: Unknown Code for url: https://ieeexplore.ieee.org/document/9710415/\n",
      "ERROR:root:Error downloading PDF: 418 Client Error: Unknown Code for url: https://ieeexplore.ieee.org/document/9710703/\n",
      "ERROR:root:Error downloading PDF: 418 Client Error: Unknown Code for url: https://ieeexplore.ieee.org/document/9577359/\n",
      "WARNING:root:No downloadable PDF URL found for this paper.\n",
      "ERROR:root:Error downloading PDF: 418 Client Error: Unknown Code for url: https://ieeexplore.ieee.org/document/868049/\n",
      "ERROR:root:Error downloading PDF: 406 Client Error: Not Acceptable for url: https://www.aclweb.org/anthology/D19-1514\n",
      "ERROR:root:Error downloading PDF: 418 Client Error: Unknown Code for url: https://ieeexplore.ieee.org/document/9710959/\n",
      "WARNING:root:No downloadable PDF URL found for this paper.\n",
      "ERROR:root:Error downloading PDF: 418 Client Error: Unknown Code for url: https://ieeexplore.ieee.org/document/9711226/\n",
      "ERROR:root:Error downloading PDF: 418 Client Error: Unknown Code for url: https://ieeexplore.ieee.org/document/9710747/\n",
      "ERROR:root:Error downloading PDF: 418 Client Error: Unknown Code for url: https://ieeexplore.ieee.org/document/1161455/\n",
      "ERROR:root:Error downloading PDF: 418 Client Error: Unknown Code for url: https://ieeexplore.ieee.org/document/9157222/\n",
      "ERROR:root:Error downloading PDF: 418 Client Error: Unknown Code for url: https://ieeexplore.ieee.org/document/8954447/\n",
      "ERROR:root:Error downloading PDF: 418 Client Error: Unknown Code for url: https://ieeexplore.ieee.org/document/6578108/\n",
      "ERROR:root:Error downloading PDF: 418 Client Error: Unknown Code for url: https://ieeexplore.ieee.org/document/9878941/\n",
      "ERROR:root:Error downloading PDF: 418 Client Error: Unknown Code for url: https://ieeexplore.ieee.org/document/9706678/\n",
      "ERROR:root:Error downloading PDF: 418 Client Error: Unknown Code for url: https://ieeexplore.ieee.org/document/9578609/\n",
      "ERROR:root:Error downloading PDF: 418 Client Error: Unknown Code for url: https://ieeexplore.ieee.org/document/720393/\n",
      "ERROR:root:Error downloading PDF: 418 Client Error: Unknown Code for url: https://ieeexplore.ieee.org/document/8462506/\n",
      "ERROR:root:Error downloading PDF: 418 Client Error: Unknown Code for url: https://ieeexplore.ieee.org/document/8953881/\n",
      "ERROR:root:Error downloading PDF: 418 Client Error: Unknown Code for url: https://ieeexplore.ieee.org/document/9878962/\n",
      "ERROR:root:Error downloading PDF: 418 Client Error: Unknown Code for url: https://ieeexplore.ieee.org/document/9578911/\n",
      "ERROR:root:Error downloading PDF: 418 Client Error: Unknown Code for url: https://ieeexplore.ieee.org/document/9710800/\n",
      "ERROR:root:Error downloading PDF: 418 Client Error: Unknown Code for url: https://ieeexplore.ieee.org/document/9577771/\n",
      "ERROR:root:Error downloading PDF: 418 Client Error: Unknown Code for url: https://ieeexplore.ieee.org/document/1256382/\n",
      "WARNING:root:No downloadable PDF URL found for this paper.\n",
      "ERROR:root:Error downloading PDF: 418 Client Error: Unknown Code for url: https://ieeexplore.ieee.org/document/9711309/\n",
      "ERROR:root:Error downloading PDF: 418 Client Error: Unknown Code for url: https://ieeexplore.ieee.org/document/981322/\n",
      "ERROR:root:Error downloading PDF: 406 Client Error: Not Acceptable for url: https://www.aclweb.org/anthology/P19-1656\n",
      "ERROR:root:Error downloading PDF: 418 Client Error: Unknown Code for url: https://ieeexplore.ieee.org/document/9879380/\n",
      "ERROR:root:Error downloading PDF: 406 Client Error: Not Acceptable for url: https://www.aclweb.org/anthology/P19-1470\n",
      "ERROR:root:Error downloading PDF: 418 Client Error: Unknown Code for url: https://ieeexplore.ieee.org/document/1237337/\n",
      "ERROR:root:Error downloading PDF: 418 Client Error: Unknown Code for url: https://ieeexplore.ieee.org/document/9157061/\n",
      "ERROR:root:Error downloading PDF: 403 Client Error: Forbidden for url: http://portal.acm.org/citation.cfm?doid=199448.199528\n",
      "ERROR:root:Error downloading PDF: 418 Client Error: Unknown Code for url: https://ieeexplore.ieee.org/document/750181/\n",
      "ERROR:root:Error downloading PDF: 418 Client Error: Unknown Code for url: https://ieeexplore.ieee.org/document/9878483/\n",
      "ERROR:root:Error downloading PDF: 418 Client Error: Unknown Code for url: https://ieeexplore.ieee.org/document/9878729/\n",
      "ERROR:root:Error downloading PDF: 418 Client Error: Unknown Code for url: https://ieeexplore.ieee.org/document/675572/\n",
      "ERROR:root:Error downloading PDF: 406 Client Error: Not Acceptable for url: https://www.aclweb.org/anthology/2020.acl-main.385\n",
      "ERROR:root:Error downloading PDF: 403 Client Error: Forbidden for url: https://ojs.aaai.org/index.php/AAAI/article/view/4642\n",
      "WARNING:root:No downloadable PDF URL found for this paper.\n",
      "ERROR:root:Error downloading PDF: 418 Client Error: Unknown Code for url: https://ieeexplore.ieee.org/document/9711302/\n",
      "ERROR:root:Error downloading PDF: 418 Client Error: Unknown Code for url: https://ieeexplore.ieee.org/document/9878609/\n",
      "ERROR:root:Error downloading PDF: 418 Client Error: Unknown Code for url: https://ieeexplore.ieee.org/document/9710634/\n",
      "ERROR:root:Error downloading PDF: 403 Client Error: Forbidden for url: https://pubs.acs.org/doi/10.1021/acscentsci.9b00576\n",
      "ERROR:root:Error downloading PDF: 418 Client Error: Unknown Code for url: https://ieeexplore.ieee.org/document/9578008/\n",
      "WARNING:root:No downloadable PDF URL found for this paper.\n",
      "ERROR:root:Error downloading PDF: 406 Client Error: Not Acceptable for url: https://www.aclweb.org/anthology/P19-1176\n",
      "ERROR:root:Error downloading PDF: 418 Client Error: Unknown Code for url: https://ieeexplore.ieee.org/document/9607487/\n",
      "ERROR:root:Error downloading PDF: 418 Client Error: Unknown Code for url: https://ieeexplore.ieee.org/document/1193125/\n",
      "ERROR:root:Error downloading PDF: 418 Client Error: Unknown Code for url: https://ieeexplore.ieee.org/document/9627165/\n"
     ]
    }
   ],
   "execution_count": 24
  },
  {
   "metadata": {
    "ExecuteTime": {
     "end_time": "2024-10-22T21:33:48.664583Z",
     "start_time": "2024-10-22T21:33:38.113746Z"
    }
   },
   "cell_type": "code",
   "source": [
    "import os\n",
    "import pandas as pd\n",
    "from llama_index.core import SimpleDirectoryReader\n",
    "\n",
    "\n",
    "def parse_pdfs_to_text_and_save(input_folder, output_type='text'):\n",
    "    \"\"\"\n",
    "    Parse all PDF files in a given folder into text and save them either as .txt files or in a pandas DataFrame.\n",
    "\n",
    "    Args:\n",
    "        input_folder (str): The folder containing PDF files.\n",
    "        output_type (str): The type of output ('text' for text files, 'df' for DataFrame). Default is 'text'.\n",
    "    \n",
    "    Returns:\n",
    "        If output_type='df', returns a pandas DataFrame with filenames and text content.\n",
    "        Otherwise, saves .txt files for each PDF in the same folder.\n",
    "    \"\"\"\n",
    "    # Read PDFs from the directory using llamaindex's SimpleDirectoryReader\n",
    "    reader = SimpleDirectoryReader(input_folder, required_exts=[\".pdf\"])\n",
    "    documents = reader.load_data()\n",
    "\n",
    "    data = []\n",
    "\n",
    "    # Iterate over each document\n",
    "    for doc in documents:\n",
    "        text_content = doc.text\n",
    "        pdf_name = doc.metadata['file_name']\n",
    "\n",
    "        # If saving as text files\n",
    "        if output_type == 'text':\n",
    "            text_file_name = os.path.join(input_folder, pdf_name.replace('.pdf', '.txt'))\n",
    "            with open(text_file_name, 'w', encoding='utf-8') as f:\n",
    "                f.write(text_content)\n",
    "            print(f\"Saved {text_file_name}\")\n",
    "\n",
    "        # Collect data for DataFrame\n",
    "        data.append({'filename': pdf_name, 'content': text_content})\n",
    "\n",
    "    # If returning as DataFrame\n",
    "    if output_type == 'df':\n",
    "        df = pd.DataFrame(data)\n",
    "        return df\n",
    "\n",
    "\n",
    "# Example usage:\n",
    "input_folder = 'downloads'  # Replace with your actual downloads folder path\n",
    "df = parse_pdfs_to_text_and_save(input_folder, output_type='df')\n",
    "df.to_csv('test_data_with_papers.csv')\n",
    "print(df.head())"
   ],
   "id": "d0776411409097a8",
   "outputs": [
    {
     "name": "stdout",
     "output_type": "stream",
     "text": [
      "                                            filename  \\\n",
      "0  A Precise Low Temperature dc Ratio Transformer...   \n",
      "1  A Precise Low Temperature dc Ratio Transformer...   \n",
      "2  A Precise Low Temperature dc Ratio Transformer...   \n",
      "3  A Precise Low Temperature dc Ratio Transformer...   \n",
      "4  A Precise Low Temperature dc Ratio Transformer...   \n",
      "\n",
      "                                             content  \n",
      "0  remote sensing  \\nArticle\\nVision Transformers...  \n",
      "1  Remote Sens. 2021 ,13, 516 2 of 19\\neasier to ...  \n",
      "2  Remote Sens. 2021 ,13, 516 3 of 19\\net al. [ 3...  \n",
      "3  Remote Sens. 2021 ,13, 516 4 of 19\\nposition e...  \n",
      "4  Remote Sens. 2021 ,13, 516 5 of 19\\nis encoded...  \n"
     ]
    }
   ],
   "execution_count": 19
  },
  {
   "metadata": {
    "ExecuteTime": {
     "end_time": "2024-10-22T21:34:49.152816Z",
     "start_time": "2024-10-22T21:34:49.150585Z"
    }
   },
   "cell_type": "code",
   "source": "",
   "id": "c426ea7bba94a76f",
   "outputs": [
    {
     "name": "stdout",
     "output_type": "stream",
     "text": [
      "30\n"
     ]
    }
   ],
   "execution_count": 23
  },
  {
   "metadata": {
    "ExecuteTime": {
     "end_time": "2024-10-20T11:43:45.760322Z",
     "start_time": "2024-10-20T11:43:45.707796Z"
    }
   },
   "cell_type": "code",
   "source": [
    "import pdfplumber\n",
    "\n",
    "\n",
    "def extract_text_pdfplumber(pdf_path):\n",
    "    \"\"\"Extract text from a PDF using pdfplumber.\"\"\"\n",
    "    try:\n",
    "        with pdfplumber.open(pdf_path) as pdf:\n",
    "            text = ''\n",
    "            for page in pdf.pages:\n",
    "                text += page.extract_text()\n",
    "            return text\n",
    "    except Exception as e:\n",
    "        print(f\"Failed to extract {pdf_path}: {e}\")\n",
    "        return None\n",
    "\n",
    "\n",
    "def parse_pdfs_to_text_and_save(input_folder, output_type='text'):\n",
    "    reader = SimpleDirectoryReader(input_folder, required_exts=[\".pdf\"])\n",
    "    data = []\n",
    "    skipped_files = []\n",
    "\n",
    "    documents = reader.load_data()\n",
    "    for doc in documents:\n",
    "        try:\n",
    "            text_content = doc.text\n",
    "            pdf_name = doc.metadata['file_name']\n",
    "        except Exception as e:\n",
    "            print(f\"LlamaIndex failed to load {doc.metadata['file_name']} with error: {e}\")\n",
    "            # Fallback to pdfplumber\n",
    "            pdf_path = os.path.join(input_folder, doc.metadata['file_name'])\n",
    "            text_content = extract_text_pdfplumber(pdf_path)\n",
    "            if text_content is None:\n",
    "                skipped_files.append(doc.metadata['file_name'])\n",
    "                continue\n",
    "\n",
    "        if output_type == 'text':\n",
    "            text_file_name = os.path.join(input_folder, pdf_name.replace('.pdf', '.txt'))\n",
    "            with open(text_file_name, 'w', encoding='utf-8') as f:\n",
    "                f.write(text_content)\n",
    "            print(f\"Saved {text_file_name}\")\n",
    "\n",
    "        data.append({'filename': pdf_name, 'content': text_content})\n",
    "\n",
    "    if output_type == 'df':\n",
    "        df = pd.DataFrame(data)\n",
    "        return df\n",
    "\n",
    "    print(f\"Skipped files: {skipped_files}\")\n"
   ],
   "id": "42673dc8680c66b3",
   "outputs": [],
   "execution_count": 34
  },
  {
   "metadata": {},
   "cell_type": "code",
   "source": "df = parse_pdfs_to_text_and_save('downloads', output_type='df')",
   "id": "f2b72e3299255fd2",
   "outputs": [],
   "execution_count": null
  }
 ],
 "metadata": {
  "kernelspec": {
   "display_name": "Python 3",
   "language": "python",
   "name": "python3"
  },
  "language_info": {
   "codemirror_mode": {
    "name": "ipython",
    "version": 2
   },
   "file_extension": ".py",
   "mimetype": "text/x-python",
   "name": "python",
   "nbconvert_exporter": "python",
   "pygments_lexer": "ipython2",
   "version": "2.7.6"
  }
 },
 "nbformat": 4,
 "nbformat_minor": 5
}
