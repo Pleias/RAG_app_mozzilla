{
 "cells": [
  {
   "cell_type": "code",
   "id": "initial_id",
   "metadata": {
    "collapsed": true,
    "ExecuteTime": {
     "end_time": "2024-11-03T14:48:51.288346Z",
     "start_time": "2024-11-03T14:48:51.284619Z"
    }
   },
   "source": [
    "# How extraction works ???\n",
    "import os\n",
    "import sys\n",
    "import shutil\n",
    "from pdf_processing_lib import PDFProcessor, ImageProcessor, TextExtractor, TSVJSON\n",
    "os.chdir(\"/Users/aapoliakova/PycharmProjects/RAG_app_mozzilla\")\n",
    "import pathlib"
   ],
   "outputs": [],
   "execution_count": 47
  },
  {
   "metadata": {
    "ExecuteTime": {
     "end_time": "2024-11-03T14:49:05.947056Z",
     "start_time": "2024-11-03T14:49:05.942372Z"
    }
   },
   "cell_type": "code",
   "source": "pathlib.Path('/Users/aapoliakova/PycharmProjects/RAG_app_mozzilla/notebooks/app_storage/pdfs').exists()",
   "id": "7666ed3b4b8d7256",
   "outputs": [
    {
     "data": {
      "text/plain": [
       "True"
      ]
     },
     "execution_count": 51,
     "metadata": {},
     "output_type": "execute_result"
    }
   ],
   "execution_count": 51
  },
  {
   "metadata": {
    "ExecuteTime": {
     "end_time": "2024-11-03T14:51:57.834066Z",
     "start_time": "2024-11-03T14:51:57.830757Z"
    }
   },
   "cell_type": "code",
   "source": [
    "def process_files():\n",
    "    \"\"\"Handle processing of uploaded PDFs through the complete pipeline\"\"\"\n",
    "    try:\n",
    "        # Get the storage directory path\n",
    "        pdf_storage_dir = 'notebooks/app_storage/pdfs'\n",
    "        output_base_dir = 'notebooks/processed'\n",
    "        os.makedirs(output_base_dir, exist_ok=True)\n",
    "\n",
    "        # Step 1: Initial PDF Processing\n",
    "        print(\"Step 1: Initial PDF processing...\")\n",
    "        pdf_processor = PDFProcessor(pdf_storage_dir, output_base_dir)\n",
    "        pdf_processor.process_directory()\n",
    "\n",
    "        # Step 2: Image Processing with YOLO\n",
    "        print(\"\\nStep 2: Processing images with YOLO...\")\n",
    "        model_path = 'models/yolo.pt'  # You'll need to provide the path to your YOLO model\n",
    "        image_processor = ImageProcessor(model_path)\n",
    "        image_processor.process_directory(output_base_dir)\n",
    "\n",
    "        # Step 3: Text Extraction\n",
    "        print(\"\\nStep 3: Extracting text...\")\n",
    "        text_extractor = TextExtractor(output_base_dir, pdf_storage_dir)\n",
    "        text_extractor.process_directory_for_text_extraction()\n",
    "\n",
    "        # Step 4: Final TSV to JSON conversion\n",
    "        print(\"\\nStep 4: Converting to final JSON format...\")\n",
    "        tsv_processor = TSVJSON(output_base_dir)\n",
    "        final_json_path = os.path.join(output_base_dir, 'final_output.json')\n",
    "        results = tsv_processor.process(final_json_path)\n",
    "\n",
    "        print(\"\\nProcessing completed successfully!\")\n",
    "        print(f\"Results saved to: {output_base_dir}\")\n",
    "        return results\n",
    "\n",
    "    except Exception as e:\n",
    "            print(f\"Error during processing: {str(e)}\")\n",
    "        \n",
    "        \n",
    "        \n"
   ],
   "id": "66b907db99ad7907",
   "outputs": [],
   "execution_count": 56
  },
  {
   "metadata": {
    "ExecuteTime": {
     "end_time": "2024-11-03T14:52:03.355842Z",
     "start_time": "2024-11-03T14:51:58.806988Z"
    }
   },
   "cell_type": "code",
   "source": "results = process_files()",
   "id": "c0f83f26212dd023",
   "outputs": [
    {
     "name": "stdout",
     "output_type": "stream",
     "text": [
      "Step 1: Initial PDF processing...\n"
     ]
    },
    {
     "name": "stderr",
     "output_type": "stream",
     "text": [
      "Processing PDFs: 100%|██████████| 2/2 [00:00<00:00, 1747.99it/s]\n"
     ]
    },
    {
     "name": "stdout",
     "output_type": "stream",
     "text": [
      "Total pages processed: 10\n",
      "Total processing time: 0.36 seconds\n",
      "Average time per page: 0.04 seconds/page\n",
      "\n",
      "Step 2: Processing images with YOLO...\n",
      "\n",
      "0: 480x352 1 GraphicZone, 4 GraphicZone-FigDescs, 1 GraphicZone-Head, 1 MainZone-Head, 1 NumberingZone, 1 PageTitleZone, 1 RunningTitleZone, 189.9ms\n",
      "1: 480x352 11 MainZone-Ps, 1 NumberingZone, 189.9ms\n",
      "2: 480x352 2 MainZone-Heads, 8 MainZone-Lists, 11 MainZone-Ps, 1 NumberingZone, 189.9ms\n",
      "3: 480x352 5 MainZone-Ps, 1 NumberingZone, 189.9ms\n",
      "4: 480x352 13 MainZone-Ps, 1 NumberingZone, 189.9ms\n",
      "Speed: 1.6ms preprocess, 189.9ms inference, 0.3ms postprocess per image at shape (1, 3, 480, 352)\n",
      "\n",
      "0: 480x352 1 GraphicZone, 4 GraphicZone-FigDescs, 1 GraphicZone-Head, 1 MainZone-Head, 1 NumberingZone, 1 PageTitleZone, 1 RunningTitleZone, 159.2ms\n",
      "1: 480x352 2 MainZone-Heads, 8 MainZone-Lists, 11 MainZone-Ps, 1 NumberingZone, 159.2ms\n",
      "2: 480x352 11 MainZone-Ps, 1 NumberingZone, 159.2ms\n",
      "3: 480x352 13 MainZone-Ps, 1 NumberingZone, 159.2ms\n",
      "4: 480x352 5 MainZone-Ps, 1 NumberingZone, 159.2ms\n",
      "Speed: 0.8ms preprocess, 159.2ms inference, 0.3ms postprocess per image at shape (1, 3, 480, 352)\n",
      "Total JPEG images processed: 10\n",
      "Total processing time: 2.44 seconds.\n",
      "Average time per JPEG image: 0.24 seconds.\n",
      "\n",
      "Step 3: Extracting text...\n"
     ]
    },
    {
     "name": "stderr",
     "output_type": "stream",
     "text": [
      "/opt/miniconda3/envs/pyqt_designer/lib/python3.10/site-packages/pdf_processing_lib/text_extractor.py:112: UserWarning: This pattern is interpreted as a regular expression, and has match groups. To actually get the groups, use str.extract.\n",
      "  page_df = page_df[page_df['class_name'].str.contains(filter_strings, case=False, regex=True)]\n",
      "/opt/miniconda3/envs/pyqt_designer/lib/python3.10/site-packages/pdf_processing_lib/text_extractor.py:124: FutureWarning: The behavior of DataFrame concatenation with empty or all-NA entries is deprecated. In a future version, this will no longer exclude empty or all-NA columns when determining the result dtypes. To retain the old behavior, exclude the relevant entries before the concat operation.\n",
      "  combined_df = pd.concat([bareme_df, page_df], axis=0, ignore_index=True)\n",
      "/opt/miniconda3/envs/pyqt_designer/lib/python3.10/site-packages/pdf_processing_lib/text_extractor.py:112: UserWarning: This pattern is interpreted as a regular expression, and has match groups. To actually get the groups, use str.extract.\n",
      "  page_df = page_df[page_df['class_name'].str.contains(filter_strings, case=False, regex=True)]\n",
      "/opt/miniconda3/envs/pyqt_designer/lib/python3.10/site-packages/pdf_processing_lib/text_extractor.py:112: UserWarning: This pattern is interpreted as a regular expression, and has match groups. To actually get the groups, use str.extract.\n",
      "  page_df = page_df[page_df['class_name'].str.contains(filter_strings, case=False, regex=True)]\n",
      "/opt/miniconda3/envs/pyqt_designer/lib/python3.10/site-packages/pdf_processing_lib/text_extractor.py:124: FutureWarning: The behavior of DataFrame concatenation with empty or all-NA entries is deprecated. In a future version, this will no longer exclude empty or all-NA columns when determining the result dtypes. To retain the old behavior, exclude the relevant entries before the concat operation.\n",
      "  combined_df = pd.concat([bareme_df, page_df], axis=0, ignore_index=True)\n",
      "/opt/miniconda3/envs/pyqt_designer/lib/python3.10/site-packages/pdf_processing_lib/text_extractor.py:124: FutureWarning: The behavior of DataFrame concatenation with empty or all-NA entries is deprecated. In a future version, this will no longer exclude empty or all-NA columns when determining the result dtypes. To retain the old behavior, exclude the relevant entries before the concat operation.\n",
      "  combined_df = pd.concat([bareme_df, page_df], axis=0, ignore_index=True)\n",
      "/opt/miniconda3/envs/pyqt_designer/lib/python3.10/site-packages/pdf_processing_lib/text_extractor.py:112: UserWarning: This pattern is interpreted as a regular expression, and has match groups. To actually get the groups, use str.extract.\n",
      "  page_df = page_df[page_df['class_name'].str.contains(filter_strings, case=False, regex=True)]\n",
      "/opt/miniconda3/envs/pyqt_designer/lib/python3.10/site-packages/pdf_processing_lib/text_extractor.py:112: UserWarning: This pattern is interpreted as a regular expression, and has match groups. To actually get the groups, use str.extract.\n",
      "  page_df = page_df[page_df['class_name'].str.contains(filter_strings, case=False, regex=True)]\n",
      "/opt/miniconda3/envs/pyqt_designer/lib/python3.10/site-packages/pdf_processing_lib/text_extractor.py:124: FutureWarning: The behavior of DataFrame concatenation with empty or all-NA entries is deprecated. In a future version, this will no longer exclude empty or all-NA columns when determining the result dtypes. To retain the old behavior, exclude the relevant entries before the concat operation.\n",
      "  combined_df = pd.concat([bareme_df, page_df], axis=0, ignore_index=True)\n",
      "/opt/miniconda3/envs/pyqt_designer/lib/python3.10/site-packages/pdf_processing_lib/text_extractor.py:124: FutureWarning: The behavior of DataFrame concatenation with empty or all-NA entries is deprecated. In a future version, this will no longer exclude empty or all-NA columns when determining the result dtypes. To retain the old behavior, exclude the relevant entries before the concat operation.\n",
      "  combined_df = pd.concat([bareme_df, page_df], axis=0, ignore_index=True)\n",
      "/opt/miniconda3/envs/pyqt_designer/lib/python3.10/site-packages/pdf_processing_lib/text_extractor.py:112: UserWarning: This pattern is interpreted as a regular expression, and has match groups. To actually get the groups, use str.extract.\n",
      "  page_df = page_df[page_df['class_name'].str.contains(filter_strings, case=False, regex=True)]\n",
      "/opt/miniconda3/envs/pyqt_designer/lib/python3.10/site-packages/pdf_processing_lib/text_extractor.py:124: FutureWarning: The behavior of DataFrame concatenation with empty or all-NA entries is deprecated. In a future version, this will no longer exclude empty or all-NA columns when determining the result dtypes. To retain the old behavior, exclude the relevant entries before the concat operation.\n",
      "  combined_df = pd.concat([bareme_df, page_df], axis=0, ignore_index=True)\n",
      "/opt/miniconda3/envs/pyqt_designer/lib/python3.10/site-packages/pdf_processing_lib/text_extractor.py:112: UserWarning: This pattern is interpreted as a regular expression, and has match groups. To actually get the groups, use str.extract.\n",
      "  page_df = page_df[page_df['class_name'].str.contains(filter_strings, case=False, regex=True)]\n",
      "/opt/miniconda3/envs/pyqt_designer/lib/python3.10/site-packages/pdf_processing_lib/text_extractor.py:112: UserWarning: This pattern is interpreted as a regular expression, and has match groups. To actually get the groups, use str.extract.\n",
      "  page_df = page_df[page_df['class_name'].str.contains(filter_strings, case=False, regex=True)]\n",
      "/opt/miniconda3/envs/pyqt_designer/lib/python3.10/site-packages/pdf_processing_lib/text_extractor.py:124: FutureWarning: The behavior of DataFrame concatenation with empty or all-NA entries is deprecated. In a future version, this will no longer exclude empty or all-NA columns when determining the result dtypes. To retain the old behavior, exclude the relevant entries before the concat operation.\n",
      "  combined_df = pd.concat([bareme_df, page_df], axis=0, ignore_index=True)\n",
      "/opt/miniconda3/envs/pyqt_designer/lib/python3.10/site-packages/pdf_processing_lib/text_extractor.py:112: UserWarning: This pattern is interpreted as a regular expression, and has match groups. To actually get the groups, use str.extract.\n",
      "  page_df = page_df[page_df['class_name'].str.contains(filter_strings, case=False, regex=True)]\n",
      "/opt/miniconda3/envs/pyqt_designer/lib/python3.10/site-packages/pdf_processing_lib/text_extractor.py:124: FutureWarning: The behavior of DataFrame concatenation with empty or all-NA entries is deprecated. In a future version, this will no longer exclude empty or all-NA columns when determining the result dtypes. To retain the old behavior, exclude the relevant entries before the concat operation.\n",
      "  combined_df = pd.concat([bareme_df, page_df], axis=0, ignore_index=True)\n",
      "/opt/miniconda3/envs/pyqt_designer/lib/python3.10/site-packages/pdf_processing_lib/text_extractor.py:112: UserWarning: This pattern is interpreted as a regular expression, and has match groups. To actually get the groups, use str.extract.\n",
      "  page_df = page_df[page_df['class_name'].str.contains(filter_strings, case=False, regex=True)]\n",
      "/opt/miniconda3/envs/pyqt_designer/lib/python3.10/site-packages/pdf_processing_lib/text_extractor.py:124: FutureWarning: The behavior of DataFrame concatenation with empty or all-NA entries is deprecated. In a future version, this will no longer exclude empty or all-NA columns when determining the result dtypes. To retain the old behavior, exclude the relevant entries before the concat operation.\n",
      "  combined_df = pd.concat([bareme_df, page_df], axis=0, ignore_index=True)\n",
      "/opt/miniconda3/envs/pyqt_designer/lib/python3.10/site-packages/pdf_processing_lib/text_extractor.py:124: FutureWarning: The behavior of DataFrame concatenation with empty or all-NA entries is deprecated. In a future version, this will no longer exclude empty or all-NA columns when determining the result dtypes. To retain the old behavior, exclude the relevant entries before the concat operation.\n",
      "  combined_df = pd.concat([bareme_df, page_df], axis=0, ignore_index=True)\n"
     ]
    },
    {
     "name": "stdout",
     "output_type": "stream",
     "text": [
      "Total combined_pageX.tsv files produced: 10\n",
      "Total processing time: 1.73 seconds\n",
      "Average processing time per file: 0.17 seconds\n",
      "CVAT task XML file created: notebooks/processed/cvat/multi_document_task.xml\n",
      "\n",
      "Step 4: Converting to final JSON format...\n",
      "Starting complete document processing pipeline for: notebooks/processed\n",
      "Step 1: Processing TSV files to JSON...\n",
      "Found 10 TSV files to process in 2 directories\n"
     ]
    },
    {
     "name": "stderr",
     "output_type": "stream",
     "text": [
      "Processing directories: 100%|██████████| 2/2 [00:00<00:00, 186.99it/s]\n"
     ]
    },
    {
     "name": "stdout",
     "output_type": "stream",
     "text": [
      "\n",
      "Processed 2 final directories\n",
      "Successfully processed 10/10 files\n",
      "Total processing time: 0.01 seconds\n",
      "Average time per file: 0.0012 seconds\n",
      "\n",
      "Step 2: Merging all JSON files...\n"
     ]
    },
    {
     "name": "stderr",
     "output_type": "stream",
     "text": [
      "Merging JSON files: 100%|██████████| 2/2 [00:00<00:00, 3723.31it/s]"
     ]
    },
    {
     "name": "stdout",
     "output_type": "stream",
     "text": [
      "\n",
      "Combined JSON has been written to notebooks/processed/final_output.json\n",
      "Total entries in merged file: 6\n",
      "\n",
      "Processing completed!\n",
      "Final output file: notebooks/processed/final_output.json\n",
      "Total TSV files processed: 10\n",
      "Total entries in final merged JSON: 6\n",
      "\n",
      "Processing completed successfully!\n",
      "Results saved to: notebooks/processed\n"
     ]
    },
    {
     "name": "stderr",
     "output_type": "stream",
     "text": [
      "\n"
     ]
    }
   ],
   "execution_count": 57
  },
  {
   "metadata": {
    "ExecuteTime": {
     "end_time": "2024-11-03T14:52:05.833812Z",
     "start_time": "2024-11-03T14:52:05.828714Z"
    }
   },
   "cell_type": "code",
   "source": "results",
   "id": "99e835a30cb1b363",
   "outputs": [
    {
     "data": {
      "text/plain": [
       "{'final_output_file': 'notebooks/processed/final_output.json',\n",
       " 'tsv_files_processed': 10,\n",
       " 'total_processing_time': 0.011758804321289062,\n",
       " 'avg_time_per_file': 0.0011758804321289062,\n",
       " 'total_json_entries': 6}"
      ]
     },
     "execution_count": 58,
     "metadata": {},
     "output_type": "execute_result"
    }
   ],
   "execution_count": 58
  },
  {
   "metadata": {
    "ExecuteTime": {
     "end_time": "2024-11-03T14:52:08.688784Z",
     "start_time": "2024-11-03T14:52:08.683992Z"
    }
   },
   "cell_type": "code",
   "source": [
    "import json\n",
    "extraction_results_path  = results['final_output_file']\n",
    "extraction_results_path\n",
    "with open(extraction_results_path, 'r') as file:\n",
    "    extractions_results = json.load(file)"
   ],
   "id": "b19eedc5579ced7d",
   "outputs": [],
   "execution_count": 59
  },
  {
   "metadata": {
    "ExecuteTime": {
     "end_time": "2024-11-03T14:52:12.024032Z",
     "start_time": "2024-11-03T14:52:12.020410Z"
    }
   },
   "cell_type": "code",
   "source": "print(extractions_results[1]['section'])",
   "id": "249d92e5f4e156a",
   "outputs": [
    {
     "name": "stdout",
     "output_type": "stream",
     "text": [
      "Test subject parsing \n",
      "- Anna has a green eyes.  \n",
      "- Anna is 162 cm \n",
      "- Anna is 25 years old  \n",
      "- Denis is 25 years old  \n",
      "- Denis has pink eyes \n",
      "The overall conclusion is made based on target market.\n"
     ]
    }
   ],
   "execution_count": 60
  },
  {
   "metadata": {
    "ExecuteTime": {
     "end_time": "2024-11-03T14:54:16.146850Z",
     "start_time": "2024-11-03T14:54:16.113671Z"
    }
   },
   "cell_type": "code",
   "source": [
    "from PyPDF2 import PdfReader\n",
    "\n",
    "\n",
    "def extract_metadata(self, file_path):\n",
    "    \"\"\"Extract metadata from a PDF file using the PyPDF2 library.\n",
    "    TO REPLACE WITH CARLOS FUNCTION\"\"\"\n",
    "    with open(file_path, 'rb') as file:\n",
    "        pdf_reader = PdfReader(file)\n",
    "        info = pdf_reader.metadata\n",
    "        metadata = {\n",
    "            'title': info.title if info.title else \"Untitled\",\n",
    "            'author': info.author if info.author else \"Unknown\",\n",
    "            'creation_date': info['/CreationDate'] if '/CreationDate' in info else \"N/A\",\n",
    "            'subject': info.subject if info.subject else \"N/A\"\n",
    "            \n",
    "        }\n",
    "    return metadata\n"
   ],
   "id": "7e8bd8c503374a09",
   "outputs": [],
   "execution_count": 62
  },
  {
   "metadata": {},
   "cell_type": "code",
   "outputs": [],
   "execution_count": null,
   "source": "extract_metadata",
   "id": "c489650a5f7a0fb7"
  },
  {
   "metadata": {
    "ExecuteTime": {
     "end_time": "2024-11-03T14:40:32.273498Z",
     "start_time": "2024-11-03T14:40:32.270930Z"
    }
   },
   "cell_type": "code",
   "source": "extraction_results_path",
   "id": "cdbb923533fa09e9",
   "outputs": [
    {
     "data": {
      "text/plain": [
       "'notebooks/processed/final_output.json'"
      ]
     },
     "execution_count": 42,
     "metadata": {},
     "output_type": "execute_result"
    }
   ],
   "execution_count": 42
  },
  {
   "metadata": {},
   "cell_type": "code",
   "outputs": [],
   "execution_count": null,
   "source": [
    "fake_metadata = {\n",
    "    \"file_path\": \n",
    "}"
   ],
   "id": "92328afc736a24b7"
  }
 ],
 "metadata": {
  "kernelspec": {
   "display_name": "Python 3",
   "language": "python",
   "name": "python3"
  },
  "language_info": {
   "codemirror_mode": {
    "name": "ipython",
    "version": 2
   },
   "file_extension": ".py",
   "mimetype": "text/x-python",
   "name": "python",
   "nbconvert_exporter": "python",
   "pygments_lexer": "ipython2",
   "version": "2.7.6"
  }
 },
 "nbformat": 4,
 "nbformat_minor": 5
}
