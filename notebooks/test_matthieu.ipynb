{
 "cells": [
  {
   "cell_type": "code",
   "execution_count": 2,
   "metadata": {},
   "outputs": [],
   "source": [
    "import sys\n",
    "import os\n",
    "\n",
    "# Add parent directory to system path\n",
    "sys.path.append(os.path.abspath(\"..\"))\n",
    "\n",
    "\n",
    "from connect_db import ConnectDB"
   ]
  },
  {
   "cell_type": "code",
   "execution_count": 13,
   "metadata": {},
   "outputs": [
    {
     "data": {
      "text/plain": [
       "{'title': 'Language Models are Unsupervised Multitask Learners',\n",
       " 'author': 'Alec Radford*, Jeffrey Wu*, Rewon Child, David Luan, Dario Amodei**, Ilya Sutskever**',\n",
       " 'creation_date': 'D:20190214232139Z',\n",
       " 'subject': 'Proceedings of the International Conference on Machine Learning 2019'}"
      ]
     },
     "execution_count": 13,
     "metadata": {},
     "output_type": "execute_result"
    }
   ],
   "source": [
    "cursor = ConnectDB\n",
    "\n",
    "cursor.extract_metadata(cursor, file_path=\"../app_storage/pdfs/GPT2.pdf\")\n"
   ]
  },
  {
   "cell_type": "code",
   "execution_count": 19,
   "metadata": {},
   "outputs": [
    {
     "data": {
      "text/plain": [
       "{'title': 'Language Models are Unsupervised Multitask Learners',\n",
       " 'author': 'Alec Radford*, Jeffrey Wu*, Rewon Child, David Luan, Dario Amodei**, Ilya Sutskever**',\n",
       " 'subject': 'Proceedings of the International Conference on Machine Learning 2019',\n",
       " 'keywords': 'Machine Learning, ICML',\n",
       " 'creation_date': '2019-02-14'}"
      ]
     },
     "execution_count": 19,
     "metadata": {},
     "output_type": "execute_result"
    }
   ],
   "source": [
    "import fitz  # PyMuPDF for PDF handling\n",
    "from datetime import datetime\n",
    "\n",
    "def format_pdf_date(date_str):\n",
    "    # Remove the 'D:' prefix and 'Z' suffix if they are present\n",
    "    date_str = date_str.lstrip('D:').rstrip('Z')\n",
    "    \n",
    "    # Parse the string to a datetime object\n",
    "    try:\n",
    "        date_obj = datetime.strptime(date_str, \"%Y%m%d%H%M%S\")\n",
    "    except ValueError:\n",
    "        # Fallback in case there are missing time components\n",
    "        date_obj = datetime.strptime(date_str, \"%Y%m%d\")\n",
    "    \n",
    "    # Format to 'YYYY-MM-DD'\n",
    "    return date_obj.strftime(\"%Y-%m-%d\")\n",
    "\n",
    "def extract_pdf_metadata(pdf_path):\n",
    "    \"\"\"Extract metadata from a PDF file.\"\"\"\n",
    "    with fitz.open(pdf_path) as doc:\n",
    "        metadata = doc.metadata\n",
    "    return {\n",
    "        \"title\": metadata.get(\"title\"),\n",
    "        \"author\": metadata.get(\"author\"),\n",
    "        \"subject\": metadata.get(\"subject\"),\n",
    "        \"keywords\": metadata.get(\"keywords\"),\n",
    "        \"creation_date\": format_pdf_date(metadata.get(\"creationDate\")),\n",
    "    }\n",
    "    \n",
    "    \n",
    "extract_pdf_metadata(\"../app_storage/pdfs/GPT2.pdf\")"
   ]
  }
 ],
 "metadata": {
  "kernelspec": {
   "display_name": "mozzilla",
   "language": "python",
   "name": "python3"
  },
  "language_info": {
   "codemirror_mode": {
    "name": "ipython",
    "version": 3
   },
   "file_extension": ".py",
   "mimetype": "text/x-python",
   "name": "python",
   "nbconvert_exporter": "python",
   "pygments_lexer": "ipython3",
   "version": "3.11.10"
  }
 },
 "nbformat": 4,
 "nbformat_minor": 2
}
