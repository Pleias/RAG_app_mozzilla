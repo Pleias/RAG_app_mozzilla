{
 "cells": [
  {
   "cell_type": "code",
   "execution_count": 1,
   "metadata": {},
   "outputs": [],
   "source": [
    "import sys\n",
    "import os\n",
    "\n",
    "# Add parent directory to system path\n",
    "sys.path.append(os.path.abspath(\"..\"))\n",
    "import connect_db\n",
    "\n",
    "from importlib import reload\n",
    "\n",
    "reload(connect_db)\n",
    "ConnectDB = connect_db.ConnectDB"
   ]
  },
  {
   "cell_type": "code",
   "execution_count": 5,
   "metadata": {},
   "outputs": [
    {
     "name": "stdout",
     "output_type": "stream",
     "text": [
      "4\n"
     ]
    }
   ],
   "source": [
    "import json\n",
    "\n",
    "# Path to the JSON file\n",
    "file_path = '../temp.json'\n",
    "\n",
    "# Open the JSON file and load its contents\n",
    "with open(file_path, 'r', encoding='utf-8') as file:\n",
    "    data = json.load(file)\n",
    "\n",
    "# Print the loaded data\n",
    "print(len(data))\n"
   ]
  },
  {
   "cell_type": "code",
   "execution_count": 2,
   "metadata": {},
   "outputs": [
    {
     "ename": "OperationalError",
     "evalue": "no such table: pdf_metadata",
     "output_type": "error",
     "traceback": [
      "\u001b[1;31m---------------------------------------------------------------------------\u001b[0m",
      "\u001b[1;31mOperationalError\u001b[0m                          Traceback (most recent call last)",
      "Cell \u001b[1;32mIn[2], line 2\u001b[0m\n\u001b[0;32m      1\u001b[0m db \u001b[38;5;241m=\u001b[39m ConnectDB(db_path\u001b[38;5;241m=\u001b[39m\u001b[38;5;124m'\u001b[39m\u001b[38;5;124m../app_storage/metadata/sqlite-poc.db\u001b[39m\u001b[38;5;124m'\u001b[39m)\n\u001b[1;32m----> 2\u001b[0m db\u001b[38;5;241m.\u001b[39mconnection\u001b[38;5;241m.\u001b[39mcursor()\u001b[38;5;241m.\u001b[39mexecute(\u001b[38;5;124m\"\u001b[39m\u001b[38;5;124mSELECT * FROM pdf_metadata\u001b[39m\u001b[38;5;124m\"\u001b[39m)\u001b[38;5;241m.\u001b[39mfetchall()\n",
      "\u001b[1;31mOperationalError\u001b[0m: no such table: pdf_metadata"
     ]
    }
   ],
   "source": [
    "db = ConnectDB(db_path='../app_storage/metadata/sqlite-poc.db')\n",
    "db.connection.cursor().execute(\"SELECT * FROM pdf_metadata\").fetchall()"
   ]
  },
  {
   "cell_type": "code",
   "execution_count": 12,
   "metadata": {},
   "outputs": [
    {
     "data": {
      "text/html": [
       "<div>\n",
       "<style scoped>\n",
       "    .dataframe tbody tr th:only-of-type {\n",
       "        vertical-align: middle;\n",
       "    }\n",
       "\n",
       "    .dataframe tbody tr th {\n",
       "        vertical-align: top;\n",
       "    }\n",
       "\n",
       "    .dataframe thead th {\n",
       "        text-align: right;\n",
       "    }\n",
       "</style>\n",
       "<table border=\"1\" class=\"dataframe\">\n",
       "  <thead>\n",
       "    <tr style=\"text-align: right;\">\n",
       "      <th></th>\n",
       "      <th>id</th>\n",
       "      <th>file_name</th>\n",
       "      <th>title</th>\n",
       "      <th>author</th>\n",
       "      <th>subject</th>\n",
       "      <th>keywords</th>\n",
       "      <th>creation_date</th>\n",
       "    </tr>\n",
       "  </thead>\n",
       "  <tbody>\n",
       "    <tr>\n",
       "      <th>0</th>\n",
       "      <td>1</td>\n",
       "      <td>None</td>\n",
       "      <td></td>\n",
       "      <td></td>\n",
       "      <td></td>\n",
       "      <td></td>\n",
       "      <td>2024-04-10</td>\n",
       "    </tr>\n",
       "    <tr>\n",
       "      <th>1</th>\n",
       "      <td>2</td>\n",
       "      <td>None</td>\n",
       "      <td></td>\n",
       "      <td></td>\n",
       "      <td></td>\n",
       "      <td></td>\n",
       "      <td>2024-04-10</td>\n",
       "    </tr>\n",
       "    <tr>\n",
       "      <th>2</th>\n",
       "      <td>3</td>\n",
       "      <td>None</td>\n",
       "      <td></td>\n",
       "      <td></td>\n",
       "      <td></td>\n",
       "      <td></td>\n",
       "      <td>2024-04-10</td>\n",
       "    </tr>\n",
       "    <tr>\n",
       "      <th>3</th>\n",
       "      <td>4</td>\n",
       "      <td>None</td>\n",
       "      <td>Language Models are Unsupervised Multitask Lea...</td>\n",
       "      <td>Alec Radford*, Jeffrey Wu*, Rewon Child, David...</td>\n",
       "      <td>Proceedings of the International Conference on...</td>\n",
       "      <td>Machine Learning, ICML</td>\n",
       "      <td>2019-02-14</td>\n",
       "    </tr>\n",
       "    <tr>\n",
       "      <th>4</th>\n",
       "      <td>5</td>\n",
       "      <td>None</td>\n",
       "      <td></td>\n",
       "      <td></td>\n",
       "      <td></td>\n",
       "      <td></td>\n",
       "      <td>2020-07-24</td>\n",
       "    </tr>\n",
       "  </tbody>\n",
       "</table>\n",
       "</div>"
      ],
      "text/plain": [
       "   id file_name                                              title  \\\n",
       "0   1      None                                                      \n",
       "1   2      None                                                      \n",
       "2   3      None                                                      \n",
       "3   4      None  Language Models are Unsupervised Multitask Lea...   \n",
       "4   5      None                                                      \n",
       "\n",
       "                                              author  \\\n",
       "0                                                      \n",
       "1                                                      \n",
       "2                                                      \n",
       "3  Alec Radford*, Jeffrey Wu*, Rewon Child, David...   \n",
       "4                                                      \n",
       "\n",
       "                                             subject                keywords  \\\n",
       "0                                                                              \n",
       "1                                                                              \n",
       "2                                                                              \n",
       "3  Proceedings of the International Conference on...  Machine Learning, ICML   \n",
       "4                                                                              \n",
       "\n",
       "  creation_date  \n",
       "0    2024-04-10  \n",
       "1    2024-04-10  \n",
       "2    2024-04-10  \n",
       "3    2019-02-14  \n",
       "4    2020-07-24  "
      ]
     },
     "execution_count": 12,
     "metadata": {},
     "output_type": "execute_result"
    }
   ],
   "source": [
    "import sqlite3\n",
    "import pandas as pd\n",
    "import sqlite_vec\n",
    "\n",
    "\n",
    "\n",
    "sqlite_connection = sqlite3.connect('../app_storage/metadata/sqlite-poc.db')\n",
    "sqlite_connection.enable_load_extension(True)\n",
    "sqlite_vec.load(sqlite_connection)\n",
    "sqlite_connection.enable_load_extension(False)\n",
    "\n",
    "\n",
    "pd.read_sql_query(\"SELECT * FROM pdf_metadata;\", sqlite_connection).head()\n"
   ]
  },
  {
   "cell_type": "code",
   "execution_count": 27,
   "metadata": {},
   "outputs": [],
   "source": [
    "chunk_id = 4\n",
    "cursor = sqlite_connection.cursor()\n",
    "\n",
    "cursor.execute(\"\"\"\n",
    "        SELECT text FROM chunks WHERE chunk_id = ?\n",
    "    \"\"\", (chunk_id,))\n",
    "cursor.close()\n",
    "sqlite_connection.close()"
   ]
  },
  {
   "cell_type": "code",
   "execution_count": 21,
   "metadata": {},
   "outputs": [
    {
     "data": {
      "text/plain": [
       "'Attention is all you need'"
      ]
     },
     "execution_count": 21,
     "metadata": {},
     "output_type": "execute_result"
    }
   ],
   "source": [
    "test = {'document_name': 'Attention is all you need',\n",
    "  'metadata': {'title': '',\n",
    "   'author': '',\n",
    "   'subject': '',\n",
    "   'keywords': '',\n",
    "   'creation_date': '2024-04-10'},\n",
    "  'sections': [{'section': 'Provided proper attribution is provided, Google hereby grants permission to\\nreproduce the tables and figures in this paper solely for use in journalistic or\\nscholarly works.',\n",
    "    'text': 'Attention Is All You Need arXiv:1706.03762v7  [cs.CL]  2 Aug 2023 Noam Shazeer∗\\nGoogle Brain\\nnoam@google.com Ashish Vaswani∗\\nGoogle Brain\\navaswani@google.com Łukasz Kaiser∗\\nGoogle Brain\\nlukaszkaiser@google.com Aidan N. Gomez∗†\\nUniversity of Toronto\\naidan@cs.toronto.edu Llion Jones∗\\nGoogle Research\\nllion@google.com Illia Polosukhin∗‡\\nillia.polosukhin@gmail.com',\n",
    "    'pages': ['1'],\n",
    "    'document': 'Attention is all you need',\n",
    "    'word_count': 40,\n",
    "    'hash': '590cac8437f2f1fe'},\n",
    "   {'section': '‡Work performed while at Google Research.',\n",
    "    'text': '‡Work performed while at Google Research.',\n",
    "    'pages': ['1'],\n",
    "    'document': 'Attention is all you need',\n",
    "    'word_count': 6,\n",
    "    'hash': '00cbf2762187a65e'}]}\n",
    "test.get(\"document_name\")"
   ]
  }
 ],
 "metadata": {
  "kernelspec": {
   "display_name": "mozzilla",
   "language": "python",
   "name": "python3"
  },
  "language_info": {
   "codemirror_mode": {
    "name": "ipython",
    "version": 3
   },
   "file_extension": ".py",
   "mimetype": "text/x-python",
   "name": "python",
   "nbconvert_exporter": "python",
   "pygments_lexer": "ipython3",
   "version": "3.11.10"
  }
 },
 "nbformat": 4,
 "nbformat_minor": 2
}
