{
 "cells": [
  {
   "cell_type": "code",
   "execution_count": 22,
   "metadata": {},
   "outputs": [],
   "source": [
    "import sys\n",
    "import os\n",
    "\n",
    "# Add parent directory to system path\n",
    "sys.path.append(os.path.abspath(\"..\"))\n",
    "import connect_db\n",
    "\n",
    "from importlib import reload\n",
    "\n",
    "reload(connect_db)\n",
    "ConnectDB = connect_db.ConnectDB"
   ]
  },
  {
   "cell_type": "code",
   "execution_count": 23,
   "metadata": {},
   "outputs": [
    {
     "name": "stdout",
     "output_type": "stream",
     "text": [
      "4\n"
     ]
    }
   ],
   "source": [
    "import json\n",
    "\n",
    "# Path to the JSON file\n",
    "file_path = '../temp.json'\n",
    "\n",
    "# Open the JSON file and load its contents\n",
    "with open(file_path, 'r', encoding='utf-8') as file:\n",
    "    data = json.load(file)\n",
    "\n",
    "# Print the loaded data\n",
    "print(len(data))\n"
   ]
  },
  {
   "cell_type": "code",
   "execution_count": 24,
   "metadata": {},
   "outputs": [
    {
     "name": "stdout",
     "output_type": "stream",
     "text": [
      "Inserted metadata for Attention is all you need\n",
      "Inserted 41 chunks for document 11\n",
      "Inserted embeddings\n",
      "Stored metadata, chunks, and embeddings for Attention is all you need\n",
      "Inserted metadata for GPT2\n",
      "Inserted 84 chunks for document 12\n",
      "Inserted embeddings\n",
      "Stored metadata, chunks, and embeddings for GPT2\n",
      "Inserted metadata for GPT3\n",
      "Inserted 152 chunks for document 13\n",
      "Inserted embeddings\n",
      "Stored metadata, chunks, and embeddings for GPT3\n",
      "Inserted metadata for TFT\n",
      "Inserted 48 chunks for document 14\n",
      "Inserted embeddings\n",
      "Stored metadata, chunks, and embeddings for TFT\n",
      "All PDFs parsed successfully.\n"
     ]
    }
   ],
   "source": [
    "db = ConnectDB(db_path='../app_storage/metadata/sqlite-poc.db')\n",
    "db.store_parsed_pdf(parsed_pdf_list=data,\n",
    "                    pdf_folder=\"../app_storage/pdfs\")"
   ]
  },
  {
   "cell_type": "code",
   "execution_count": 40,
   "metadata": {},
   "outputs": [
    {
     "data": {
      "text/html": [
       "<div>\n",
       "<style scoped>\n",
       "    .dataframe tbody tr th:only-of-type {\n",
       "        vertical-align: middle;\n",
       "    }\n",
       "\n",
       "    .dataframe tbody tr th {\n",
       "        vertical-align: top;\n",
       "    }\n",
       "\n",
       "    .dataframe thead th {\n",
       "        text-align: right;\n",
       "    }\n",
       "</style>\n",
       "<table border=\"1\" class=\"dataframe\">\n",
       "  <thead>\n",
       "    <tr style=\"text-align: right;\">\n",
       "      <th></th>\n",
       "      <th>chunk_id</th>\n",
       "      <th>section</th>\n",
       "      <th>text</th>\n",
       "      <th>pages</th>\n",
       "      <th>word_count</th>\n",
       "      <th>document_id</th>\n",
       "    </tr>\n",
       "  </thead>\n",
       "  <tbody>\n",
       "    <tr>\n",
       "      <th>0</th>\n",
       "      <td>1</td>\n",
       "      <td>Provided proper attribution is provided, Googl...</td>\n",
       "      <td>Attention Is All You Need arXiv:1706.03762v7  ...</td>\n",
       "      <td>['1']</td>\n",
       "      <td>40</td>\n",
       "      <td>1</td>\n",
       "    </tr>\n",
       "    <tr>\n",
       "      <th>1</th>\n",
       "      <td>2</td>\n",
       "      <td>‡Work performed while at Google Research.</td>\n",
       "      <td>‡Work performed while at Google Research.</td>\n",
       "      <td>['1']</td>\n",
       "      <td>6</td>\n",
       "      <td>1</td>\n",
       "    </tr>\n",
       "    <tr>\n",
       "      <th>2</th>\n",
       "      <td>3</td>\n",
       "      <td>31st Conference on Neural Information Processi...</td>\n",
       "      <td>31st Conference on Neural Information Processi...</td>\n",
       "      <td>['1']</td>\n",
       "      <td>13</td>\n",
       "      <td>1</td>\n",
       "    </tr>\n",
       "    <tr>\n",
       "      <th>3</th>\n",
       "      <td>4</td>\n",
       "      <td>Abstract</td>\n",
       "      <td>The dominant sequence transduction models are ...</td>\n",
       "      <td>['1']</td>\n",
       "      <td>298</td>\n",
       "      <td>1</td>\n",
       "    </tr>\n",
       "    <tr>\n",
       "      <th>4</th>\n",
       "      <td>5</td>\n",
       "      <td>1\\nIntroduction</td>\n",
       "      <td>Recurrent neural networks, long short-term mem...</td>\n",
       "      <td>['2']</td>\n",
       "      <td>278</td>\n",
       "      <td>1</td>\n",
       "    </tr>\n",
       "  </tbody>\n",
       "</table>\n",
       "</div>"
      ],
      "text/plain": [
       "   chunk_id                                            section  \\\n",
       "0         1  Provided proper attribution is provided, Googl...   \n",
       "1         2          ‡Work performed while at Google Research.   \n",
       "2         3  31st Conference on Neural Information Processi...   \n",
       "3         4                                           Abstract   \n",
       "4         5                                    1\\nIntroduction   \n",
       "\n",
       "                                                text  pages  word_count  \\\n",
       "0  Attention Is All You Need arXiv:1706.03762v7  ...  ['1']          40   \n",
       "1          ‡Work performed while at Google Research.  ['1']           6   \n",
       "2  31st Conference on Neural Information Processi...  ['1']          13   \n",
       "3  The dominant sequence transduction models are ...  ['1']         298   \n",
       "4  Recurrent neural networks, long short-term mem...  ['2']         278   \n",
       "\n",
       "   document_id  \n",
       "0            1  \n",
       "1            1  \n",
       "2            1  \n",
       "3            1  \n",
       "4            1  "
      ]
     },
     "execution_count": 40,
     "metadata": {},
     "output_type": "execute_result"
    }
   ],
   "source": [
    "import sqlite3\n",
    "import pandas as pd\n",
    "import sqlite_vec\n",
    "\n",
    "\n",
    "\n",
    "sqlite_connection = sqlite3.connect('../app_storage/metadata/sqlite-poc.db')\n",
    "sqlite_connection.enable_load_extension(True)\n",
    "sqlite_vec.load(sqlite_connection)\n",
    "sqlite_connection.enable_load_extension(False)\n",
    "\n",
    "\n",
    "pd.read_sql_query(\"SELECT * FROM chunks;\", sqlite_connection).head()\n"
   ]
  },
  {
   "cell_type": "code",
   "execution_count": 27,
   "metadata": {},
   "outputs": [],
   "source": [
    "chunk_id = 4\n",
    "cursor = sqlite_connection.cursor()\n",
    "\n",
    "cursor.execute(\"\"\"\n",
    "        SELECT text FROM chunks WHERE chunk_id = ?\n",
    "    \"\"\", (chunk_id,))\n",
    "cursor.close()\n",
    "sqlite_connection.close()"
   ]
  },
  {
   "cell_type": "code",
   "execution_count": 21,
   "metadata": {},
   "outputs": [
    {
     "data": {
      "text/plain": [
       "'Attention is all you need'"
      ]
     },
     "execution_count": 21,
     "metadata": {},
     "output_type": "execute_result"
    }
   ],
   "source": [
    "test = {'document_name': 'Attention is all you need',\n",
    "  'metadata': {'title': '',\n",
    "   'author': '',\n",
    "   'subject': '',\n",
    "   'keywords': '',\n",
    "   'creation_date': '2024-04-10'},\n",
    "  'sections': [{'section': 'Provided proper attribution is provided, Google hereby grants permission to\\nreproduce the tables and figures in this paper solely for use in journalistic or\\nscholarly works.',\n",
    "    'text': 'Attention Is All You Need arXiv:1706.03762v7  [cs.CL]  2 Aug 2023 Noam Shazeer∗\\nGoogle Brain\\nnoam@google.com Ashish Vaswani∗\\nGoogle Brain\\navaswani@google.com Łukasz Kaiser∗\\nGoogle Brain\\nlukaszkaiser@google.com Aidan N. Gomez∗†\\nUniversity of Toronto\\naidan@cs.toronto.edu Llion Jones∗\\nGoogle Research\\nllion@google.com Illia Polosukhin∗‡\\nillia.polosukhin@gmail.com',\n",
    "    'pages': ['1'],\n",
    "    'document': 'Attention is all you need',\n",
    "    'word_count': 40,\n",
    "    'hash': '590cac8437f2f1fe'},\n",
    "   {'section': '‡Work performed while at Google Research.',\n",
    "    'text': '‡Work performed while at Google Research.',\n",
    "    'pages': ['1'],\n",
    "    'document': 'Attention is all you need',\n",
    "    'word_count': 6,\n",
    "    'hash': '00cbf2762187a65e'}]}\n",
    "test.get(\"document_name\")"
   ]
  }
 ],
 "metadata": {
  "kernelspec": {
   "display_name": "mozzilla",
   "language": "python",
   "name": "python3"
  },
  "language_info": {
   "codemirror_mode": {
    "name": "ipython",
    "version": 3
   },
   "file_extension": ".py",
   "mimetype": "text/x-python",
   "name": "python",
   "nbconvert_exporter": "python",
   "pygments_lexer": "ipython3",
   "version": "3.11.10"
  }
 },
 "nbformat": 4,
 "nbformat_minor": 2
}
